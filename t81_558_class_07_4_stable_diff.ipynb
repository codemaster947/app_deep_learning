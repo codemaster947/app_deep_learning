{
 "cells": [
  {
   "cell_type": "markdown",
   "metadata": {
    "id": "ZggjUZ5oPvzH"
   },
   "source": [
    "<a href=\"https://colab.research.google.com/github/jeffheaton/app_deep_learning/blob/main/t81_558_class_07_4_stable_diff.ipynb\" target=\"_parent\"><img src=\"https://colab.research.google.com/assets/colab-badge.svg\" alt=\"Open In Colab\"/></a>"
   ]
  },
  {
   "cell_type": "markdown",
   "metadata": {
    "id": "YDTXd8-Lmp8Q"
   },
   "source": [
    "# T81-558: Applications of Deep Neural Networks\n",
    "\n",
    "**Module 7: Image Generative Models**\n",
    "\n",
    "- Instructor: [Jeff Heaton](https://sites.wustl.edu/jeffheaton/), McKelvey School of Engineering, [Washington University in St. Louis](https://engineering.wustl.edu/Programs/Pages/default.aspx)\n",
    "- For more information visit the [class website](https://sites.wustl.edu/jeffheaton/t81-558/).\n"
   ]
  },
  {
   "cell_type": "markdown",
   "metadata": {
    "id": "ncNrAEpzmp8S"
   },
   "source": [
    "# Module 7 Material\n",
    "\n",
    "- Part 7.1 Introduction to Generative AI [[Video]](https://www.youtube.com/watch?v=2FbkbSnS8sg&list=PLjy4p-07OYzulelvJ5KVaT2pDlxivl_BN) [[Notebook]](t81_558_class_07_1_img_generative.ipynb)\n",
    "- Part 7.2 Generating Faces with StyleGAN3 [[Video]](https://www.youtube.com/watch?v=VcI2o1yEQa0&list=PLjy4p-07OYzulelvJ5KVaT2pDlxivl_BN) [[Notebook]](t81_558_class_07_2_gan_intro.ipynb)\n",
    "- Part 7.3 GANS to Enhance Old Photographs Deoldify [[Video]](https://www.youtube.com/watch?v=y7HvjfKsZ50&list=PLjy4p-07OYzulelvJ5KVaT2pDlxivl_BN) [[Notebook]](t81_558_class_07_3_deoldify.ipynb)\n",
    "- **Part 7.4 Text to Images with StableDiffusion** [[Video]](https://www.youtube.com/watch?v=gLj6-gJ-lR4&list=PLjy4p-07OYzulelvJ5KVaT2pDlxivl_BN) [[Notebook]](t81_558_class_07_4_stable_diff.ipynb)\n",
    "- Part 7.5 Finetuning with Dreambooth [[Video]](https://www.youtube.com/watch?v=G_FYFSzkB5Y&list=PLjy4p-07OYzulelvJ5KVaT2pDlxivl_BN) [[Notebook]](t81_558_class_07_5_dream_booth.ipynb)"
   ]
  },
  {
   "cell_type": "markdown",
   "metadata": {
    "id": "HKQqQljyPvzK"
   },
   "source": [
    "# Google CoLab Instructions\n",
    "\n",
    "The following code ensures that Google CoLab is running the correct version of TensorFlow.\n"
   ]
  },
  {
   "cell_type": "code",
   "execution_count": null,
   "metadata": {
    "colab": {
     "base_uri": "https://localhost:8080/"
    },
    "id": "fU9UhAxTmp8S",
    "outputId": "805abe56-18b7-44dd-87d3-082321392d32"
   },
   "outputs": [],
   "source": [
    "try:\n",
    "    import google.colab\n",
    "    COLAB = True\n",
    "    print(\"Note: using Google CoLab\")\n",
    "except:\n",
    "    print(\"Note: not using Google CoLab\")\n",
    "    COLAB = False"
   ]
  },
  {
   "cell_type": "markdown",
   "metadata": {
    "id": "i-qb-mcqmp8U"
   },
   "source": [
    "# Part 7.4 Text to Images with StableDiffusion\n",
    "\n",
    "We will now see how to use Stable Diffusion to create various images from textual prompts. There will be four settings that we will deal with as we generate these images.\n",
    "\n",
    "* **model**: We will use the trained/finetuned model. Different models are optimized for different types of images.\n",
    "* **prompt**: Text that you provide to describe what sort of image you would like created.\n",
    "* **negative prompt**: Text that you describe elements that should not be present in your image.\n",
    "* **seed**: The same image for the prompt/negative prompt will always be produced for the same seed. To get a different image for the same prompts, change the seed.\n",
    "\n",
    "We will begin by installing Stable Diffusion into Google CoLab."
   ]
  },
  {
   "cell_type": "code",
   "execution_count": null,
   "metadata": {
    "colab": {
     "base_uri": "https://localhost:8080/"
    },
    "id": "5hTq84QxeFZL",
    "outputId": "00e0916c-caf6-4e34-b284-75d1f4271f6b"
   },
   "outputs": [],
   "source": [
    "!pip install --upgrade diffusers[torch]\n",
    "!pip install k_diffusion\n",
    "!pip install transformers scipy ftfy accelerate"
   ]
  },
  {
   "cell_type": "markdown",
   "metadata": {
    "id": "_cJMjB-k9NnL"
   },
   "source": [
    "## Basic Models\n",
    "\n",
    "To make use of Stable Diffusion we will use the HuggingFace DiffusionPipeline. When setting up the pipeline we specify to use the \"CompVis/stable-diffusion-v1-4\" model, which is a basic model created to be used with StableDiffusion. The following code sets up this model and downloads it from HuggingFace."
   ]
  },
  {
   "cell_type": "code",
   "execution_count": null,
   "metadata": {
    "colab": {
     "base_uri": "https://localhost:8080/",
     "height": 158,
     "referenced_widgets": [
      "e377626544bc4ddab9a3d91851ccd934",
      "20de44cc027847ae9b71475deb77122d",
      "193eb035be464983a1fcab12cf7f2a87",
      "4732a169daf8485a889a06bf798bbc32",
      "327bad860221435d949a16bcfbd58e3b",
      "a2e752b385fb4603a6fac654c1a2b8fe",
      "a1cfdfed4f9245ac9eceb9132bdad235",
      "8938623ff0e2426592fc2e62d80bda0b",
      "10140f1e9c614edd82fc1afeff845f7b",
      "31d32f8712aa40e6acd9284ddd7211e2",
      "b2d5b1e3848f4efa81ff2db99b3fa767"
     ]
    },
    "id": "lm9K2x9J9qTC",
    "outputId": "dbd1fb4f-de7b-482b-b91b-7ed1d9201cc7"
   },
   "outputs": [],
   "source": [
    "from diffusers import DiffusionPipeline\n",
    "import torch\n",
    "\n",
    "pipe = DiffusionPipeline.from_pretrained(\n",
    "    \"CompVis/stable-diffusion-v1-4\",\n",
    "    custom_pipeline=\"lpw_stable_diffusion\",\n",
    "    torch_dtype=torch.float16\n",
    ")\n",
    "pipe=pipe.to(\"cuda\")"
   ]
  },
  {
   "cell_type": "markdown",
   "metadata": {
    "id": "vQn_b0CJKNfj"
   },
   "source": [
    "We will begin by creating a simple picture of an astronaut playing golf on the moon! We first use the seed of 100, you could also use -1 to request a random seed. We specify both the prompt and negative prompt.\n",
    "\n",
    "This pipeline does contain code to ensure that no images generated are \"not safe for work\" (NSFW). This setting tries to protect you from unsafe images. If such an image is generated, you will see the following message.\n",
    "\n",
    "```\n",
    "Potential NSFW content was detected in one or more images. A black image will be returned instead. Try again with a different prompt and/or seed.\n",
    "```\n",
    "\n",
    "You may wish to disable this feature. To do this, uncomment the pipe.safety_checker line. Be cafeful, if you do disable this, as unsafe images may be generated containing NSFW themes, which might contain violence, nudity, or sexual themes.\n",
    "\n",
    "The following code generates the astronaut image."
   ]
  },
  {
   "cell_type": "code",
   "execution_count": null,
   "metadata": {
    "colab": {
     "base_uri": "https://localhost:8080/",
     "height": 561,
     "referenced_widgets": [
      "9e406bc00edd46e381f3cf9ef49fb9a7",
      "433e879a99cf4fc3987a61bef5250da9",
      "d55a1a799cd341daae48a8264c98e771",
      "a595bbed0f3e470cace6de1876711be9",
      "4d05de12f3464a8cbd3abcdc253ee1db",
      "1ba1deeb82884464af8711efee640bb2",
      "ba2fe2f972b5486e99f6168a1ce30944",
      "ff2c414f1a354ba09d56e1d9a71be2e0",
      "22d5becbfe3a4038811592cfc89c80ad",
      "17ddbe43eb784ba8a6255821eadac0cf",
      "45abfdbb5b724153996d17c073d023cc"
     ]
    },
    "id": "SS7lz8YlAWp1",
    "outputId": "dfe17ce1-c88a-458f-bf2d-923f712744eb"
   },
   "outputs": [],
   "source": [
    "# Random number seed, -1 for random seed\n",
    "seed = 100 #-1\n",
    "seed = random.randint(0, 2**32) if seed == -1 else seed\n",
    "generator = torch.Generator(device='cuda').manual_seed(int(seed))\n",
    "\n",
    "# Prompts to generate\n",
    "prompt= \"\"\"\n",
    "astronaut playing golf on the moon\"\"\"\n",
    "\n",
    "neg_prompt = \"\"\"\n",
    "signature, watermark\n",
    "\"\"\"\n",
    "\n",
    "#pipe.safety_checker = lambda images, clip_input: (images, False)\n",
    "pipe.text2img(prompt, negative_prompt=neg_prompt, width=512,height=512,\n",
    "              max_embeddings_multiples=3,generator=generator).images[0]"
   ]
  },
  {
   "cell_type": "markdown",
   "metadata": {
    "id": "5JwQI2dT50jg"
   },
   "source": [
    "## Realistic Models\n",
    "\n",
    "You might like to try adjusting the code in the previous section to create other images. If you are trying to create images of people, you will be better served with a model like Realistic Vision, which will be demonstrated in this section. The following code loads Realistic Vision."
   ]
  },
  {
   "cell_type": "code",
   "execution_count": null,
   "metadata": {
    "colab": {
     "base_uri": "https://localhost:8080/",
     "height": 158,
     "referenced_widgets": [
      "d6389532ec334f6aa05096f2e282d6bd",
      "66aaa7326a2743f1b0856ee0c243a444",
      "d24f0d26c8cc4b29ab8c31ee22dbad6d",
      "f2533b08d5864ab0bb4178e542e4aa60",
      "2d12173b279c410f94cf59f7e9b79ef0",
      "0d86652cefd6470b9ddaf84c8baa775c",
      "d5e32eed73ed487593747f70b5a99a32",
      "eeeecc5b38714147a5f15c49cc150179",
      "e68d7817df1a4c7b8f3cb0b46c45f309",
      "166b57f19ef8451b9bb3adfc19978736",
      "d11f6ca0092a49a382ea3d39bf26b257"
     ]
    },
    "id": "krSCpViWxptS",
    "outputId": "ee70d9a4-835e-4d6c-adcf-479c633b8a1d"
   },
   "outputs": [],
   "source": [
    "from diffusers import DiffusionPipeline\n",
    "import torch\n",
    "\n",
    "pipe = DiffusionPipeline.from_pretrained(\n",
    "    #'hakurei/waifu-diffusion',\n",
    "    \"SG161222/Realistic_Vision_V2.0\",\n",
    "    custom_pipeline=\"lpw_stable_diffusion\",\n",
    "    generator=generator,\n",
    "    torch_dtype=torch.float16\n",
    ")\n",
    "pipe=pipe.to(\"cuda\")"
   ]
  },
  {
   "cell_type": "markdown",
   "metadata": {
    "id": "G0A2sbZENa7G"
   },
   "source": [
    "We now generate an image with a much more complex prompt. The positive and negative prompts describe how to generate an image of a young woman. Stable diffusion prompts are usually comma separated lists of attributes to draw. You will notice that some are enclosed in paranthesis; which designates that this attribute is more important. A number, near the end, separated by a colon specifies how important."
   ]
  },
  {
   "cell_type": "code",
   "execution_count": null,
   "metadata": {
    "colab": {
     "base_uri": "https://localhost:8080/",
     "height": 599,
     "referenced_widgets": [
      "e292d15181b84409adb4823f4cef6b09",
      "2c46b35aef684d88aa39660150beca94",
      "e8ffa8ed379a446e877d2d0ed997f719",
      "d33ae8f2d0124ed4a88fd1047afc2493",
      "bf519fe9dae542c19a865da086b1dff5",
      "d5e10b1a1b484a6aa76a1997a13f751c",
      "9c52c7f64ce2492aae90e52e58a56a9b",
      "4b79276c8dbe4c8b8087b12f36b8c028",
      "204119ef49374ed6a241378d41596651",
      "e507e1814fc64e3ebf7845ced96a15d8",
      "1fec5cecd42e4ceb84d13573be515436"
     ]
    },
    "id": "dIBmyr-50MRG",
    "outputId": "85c870ad-7436-4774-b006-1fceeec90585"
   },
   "outputs": [],
   "source": [
    "# Random number seed, -1 for random seed\n",
    "seed = 102 #-1\n",
    "seed = random.randint(0, 2**32) if seed == -1 else seed\n",
    "generator = torch.Generator(device='cuda').manual_seed(int(seed))\n",
    "\n",
    "# Prompts to generate\n",
    "prompt= \"\"\"\n",
    "(woman age 26 standing by tree), (long blonde hair:1.2), ray traced shadows,\n",
    "RAW, 8k, (eczema:0.7), (sub-surface scattering:1.55), (sweat:1.22), (freckles:0.55),\n",
    "highly detailed skin, (Acne:0.7), (FACE1:0.5), (FACE2:1.2), (FACE3:0.85),\n",
    "perfect eyes, no makeup. (skin spores:1.05), (skin spores:1.05),\n",
    "ultra detailed face, ultra detailed skin, film grain, ray tracing, studio lighting\"\"\"\n",
    "\n",
    "neg_prompt = \"\"\"\n",
    "signature, watermark, airbrush, photoshop, plastic doll,\n",
    "(ugly eyes, deformed iris, deformed pupils, fused lips and teeth:1.2),\n",
    "(un-detailed skin, semi-realistic, cgi, 3d, render, sketch, cartoon,\n",
    "drawing, anime:1.2), text, close up, cropped, out of frame, worst quality,\n",
    "low quality, jpeg artifacts, ugly, duplicate, morbid, mutilated, extra fingers,\n",
    "mutated hands, poorly drawn hands, poorly drawn face, mutation, deformed, blurry,\n",
    "dehydrated, bad anatomy, bad proportions, extra limbs, cloned face, disfigured,\n",
    "gross proportions, malformed limbs, missing arms, missing legs, extra arms,\n",
    "extra legs, fused fingers, too many fingers, long neck, head wear, masculine,\n",
    "obese, fat, out of frame\"\"\"\n",
    "\n",
    "#pipe.safety_checker = lambda images, clip_input: (images, False)\n",
    "pipe.text2img(prompt, negative_prompt=neg_prompt, width=512,height=512,\n",
    "              max_embeddings_multiples=3,generator=generator).images[0]"
   ]
  },
  {
   "cell_type": "markdown",
   "metadata": {
    "id": "3Y62yVvA419h"
   },
   "source": [
    "## Anime Models\n",
    "\n",
    "If you would like to generate cartoon or Anime style images, the waifu-diffusion model will work nicely. The code below loads this model and generates an Anime character."
   ]
  },
  {
   "cell_type": "code",
   "execution_count": null,
   "metadata": {
    "colab": {
     "base_uri": "https://localhost:8080/",
     "height": 140,
     "referenced_widgets": [
      "3984008a267a4af5bbaead77390d0146",
      "b95c28eef7844e6d91c0df3bd0735e95",
      "120b3ae5173a46cf876ef7c279ccc85c",
      "dd6afdf24fc84e828d15b865e93ef3c1",
      "5f60d72e70fc467bbd2def68a27981a0",
      "0294efe6b36d471f87d2809e32dac1d0",
      "34067997258c4a11b6d8d1f37da12afb",
      "afd292d75be84260bce9aee706a16cb0",
      "8169f8d0b1d542a3a0218db6cf588642",
      "ecc8e55cb946465ebe9fd97169e9e71d",
      "123f50cce30e4e21b54947ef3188ecdb"
     ]
    },
    "id": "G8C0p0Ha4AYb",
    "outputId": "ce5ceb7e-f571-4557-d821-13fcd9e2b343"
   },
   "outputs": [],
   "source": [
    "from diffusers import DiffusionPipeline\n",
    "import torch\n",
    "\n",
    "pipe = DiffusionPipeline.from_pretrained(\n",
    "    \"hakurei/waifu-diffusion\",\n",
    "    custom_pipeline=\"lpw_stable_diffusion\",\n",
    "    generator=generator,\n",
    "    torch_dtype=torch.float16\n",
    ")\n",
    "pipe=pipe.to(\"cuda\")"
   ]
  },
  {
   "cell_type": "code",
   "execution_count": null,
   "metadata": {
    "colab": {
     "base_uri": "https://localhost:8080/",
     "height": 561,
     "referenced_widgets": [
      "19e6d8275dc44e8d901fc8fb0d4aa4d5",
      "4ef8f59885ed4cb08fa5f23f3ee4a32e",
      "4a1d6ac207c84221b7cbe7bec071b4a4",
      "cf559a1447fa440c9adeddf067d78f27",
      "5461c892564a4cdba14ccb3a59eeb219",
      "231707356a5e4aaab74e7705418181dd",
      "92256fbe340246799a17f3591f282930",
      "6ece474e775e4922ab56dc5aec38fa54",
      "2d303d1c3b074233baf9fbc1a07e9f5a",
      "82c15bee7786414a9b0419e42f6be47e",
      "9ff55541c3114b549dbc26dc0a063b7e"
     ]
    },
    "id": "bAqc1vb44TE7",
    "outputId": "d60ce37f-cc75-47dc-f74f-594c97bd1d7e"
   },
   "outputs": [],
   "source": [
    "prompt = \"\"\"\n",
    "best_quality (1girl:1.3) bow bride brown_hair closed_mouth frilled_bow\n",
    "frilled_hair_tubes frills (full_body:1.3) fox_ear hair_bow hair_tubes\n",
    "happy hood japanese_clothes kimono long_sleeves red_bow smile solo tabi\n",
    "uchikake white_kimono wide_sleeves cherry_blossoms\"\"\"\n",
    "neg_prompt = \"\"\"\n",
    "lowres, bad_anatomy, error_body, error_hair, error_arm, error_hands, bad_hands,\n",
    "error_fingers, bad_fingers, missing_fingers, error_legs, bad_legs, multiple_legs,\n",
    "missing_legs, error_lighting, error_shadow, error_reflection, text, error,\n",
    "extra_digit, fewer_digits, cropped, worst_quality, low_quality, normal_quality,\n",
    "jpeg_artifacts, signature, watermark, username, blurry\"\"\"\n",
    "\n",
    "# Random number seed, -1 for random seed\n",
    "seed = 105 #-1\n",
    "seed = random.randint(0, 2**32) if seed == -1 else seed\n",
    "generator = torch.Generator(device='cuda').manual_seed(int(seed))\n",
    "\n",
    "# Generate the image\n",
    "pipe.text2img(prompt, negative_prompt=neg_prompt, width=512,height=512,\n",
    "              max_embeddings_multiples=3,generator=generator).images[0]"
   ]
  }
 ],
 "metadata": {
  "accelerator": "GPU",
  "anaconda-cloud": {},
  "colab": {
   "gpuType": "T4",
   "provenance": []
  },
  "kernelspec": {
   "display_name": "Python 3.9 (torch)",
   "language": "python",
   "name": "pytorch"
  },
  "language_info": {
   "codemirror_mode": {
    "name": "ipython",
    "version": 3
   },
   "file_extension": ".py",
   "mimetype": "text/x-python",
   "name": "python",
   "nbconvert_exporter": "python",
   "pygments_lexer": "ipython3",
   "version": "3.9.16"
  }
 },
 "nbformat": 4,
 "nbformat_minor": 0
}
