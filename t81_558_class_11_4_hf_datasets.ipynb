{
 "cells": [
  {
   "cell_type": "markdown",
   "metadata": {
    "id": "3CF2edFAI4Uj"
   },
   "source": [
    "<a href=\"https://colab.research.google.com/github/jeffheaton/app_deep_learning/blob/main/t81_558_class_11_4_hf_datasets.ipynb\" target=\"_parent\"><img src=\"https://colab.research.google.com/assets/colab-badge.svg\" alt=\"Open In Colab\"/></a>\n"
   ]
  },
  {
   "cell_type": "markdown",
   "metadata": {
    "id": "RvbM-RwHI4Ul"
   },
   "source": [
    "# T81-558: Applications of Deep Neural Networks\n",
    "**Module 11: Natural Language Processing with Hugging Face**\n",
    "* Instructor: [Jeff Heaton](https://sites.wustl.edu/jeffheaton/), McKelvey School of Engineering, [Washington University in St. Louis](https://engineering.wustl.edu/Programs/Pages/default.aspx)\n",
    "* For more information visit the [class website](https://sites.wustl.edu/jeffheaton/t81-558/)."
   ]
  },
  {
   "cell_type": "markdown",
   "metadata": {
    "id": "5dE7A-0aI4Ul"
   },
   "source": [
    "# Module 11 Material\n",
    "\n",
    "* Part 11.1: Introduction to Hugging Face [[Video]](https://www.youtube.com/watch?v=PzuL84ksRuE&list=PLjy4p-07OYzuy_lHcRW8lPTLPTTOmUpmi) [[Notebook]](t81_558_class_11_1_hf.ipynb)\n",
    "* Part 11.2: Hugging Face in Python [[Video]](https://www.youtube.com/watch?v=tkGIF4CFoV4&list=PLjy4p-07OYzuy_lHcRW8lPTLPTTOmUpmi) [[Notebook]](t81_558_class_11_2_py_huggingface.ipynb)\n",
    "* Part 11.3: Hugging Face Tokenizers [[Video]](https://www.youtube.com/watch?v=Cz2nvfK28eI&list=PLjy4p-07OYzuy_lHcRW8lPTLPTTOmUpmi) [[Notebook]](t81_558_class_11_3_tokenizers.ipynb)\n",
    "* **Part 11.4: Hugging Face Datasets** [[Video]](https://www.youtube.com/watch?v=yLlCZLzE2XU&list=PLjy4p-07OYzuy_lHcRW8lPTLPTTOmUpmi) [[Notebook]](t81_558_class_11_4_hf_datasets.ipynb)\n",
    "* Part 11.5: Training Hugging Face Models [[Video]](https://www.youtube.com/watch?v=7YZOik5S3vs&list=PLjy4p-07OYzuy_lHcRW8lPTLPTTOmUpmi) [[Notebook]](t81_558_class_11_5_hf_train.ipynb)\n"
   ]
  },
  {
   "cell_type": "markdown",
   "metadata": {
    "id": "9Z4A091yI4Um"
   },
   "source": [
    "# Google CoLab Instructions\n",
    "\n",
    "The following code checks if Google CoLab is running."
   ]
  },
  {
   "cell_type": "code",
   "execution_count": null,
   "metadata": {
    "colab": {
     "base_uri": "https://localhost:8080/"
    },
    "id": "RJmzbge9I4Um",
    "outputId": "d97197f2-b51e-4f6d-ab9a-1bec6dbda00d"
   },
   "outputs": [],
   "source": [
    "try:\n",
    "    from google.colab import drive\n",
    "    COLAB = True\n",
    "    print(\"Note: using Google CoLab\")\n",
    "except:\n",
    "    print(\"Note: not using Google CoLab\")\n",
    "    COLAB = False"
   ]
  },
  {
   "cell_type": "markdown",
   "metadata": {
    "id": "vdNN6e45I4Un"
   },
   "source": [
    "# Part 11.4: Hugging Face Datasets\n",
    "\n",
    "The Hugging Face hub includes data sets useful for natural language processing (NLP). The Hugging Face library provides functions that allow you to navigate and obtain these data sets. When we access Hugging Face data sets, the data is in a format specific to Hugging Face. In this part, we will explore this format and see how to convert it to Pandas or TensorFlow data.\n",
    "\n",
    "We begin by installing Hugging Face if needed. It is also essential to install Hugging Face datasets.\n",
    "\n"
   ]
  },
  {
   "cell_type": "code",
   "execution_count": null,
   "metadata": {
    "colab": {
     "base_uri": "https://localhost:8080/"
    },
    "id": "3jGET2abMjcl",
    "outputId": "71772be8-6307-42bb-b2b3-3a3845c7267e"
   },
   "outputs": [],
   "source": [
    "# HIDE OUTPUT\n",
    "!pip install transformers\n",
    "!pip install transformers[sentencepiece]\n",
    "!pip install datasets"
   ]
  },
  {
   "cell_type": "markdown",
   "metadata": {
    "id": "4QgmlpyezhMy"
   },
   "source": [
    "We begin by querying Hugging Face to obtain the total count and names of the data sets. This code obtains the total count and the names of the first five datasets."
   ]
  },
  {
   "cell_type": "code",
   "execution_count": null,
   "metadata": {
    "colab": {
     "base_uri": "https://localhost:8080/"
    },
    "id": "TdqEkbHwH5gy",
    "outputId": "b9463112-51aa-4504-8dfc-645ac3d14bc6"
   },
   "outputs": [],
   "source": [
    "from datasets import list_datasets\n",
    "\n",
    "all_datasets = list_datasets()\n",
    "\n",
    "print(f\"Hugging Face hub currently contains {len(all_datasets)}\")\n",
    "print(f\"datasets. The first 5 are:\")\n",
    "print(\"\\n\".join(all_datasets[:10]))\n"
   ]
  },
  {
   "cell_type": "markdown",
   "metadata": {
    "id": "wKgfbfNXeAiD"
   },
   "source": [
    "We begin by loading the emotion data set from the Hugging Face hub. [Emotion](https://huggingface.co/datasets/emotion) is a dataset of English Twitter messages with six basic emotions: anger, fear, joy, love, sadness, and surprise. [[Cite:saravia2018carer]](https://paperswithcode.com/paper/carer-contextualized-affect-representations) The following code loads the emotion data set from the Hugging Face hub."
   ]
  },
  {
   "cell_type": "code",
   "execution_count": null,
   "metadata": {
    "colab": {
     "base_uri": "https://localhost:8080/",
     "height": 281,
     "referenced_widgets": [
      "1178acd973244bae94d9739a216aa91c",
      "7b32ada6bd7746fe9d3c864a7b237a81",
      "6be0e1c317014f488746b4fce5616e5e",
      "65d063ad8091441aac1515a240a5d8e6",
      "4a3993e4ebdd4287b0dc565d2acf2212",
      "f0c13645837e4aefbc0854db0e34fc6b",
      "a3ae95ede6354eb7b07152eb6c6772a0",
      "5a072b72c68f4427906f5821d2541930",
      "29e6751e3872452fa3f927b801b1f63e",
      "a1f344ae1d2c4d138069dd110dafebbd",
      "d95cdc6dae084f4da6cc8a60920a1522",
      "2f697597828b4a75ae58b8e0ee04349e",
      "29d87f692e2a47079d11752ae43afabf",
      "a48926e8bf7344e8a66fa4f4cbafcdbb",
      "6ef8269f3655464ca27b12b1a1281e10",
      "5872f970954a432094445deb046b2251",
      "9422ca67c31b44cca1770f254a6aa913",
      "778617e6de7647acac093018652d3d0c",
      "8c72192b1ab04323b63212d1f5009c77",
      "3795893706a943c49226544f8fd1a7a6",
      "73f959152b4d4b34a3f7c8efd5b6b139",
      "fa9edbf520674d12a91c0ef33f11b5bf",
      "8871116ab32c499199c9e71330718800",
      "03fee2fa09eb4b1dbade9ba924681340",
      "1e25c4ffbda445cbba54090bade7b809",
      "e0b476605d83475cb0640be4efe5465a",
      "50ccd144b4f8400a9b8fa203000c20ca",
      "2febb9e195c246888dbe8ccf3bb40bb4",
      "4fe21a1ee59c4d50a6305663c78d816b",
      "409ccd7e81b4460a9c79f34f9ff3d8a3",
      "37079f299fba439382329aeaaf031357",
      "17db9af98be541cd887867f8d60d002e",
      "8aed87a37b8d4b0880a912f7d211c9ec",
      "efda6d5b561e40b992e9882881bc5599",
      "005cf5a05caf42339c2d30a1d33c42bc",
      "a38e6e918822413f90a26ea359493432",
      "0343452c6c0a479daa3ca43473a084fc",
      "df7219fb1f154ae69f6a766bd18720f5",
      "aa8f01ba3f854af7a9c3fbf574ae61eb",
      "e445cc0f7dd34cd38e40c8162fb52160",
      "05366b9f577e4954ac56e9ca02ffbc10",
      "3f073a48bba1429ead497e72b5a563de",
      "4be871ad0d4341dbbf3d1c18c5097ad8",
      "b139f1cbc0e04fa79ea063ae4152b86f",
      "01987ffa616e4495bf84a2ec88d7ec9d",
      "f9494d6e54bf489e92afb2d327f3b108",
      "c655b9ce28d04aea9ef8bb2a51b148b3",
      "d1d3fe362f0d464e98fda71da66ee619",
      "58735c7bae324cf0a064756a62e2e267",
      "1c4fc56765364f108c6945a95b278f39",
      "ab6f6becce59495abc65be97aff5c820",
      "055bee9b8cb84d3f9e301c51e04717a7",
      "22922c96515c49a88391e3e9748f1656",
      "d195d63596f944a1a555f9547e606ad3",
      "4df5ea3d69bc45beb6ba3f04ff24bc65",
      "c75e0c1884384a4b8f48c6db0559ce91",
      "48b8d0da9d044a38a35bb79f9423e0bd",
      "ec8e03ac395047a98380410dd1a1460b",
      "92be140876414a79aea3df87ba77d399",
      "4d310517d87541f2b734ba3c1c0b4831",
      "f44309b455004034b3461a86475c581e",
      "bfd2ab040c5a423fa70be57219d6f203",
      "4eba78cd82a543c79facfeae224b2cf9",
      "ac1df0b5f2b846bfb8dba1305a9d6490",
      "5d675bde2c884ddfa3fec96090f5d555",
      "21b03c6f2d2b4b2b993099d28cfcaf9d",
      "9f14388be5a341878e04674a58ad0b5b",
      "36768170e94342d48f0cedf19a61cb61",
      "556c05f31b684f35bb8e94458fdb2505",
      "cb046602e203438a9bbfffe268e1ae82",
      "2ea5d0324eb845b99f31ebb844ce4df3",
      "9879ae3913ea4983ad5a6f88f4123a64",
      "1a13326bc3c149dea5c1fa53fb683aa7",
      "7ae370e8f53a45a59761ca8f5e439601",
      "9b218f701fcf4919a4d1d112b8584f11",
      "ebe0fcc2d04242b88496ee86215709ee",
      "7b3c51be21e548e18c3128bbc5fbd80e",
      "dc9f40e58bba42a09631de85adaf678e",
      "e38bcacc6b584f59be10ba4b9ab187a4",
      "dde0d2350fce4e1e9137eae8d625da5a",
      "25bb596eee034b0b8b55ae8515cc7665",
      "bfa9796dbc7e45a98e54061a8f2e094f",
      "1a87d45f5ae44ab7b56a5f00467d1169",
      "4897018eaa2b434f9039243be4136ba1",
      "f88f18a726474afcb288d0e92ec6842f",
      "5c6579f8548f4627906aa1ccfe0d6671",
      "1ec9187fb07c4173b0a4307aff816f0b",
      "a2cfd30225034985835ececb1bf0789f",
      "8a0e2221ff4d4bca8c12af4c2b99db16",
      "7a78b72bf13b4fc8abfdde666470a079",
      "661bc34c212e416e84f4bb347fdc3a07",
      "f15f31c7bdf44f8ea6e4750b523b88cd",
      "df475dfada8e4a1d99d2385a45c86312",
      "ea5439d4a1614959bca70e3e525523a8",
      "b23af3b76e494abe92b9ff82424a67d6",
      "0305fe56578c4cdca5113a0cc9a22470",
      "82af7e4161214c8590fa223d0b2a6f9b",
      "70a78e4ca0d242d9bd4adcda171893c3",
      "b16c7f73ee354a4ea33e924e6e4c186f"
     ]
    },
    "id": "3rY9MS_LZSNs",
    "outputId": "3ac0ceaa-fa11-463a-feae-c3cc4bda165c"
   },
   "outputs": [],
   "source": [
    "from datasets import load_dataset\n",
    "\n",
    "emotions = load_dataset(\"emotion\")\n"
   ]
  },
  {
   "cell_type": "markdown",
   "metadata": {
    "id": "NCs4IdSyi9zm"
   },
   "source": [
    "A quick scan of the downloaded data set reveals its structure. In this case, Hugging Face already separated the data into training, validation, and test data sets. The training set consists of 16,000 observations, while the test and validation sets contain 2,000 observations. The dataset is a Python dictionary that includes a Dataset object for each of these three divisions. The datasets only contain two columns, the text and the emotion label for each text sample."
   ]
  },
  {
   "cell_type": "code",
   "execution_count": null,
   "metadata": {
    "colab": {
     "base_uri": "https://localhost:8080/"
    },
    "id": "XOLK7xRoF-IA",
    "outputId": "d5dfca64-c77c-4141-8065-373a0036a62d"
   },
   "outputs": [],
   "source": [
    "emotions"
   ]
  },
  {
   "cell_type": "markdown",
   "metadata": {
    "id": "Nk8X87r1i7-u"
   },
   "source": [
    "You can see a single observation from the training data set here. This observation includes both the text sample and the assigned emotion label. The label is a numeric index representing the assigned emotion."
   ]
  },
  {
   "cell_type": "code",
   "execution_count": null,
   "metadata": {
    "colab": {
     "base_uri": "https://localhost:8080/"
    },
    "id": "ngTHE2qwGKRF",
    "outputId": "b5ada974-8e97-4197-fc58-45b5591176cc"
   },
   "outputs": [],
   "source": [
    "emotions['train'][2]\n"
   ]
  },
  {
   "cell_type": "markdown",
   "metadata": {
    "id": "37hgNI3Akh2d"
   },
   "source": [
    "We can display the labels in order of their index labels."
   ]
  },
  {
   "cell_type": "code",
   "execution_count": null,
   "metadata": {
    "colab": {
     "base_uri": "https://localhost:8080/"
    },
    "id": "slGcHMCJGZKe",
    "outputId": "3db1c0a2-454b-4709-f2e1-c4aecafc33df"
   },
   "outputs": [],
   "source": [
    "emotions['train'].features\n"
   ]
  },
  {
   "cell_type": "markdown",
   "metadata": {
    "id": "cajtEwpzki9Q"
   },
   "source": [
    "Hugging face can provide these data sets in a variety of formats. The following code receives the emotion data set as a Pandas data frame."
   ]
  },
  {
   "cell_type": "code",
   "execution_count": null,
   "metadata": {
    "colab": {
     "base_uri": "https://localhost:8080/",
     "height": 206
    },
    "id": "cSC4rP2THDA2",
    "outputId": "383634d2-cda7-43a1-e623-79fe8958234d"
   },
   "outputs": [],
   "source": [
    "import pandas as pd\n",
    "\n",
    "emotions.set_format(type='pandas')\n",
    "df = emotions[\"train\"][:]\n",
    "df[:5]\n"
   ]
  },
  {
   "cell_type": "markdown",
   "metadata": {
    "id": "ZthlklIulXFb"
   },
   "source": [
    "We can use the Pandas \"apply\" function to add the textual label for each observation."
   ]
  },
  {
   "cell_type": "code",
   "execution_count": null,
   "metadata": {
    "colab": {
     "base_uri": "https://localhost:8080/",
     "height": 206
    },
    "id": "y3dtNErVHVqZ",
    "outputId": "216b8501-54df-4e9d-9133-0abfe864d2ed"
   },
   "outputs": [],
   "source": [
    "def label_it(row):\n",
    "  return emotions[\"train\"].features[\"label\"].int2str(row)\n",
    "\n",
    "\n",
    "df['label_name'] = df[\"label\"].apply(label_it)\n",
    "df[:5]\n"
   ]
  },
  {
   "cell_type": "markdown",
   "metadata": {
    "id": "yLm1p1Stllc-"
   },
   "source": [
    "With the data in Pandas format and textually labeled, we can display a bar chart of the frequency of each of the emotions."
   ]
  },
  {
   "cell_type": "code",
   "execution_count": null,
   "metadata": {
    "colab": {
     "base_uri": "https://localhost:8080/",
     "height": 265
    },
    "id": "GOpse31qH2fn",
    "outputId": "bea59d20-d871-4790-aa37-6ce14a1b8a97"
   },
   "outputs": [],
   "source": [
    "import matplotlib.pyplot as plt\n",
    "\n",
    "df[\"label_name\"].value_counts(ascending=True).plot.barh()\n",
    "plt.show()\n"
   ]
  },
  {
   "cell_type": "markdown",
   "metadata": {
    "id": "x7SpKJbLlzS6"
   },
   "source": [
    "Finally, we utilize Hugging Face tokenizers and data sets together. The following code tokenizes the entire emotion data set. You can see below that the code has transformed the training set into subword tokens that are now ready to be used in conjunction with a transformer for either inference or training."
   ]
  },
  {
   "cell_type": "code",
   "execution_count": null,
   "metadata": {
    "colab": {
     "base_uri": "https://localhost:8080/",
     "height": 197,
     "referenced_widgets": [
      "38c4851c38614d028892d9b70658abcb",
      "09fcc7a58cd24c6b87ce747d0af33c54",
      "fd97c9afa65246ddad035814ad25a3df",
      "2ec4ef57805843b1810d0025b6cdff2c",
      "d442bb808bbf4c129fe9a5a37a6d54c4",
      "79018ba8ea6c4917b2445bcc9e5d8f53",
      "3455385b1ca44486a749709bb7cedad5",
      "873a17b8d73d461bbfa48fcc749a929a",
      "93581947060c4bcd88c2f1779bf81e32",
      "d8bff10057f0451e8963d10ce73e6d1e",
      "0d48a48b29cd4f4dacfe5092d581b5a5",
      "e9804c22f9334cc7a5b7f85fc8e1a011",
      "20a74b3e98bf4caea0d67bc443b0af2d",
      "4c05b09dde37482dba80177762ed594c",
      "0426edb9e1854228be92f4094fb889c2",
      "79f70eb60cea4d9bb708f1f861107a4f",
      "4afd326941b04a15b7efc3070e81b670",
      "0f0b52a4f4be41c89d6ad61c28ece54e",
      "dfddf8faed604868b812ebf93fb3746b",
      "dacb4e86bbe14b1a8ad9ce84bfd3b5fb",
      "639e8dc156e84d34970942d56c6b2531",
      "4f787f0533584252bf2eabeb35f93b08",
      "c9d2af287506443581f9bdaba15e7693",
      "d88eaa536a574f02a5225cff25f111c9",
      "a3914bb5dd23466980de80d3dbf93688",
      "31b35085bb7249f28c6a5e02568215e5",
      "9b51393c4240484584e7e23a657ab438",
      "0cde11a539264c19b4c0765c71d3c0c3",
      "6d297f8e418f4fcc979e43efbd73be05",
      "03e2f9eb59eb4777b0299a1498635bc8",
      "19a29847e8c4493bb27c51509ee8057e",
      "a4afec89545448fd9f35728c2466d3ff",
      "8f4ce599a3c34b269978ec63e6ea1702",
      "47f4bb95baca49afb484d7dee83280f5",
      "5ec3c2c9c2e64cf38d2ba63fb18b07fc",
      "ac6a5bfbb614434ba767426f7cc18b8a",
      "d7b9843f6e7f43a78753d711533a2251",
      "1e06b7f076944844b72de7d07da4ba29",
      "8787b4ccfba9458ab32e681b9e2fb2f6",
      "f4da330e52f1497cbcc6e19f920af3d4",
      "b6a0980720d94695b1957ce19e663b14",
      "6beab62a533d42d58138f29291b7af76",
      "68d47f90fbd548e8823ec1d28068e174",
      "6a8a18635eca4f71af4dabfbe866bd51"
     ]
    },
    "id": "hCyZ0TemIUOe",
    "outputId": "4749824e-3bdc-49f3-c531-fa90cd9b4f15"
   },
   "outputs": [],
   "source": [
    "from transformers import AutoTokenizer\n",
    "\n",
    "\n",
    "def tokenize(rows):\n",
    "    return tokenizer(rows['text'], padding=True, truncation=True)\n",
    "\n",
    "\n",
    "model_ckpt = \"distilbert-base-uncased\"\n",
    "tokenizer = AutoTokenizer.from_pretrained(model_ckpt)\n",
    "\n",
    "emotions.set_format(type=None)\n",
    "\n",
    "encoded = tokenize(emotions[\"train\"][:2])\n",
    "\n",
    "print(\"**Input IDs**\")\n",
    "for a in encoded.input_ids:\n",
    "    print(a)\n"
   ]
  }
 ],
 "metadata": {
  "accelerator": "GPU",
  "anaconda-cloud": {},
  "colab": {
   "collapsed_sections": [],
   "name": "t81_558_class_11_03_hf_datasets.ipynb",
   "provenance": []
  },
  "kernelspec": {
   "display_name": "Python 3.9 (torch)",
   "language": "python",
   "name": "pytorch"
  },
  "language_info": {
   "codemirror_mode": {
    "name": "ipython",
    "version": 3
   },
   "file_extension": ".py",
   "mimetype": "text/x-python",
   "name": "python",
   "nbconvert_exporter": "python",
   "pygments_lexer": "ipython3",
   "version": "3.9.18"
  },
  "varInspector": {
   "cols": {
    "lenName": 16,
    "lenType": 16,
    "lenVar": 40
   },
   "kernels_config": {
    "python": {
     "delete_cmd_postfix": "",
     "delete_cmd_prefix": "del ",
     "library": "var_list.py",
     "varRefreshCmd": "print(var_dic_list())"
    },
    "r": {
     "delete_cmd_postfix": ") ",
     "delete_cmd_prefix": "rm(",
     "library": "var_list.r",
     "varRefreshCmd": "cat(var_dic_list()) "
    }
   },
   "types_to_exclude": [
    "module",
    "function",
    "builtin_function_or_method",
    "instance",
    "_Feature"
   ],
   "window_display": false
  }
 },
 "nbformat": 4,
 "nbformat_minor": 1
}
