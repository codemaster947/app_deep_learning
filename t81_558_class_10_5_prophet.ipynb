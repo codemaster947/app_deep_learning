{
 "cells": [
  {
   "cell_type": "markdown",
   "metadata": {
    "id": "7fITggCEk-ou"
   },
   "source": [
    "<a href=\"https://colab.research.google.com/github/jeffheaton/app_deep_learning/blob/main/t81_558_class_10_5_prophet.ipynb\" target=\"_parent\"><img src=\"https://colab.research.google.com/assets/colab-badge.svg\" alt=\"Open In Colab\"/></a>"
   ]
  },
  {
   "cell_type": "markdown",
   "metadata": {
    "id": "jqxrNDgnk-ox"
   },
   "source": [
    "# T81-558: Applications of Deep Neural Networks\n",
    "**Module 10: Time Series in PyTorch**    \n",
    "\n",
    "* Instructor: [Jeff Heaton](https://sites.wustl.edu/jeffheaton/), McKelvey School of Engineering, [Washington University in St. Louis](https://engineering.wustl.edu/Programs/Pages/default.aspx)\n",
    "* For more information visit the [class website](https://sites.wustl.edu/jeffheaton/t81-558/)."
   ]
  },
  {
   "cell_type": "markdown",
   "metadata": {},
   "source": [
    "# Module 10 Material\n",
    "\n",
    "* Part 10.1: Time Series Data Encoding for Deep Learning, PyTorch [[Video]](https://www.youtube.com/watch?v=CZi5Avp6p1s&list=PLjy4p-07OYzulelvJ5KVaT2pDlxivl_BN) [[Notebook]](t81_558_class_10_1_timeseries.ipynb)\n",
    "* Part 10.2: LSTM-Based Time Series with PyTorch [[Video]](https://www.youtube.com/watch?v=hIQLy5zCgH4&list=PLjy4p-07OYzulelvJ5KVaT2pDlxivl_BN) [[Notebook]](t81_558_class_10_2_lstm.ipynb)\n",
    "* Part 10.3: Transformer-Based Time Series with PyTorch [[Video]](https://www.youtube.com/watch?v=NGzQpphf_Vc&list=PLjy4p-07OYzulelvJ5KVaT2pDlxivl_BN) [[Notebook]](t81_558_class_10_3_transformer_timeseries.ipynb)\n",
    "* Part 10.4: Seasonality and Trend [[Video]](https://www.youtube.com/watch?v=HOkxoLaUF9s&list=PLjy4p-07OYzulelvJ5KVaT2pDlxivl_BN) [[Notebook]](t81_558_class_10_4_seasonal.ipynb)\n",
    "* **Part 10.5: Predicting with Meta Prophet** [[Video]](https://www.youtube.com/watch?v=MzjMVsz0GyA&list=PLjy4p-07OYzulelvJ5KVaT2pDlxivl_BN) [[Notebook]](t81_558_class_10_5_prophet.ipynb)"
   ]
  },
  {
   "cell_type": "markdown",
   "metadata": {
    "id": "BMKSYsCak-ox"
   },
   "source": [
    "# Google CoLab Instructions\n",
    "\n",
    "The following code checks that Google CoLab is and sets up the correct hardware settings for PyTorch.\n"
   ]
  },
  {
   "cell_type": "code",
   "execution_count": null,
   "metadata": {
    "colab": {
     "base_uri": "https://localhost:8080/"
    },
    "id": "8nYbPUxdk-ox",
    "outputId": "84ea2bdb-0cfd-4bf8-ae77-0e2b66b41769"
   },
   "outputs": [],
   "source": [
    "try:\n",
    "    import google.colab\n",
    "    COLAB = True\n",
    "    print(\"Note: using Google CoLab\")\n",
    "except:\n",
    "    print(\"Note: not using Google CoLab\")\n",
    "    COLAB = False\n",
    "\n",
    "# Make use of a GPU or MPS (Apple) if one is available.  (see module 3.2)\n",
    "import torch\n",
    "has_mps = torch.backends.mps.is_built()\n",
    "device = \"mps\" if has_mps else \"cuda\" if torch.cuda.is_available() else \"cpu\"\n",
    "print(f\"Using device: {device}\")"
   ]
  },
  {
   "cell_type": "markdown",
   "metadata": {
    "id": "0PQsTTqAk-oy",
    "papermill": {
     "duration": 0.005301,
     "end_time": "2022-10-30T02:38:21.571057",
     "exception": false,
     "start_time": "2022-10-30T02:38:21.565756",
     "status": "completed"
    },
    "tags": []
   },
   "source": [
    "This notebook makes use of Meta (aka Facebook) Prophet AutoML to forecast time series."
   ]
  },
  {
   "cell_type": "code",
   "execution_count": null,
   "metadata": {
    "_cell_guid": "b1076dfc-b9ad-4769-8c92-a6c4dae69d19",
    "_uuid": "8f2839f25d086af736a60e9eeb907d3b93b6e0e5",
    "id": "2osixEXAk-oy",
    "papermill": {
     "duration": 0.254928,
     "end_time": "2022-10-30T02:38:21.830294",
     "exception": false,
     "start_time": "2022-10-30T02:38:21.575366",
     "status": "completed"
    },
    "tags": []
   },
   "outputs": [],
   "source": [
    "import pandas as pd\n",
    "import os\n",
    "\n",
    "df_sales = pd.read_csv(\"https://data.heatonresearch.com/wustl/CABI/demand-forecast/sales_train.csv\")\n",
    "df_items = pd.read_csv(\"https://data.heatonresearch.com/wustl/CABI/demand-forecast/items.csv\")\n",
    "df_resturant = pd.read_csv(\"https://data.heatonresearch.com/wustl/CABI/demand-forecast/resturants.csv\")\n",
    "\n",
    "df_sales.date = pd.to_datetime(df_sales.date, errors='coerce')"
   ]
  },
  {
   "cell_type": "markdown",
   "metadata": {
    "id": "IlO_50Hpk-oz",
    "papermill": {
     "duration": 0.004059,
     "end_time": "2022-10-30T02:38:21.839554",
     "exception": false,
     "start_time": "2022-10-30T02:38:21.835495",
     "status": "completed"
    },
    "tags": []
   },
   "source": [
    "Begin by producing a line graph of all sales over the provided 3-year timespan. We will use this to train Prophet."
   ]
  },
  {
   "cell_type": "code",
   "execution_count": null,
   "metadata": {
    "colab": {
     "base_uri": "https://localhost:8080/",
     "height": 542
    },
    "id": "I3X9q-B9k-oz",
    "outputId": "2cc04749-b2bc-4a61-cfb8-4dda744117b4",
    "papermill": {
     "duration": 2.838654,
     "end_time": "2022-10-30T02:38:24.682842",
     "exception": false,
     "start_time": "2022-10-30T02:38:21.844188",
     "status": "completed"
    },
    "tags": []
   },
   "outputs": [],
   "source": [
    "import plotly.express as px\n",
    "\n",
    "df_plot = df_sales[['date','item_count']].groupby(['date']).sum().reset_index()\n",
    "fig = px.line(df_plot, x=\"date\", y=\"item_count\", title='Total Sales by Date')\n",
    "fig.show()"
   ]
  },
  {
   "cell_type": "markdown",
   "metadata": {
    "id": "l8kFafC6k-oz",
    "papermill": {
     "duration": 0.004647,
     "end_time": "2022-10-30T02:38:24.692604",
     "exception": false,
     "start_time": "2022-10-30T02:38:24.687957",
     "status": "completed"
    },
    "tags": []
   },
   "source": [
    "Construct prophet and put the previous data into the form expected by prophet."
   ]
  },
  {
   "cell_type": "code",
   "execution_count": null,
   "metadata": {
    "colab": {
     "base_uri": "https://localhost:8080/"
    },
    "id": "UuA5pfUAk-oz",
    "outputId": "4fd8e471-d25c-49c2-b528-c03b53de0727",
    "papermill": {
     "duration": 0.775044,
     "end_time": "2022-10-30T02:38:25.472564",
     "exception": false,
     "start_time": "2022-10-30T02:38:24.697520",
     "status": "completed"
    },
    "tags": []
   },
   "outputs": [],
   "source": [
    "import pandas as pd\n",
    "from prophet import Prophet\n",
    "\n",
    "df_plot.columns = ['ds','y']\n",
    "\n",
    "m = Prophet()\n",
    "m.fit(df_plot)"
   ]
  },
  {
   "cell_type": "markdown",
   "metadata": {
    "id": "EzI2KXTUk-oz",
    "papermill": {
     "duration": 0.004748,
     "end_time": "2022-10-30T02:38:25.482634",
     "exception": false,
     "start_time": "2022-10-30T02:38:25.477886",
     "status": "completed"
    },
    "tags": []
   },
   "source": [
    "Predict one year into the future."
   ]
  },
  {
   "cell_type": "code",
   "execution_count": null,
   "metadata": {
    "colab": {
     "base_uri": "https://localhost:8080/",
     "height": 206
    },
    "id": "b6A920mPk-oz",
    "outputId": "ba36a064-30c6-4df3-e2fc-cf5c6477b9d7",
    "papermill": {
     "duration": 0.030236,
     "end_time": "2022-10-30T02:38:25.517850",
     "exception": false,
     "start_time": "2022-10-30T02:38:25.487614",
     "status": "completed"
    },
    "tags": []
   },
   "outputs": [],
   "source": [
    "future = m.make_future_dataframe(periods=365)\n",
    "future.tail()"
   ]
  },
  {
   "cell_type": "markdown",
   "metadata": {
    "id": "uKE30Kxfk-oz",
    "papermill": {
     "duration": 0.004962,
     "end_time": "2022-10-30T02:38:25.528166",
     "exception": false,
     "start_time": "2022-10-30T02:38:25.523204",
     "status": "completed"
    },
    "tags": []
   },
   "source": [
    "Display the predicted tabular data."
   ]
  },
  {
   "cell_type": "code",
   "execution_count": null,
   "metadata": {
    "colab": {
     "base_uri": "https://localhost:8080/",
     "height": 206
    },
    "id": "efP1u8Vwk-o0",
    "outputId": "a2dec477-47d3-427d-9204-4c7d13ef66ac",
    "papermill": {
     "duration": 1.047554,
     "end_time": "2022-10-30T02:38:26.580923",
     "exception": false,
     "start_time": "2022-10-30T02:38:25.533369",
     "status": "completed"
    },
    "tags": []
   },
   "outputs": [],
   "source": [
    "forecast = m.predict(future)\n",
    "forecast[['ds', 'yhat', 'yhat_lower', 'yhat_upper']].tail()"
   ]
  },
  {
   "cell_type": "markdown",
   "metadata": {
    "id": "NIIaG08Mk-o0",
    "papermill": {
     "duration": 0.005321,
     "end_time": "2022-10-30T02:38:26.591950",
     "exception": false,
     "start_time": "2022-10-30T02:38:26.586629",
     "status": "completed"
    },
    "tags": []
   },
   "source": [
    "Plot the future predictions."
   ]
  },
  {
   "cell_type": "code",
   "execution_count": null,
   "metadata": {
    "colab": {
     "base_uri": "https://localhost:8080/",
     "height": 607
    },
    "id": "XrAqG9EWk-o0",
    "outputId": "118b5bc4-53c7-4051-cfdc-e6c49a6dbcc4",
    "papermill": {
     "duration": 0.505921,
     "end_time": "2022-10-30T02:38:27.103276",
     "exception": false,
     "start_time": "2022-10-30T02:38:26.597355",
     "status": "completed"
    },
    "tags": []
   },
   "outputs": [],
   "source": [
    "fig1 = m.plot(forecast)"
   ]
  },
  {
   "cell_type": "markdown",
   "metadata": {
    "id": "2eJ_fva-k-o0",
    "papermill": {
     "duration": 0.007733,
     "end_time": "2022-10-30T02:38:27.119413",
     "exception": false,
     "start_time": "2022-10-30T02:38:27.111680",
     "status": "completed"
    },
    "tags": []
   },
   "source": [
    "See what seasonality and trend were detected."
   ]
  },
  {
   "cell_type": "code",
   "execution_count": null,
   "metadata": {
    "colab": {
     "base_uri": "https://localhost:8080/",
     "height": 907
    },
    "id": "vbtwgcJBk-o0",
    "outputId": "f6521b2a-a855-4bc1-c2d7-3465f3e12465",
    "papermill": {
     "duration": 0.759456,
     "end_time": "2022-10-30T02:38:27.886524",
     "exception": false,
     "start_time": "2022-10-30T02:38:27.127068",
     "status": "completed"
    },
    "tags": []
   },
   "outputs": [],
   "source": [
    "fig2 = m.plot_components(forecast)"
   ]
  },
  {
   "cell_type": "markdown",
   "metadata": {
    "id": "UUAMaAAMk-o0",
    "papermill": {
     "duration": 0.009384,
     "end_time": "2022-10-30T02:38:27.904735",
     "exception": false,
     "start_time": "2022-10-30T02:38:27.895351",
     "status": "completed"
    },
    "tags": []
   },
   "source": [
    "Use Plotly to generate an interactive plot."
   ]
  },
  {
   "cell_type": "code",
   "execution_count": null,
   "metadata": {
    "colab": {
     "base_uri": "https://localhost:8080/",
     "height": 617
    },
    "id": "xGxwfEQvk-o0",
    "outputId": "03c19be7-30af-4e99-b333-38012d08158c",
    "papermill": {
     "duration": 0.18043,
     "end_time": "2022-10-30T02:38:28.093593",
     "exception": false,
     "start_time": "2022-10-30T02:38:27.913163",
     "status": "completed"
    },
    "tags": []
   },
   "outputs": [],
   "source": [
    "from prophet.plot import plot_plotly, plot_components_plotly\n",
    "plot_plotly(m, forecast)"
   ]
  },
  {
   "cell_type": "markdown",
   "metadata": {
    "id": "4EZxwYGEk-o0",
    "papermill": {
     "duration": 0.010263,
     "end_time": "2022-10-30T02:38:28.115165",
     "exception": false,
     "start_time": "2022-10-30T02:38:28.104902",
     "status": "completed"
    },
    "tags": []
   },
   "source": []
  }
 ],
 "metadata": {
  "accelerator": "GPU",
  "colab": {
   "gpuType": "T4",
   "provenance": []
  },
  "kernelspec": {
   "display_name": "Python 3.11 (torch)",
   "language": "python",
   "name": "pytorch"
  },
  "language_info": {
   "codemirror_mode": {
    "name": "ipython",
    "version": 3
   },
   "file_extension": ".py",
   "mimetype": "text/x-python",
   "name": "python",
   "nbconvert_exporter": "python",
   "pygments_lexer": "ipython3",
   "version": "3.9.18"
  }
 },
 "nbformat": 4,
 "nbformat_minor": 1
}
