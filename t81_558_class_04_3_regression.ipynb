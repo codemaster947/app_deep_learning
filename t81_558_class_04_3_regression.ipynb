{
 "cells": [
  {
   "cell_type": "markdown",
   "metadata": {
    "id": "m50ONO_lTB-X"
   },
   "source": [
    "<a href=\"https://colab.research.google.com/github/jeffheaton/t81_558_deep_learning/blob/pytorch/t81_558_class_04_3_regression.ipynb\" target=\"_parent\"><img src=\"https://colab.research.google.com/assets/colab-badge.svg\" alt=\"Open In Colab\"/></a>"
   ]
  },
  {
   "cell_type": "markdown",
   "metadata": {
    "id": "p6ujmXU6TB-a"
   },
   "source": [
    "# T81-558: Applications of Deep Neural Networks\n",
    "**Module 4: Training for Tabular Data**\n",
    "* Instructor: [Jeff Heaton](https://sites.wustl.edu/jeffheaton/), McKelvey School of Engineering, [Washington University in St. Louis](https://engineering.wustl.edu/Programs/Pages/default.aspx)\n",
    "* For more information visit the [class website](https://sites.wustl.edu/jeffheaton/t81-558/)."
   ]
  },
  {
   "cell_type": "markdown",
   "metadata": {
    "id": "n0GahUXoTB-b"
   },
   "source": [
    "# Module 4 Material\n",
    "\n",
    "* Part 4.1: Encoding a Feature Vector for PyTorch Deep Learning [[Video]](https://www.youtube.com/watch?v=i8ASbYqzGJ0&list=PLjy4p-07OYzuy_lHcRW8lPTLPTTOmUpmi) [[Notebook]](t81_558_class_04_1_feature_encode.ipynb)\n",
    "* Part 4.2: PyTorch Multiclass Classification for Deep Neural Networks with ROC and AUC [[Video]](https://www.youtube.com/watch?v=EoqXQTT74vY&list=PLjy4p-07OYzuy_lHcRW8lPTLPTTOmUpmi) [[Notebook]](t81_558_class_04_2_multi_class.ipynb)\n",
    "* **Part 4.3: PyTorch Regression for Deep Neural Networks with RMSE** [[Video]](https://www.youtube.com/watch?v=Ilr_V2fka8s&list=PLjy4p-07OYzuy_lHcRW8lPTLPTTOmUpmi) [[Notebook]](t81_558_class_04_3_regression.ipynb)\n",
    "* Part 4.4: Backpropagation, Nesterov Momentum, and ADAM Neural Network Training [[Video]](https://www.youtube.com/watch?v=03i5bFdrPvY&list=PLjy4p-07OYzuy_lHcRW8lPTLPTTOmUpmi) [[Notebook]](t81_558_class_04_4_backprop.ipynb)\n",
    "* Part 4.5: Neural Network RMSE and Log Loss Error Calculation from Scratch [[Video]](https://www.youtube.com/watch?v=hDlrn4rdIqE&list=PLjy4p-07OYzuy_lHcRW8lPTLPTTOmUpmi) [[Notebook]](t81_558_class_04_5_rmse_logloss.ipynb)"
   ]
  },
  {
   "cell_type": "markdown",
   "metadata": {
    "id": "I0qRlh6VTB-c"
   },
   "source": [
    "# Google CoLab Instructions\n",
    "\n",
    "The following code ensures that Google CoLab is running and maps Google Drive if needed. We also initialize the PyTorch device to either GPU (if available) or CPU."
   ]
  },
  {
   "cell_type": "code",
   "execution_count": 1,
   "metadata": {
    "colab": {
     "base_uri": "https://localhost:8080/"
    },
    "id": "_l0wHjgDTB-c",
    "outputId": "13030393-61ed-48e4-fffd-9d4adcf80d65"
   },
   "outputs": [
    {
     "name": "stdout",
     "output_type": "stream",
     "text": [
      "Note: using Google CoLab\n",
      "Using device: cuda\n"
     ]
    }
   ],
   "source": [
    "import torch\n",
    "import copy\n",
    "\n",
    "try:\n",
    "    import google.colab\n",
    "    COLAB = True\n",
    "    print(\"Note: using Google CoLab\")\n",
    "except:\n",
    "    print(\"Note: not using Google CoLab\")\n",
    "    COLAB = False\n",
    "\n",
    "# Early stopping (see Module 3.4)\n",
    "class EarlyStopping():\n",
    "  def __init__(self, patience=5, min_delta=1e-2, restore_best_weights=True):\n",
    "    self.patience = patience\n",
    "    self.min_delta = min_delta\n",
    "    self.restore_best_weights = restore_best_weights\n",
    "    self.best_model = None\n",
    "    self.best_loss = None\n",
    "    self.counter = 0\n",
    "    self.status = \"\"\n",
    "    \n",
    "  def __call__(self, model, val_loss):\n",
    "    if self.best_loss == None:\n",
    "      self.best_loss = val_loss\n",
    "      self.best_model = copy.deepcopy(model)\n",
    "    elif self.best_loss - val_loss > self.min_delta:\n",
    "      self.best_loss = val_loss\n",
    "      self.counter = 0\n",
    "      self.best_model.load_state_dict(model.state_dict())\n",
    "    elif self.best_loss - val_loss < self.min_delta:\n",
    "      self.counter += 1\n",
    "      if self.counter >= self.patience:\n",
    "        self.status = f\"Stopped on {self.counter}\"\n",
    "        if self.restore_best_weights:\n",
    "          model.load_state_dict(self.best_model.state_dict())\n",
    "        return True\n",
    "    self.status = f\"{self.counter}/{self.patience}\"\n",
    "    return False\n",
    "    \n",
    "# Make use of a GPU or MPS (Apple) if one is available. (see Module 3.2)\n",
    "device = \"mps\" if getattr(torch,'has_mps',False) \\\n",
    "    else \"cuda\" if torch.cuda.is_available() else \"cpu\"\n",
    "print(f\"Using device: {device}\")"
   ]
  },
  {
   "cell_type": "markdown",
   "metadata": {
    "id": "xJcEVTLDTB-d"
   },
   "source": [
    "# Part 4.3: PyTorch Regression for Deep Neural Networks with RMSE\n",
    "\n",
    "We evaluate regression results differently than classification.  Consider the following code that trains a neural network for regression on the data set **jh-simple-dataset.csv**.  We begin by preparing the data set."
   ]
  },
  {
   "cell_type": "code",
   "execution_count": 2,
   "metadata": {
    "id": "SjnsKaxhTB-e"
   },
   "outputs": [],
   "source": [
    "import pandas as pd\n",
    "from scipy.stats import zscore\n",
    "from sklearn.model_selection import train_test_split\n",
    "import matplotlib.pyplot as plt\n",
    "\n",
    "# Read the data set\n",
    "df = pd.read_csv(\n",
    "    \"https://data.heatonresearch.com/data/t81-558/jh-simple-dataset.csv\",\n",
    "    na_values=['NA','?'])\n",
    "\n",
    "# Generate dummies for job\n",
    "df = pd.concat([df,pd.get_dummies(df['job'],prefix=\"job\")],axis=1)\n",
    "df.drop('job', axis=1, inplace=True)\n",
    "\n",
    "# Generate dummies for area\n",
    "df = pd.concat([df,pd.get_dummies(df['area'],prefix=\"area\")],axis=1)\n",
    "df.drop('area', axis=1, inplace=True)\n",
    "\n",
    "# Generate dummies for product\n",
    "df = pd.concat([df,pd.get_dummies(df['product'],prefix=\"product\")],axis=1)\n",
    "df.drop('product', axis=1, inplace=True)\n",
    "\n",
    "# Missing values for income\n",
    "med = df['income'].median()\n",
    "df['income'] = df['income'].fillna(med)\n",
    "\n",
    "# Standardize ranges\n",
    "df['income'] = zscore(df['income'])\n",
    "df['aspect'] = zscore(df['aspect'])\n",
    "df['save_rate'] = zscore(df['save_rate'])\n",
    "df['subscriptions'] = zscore(df['subscriptions'])\n",
    "\n",
    "# Convert to numpy - Classification\n",
    "x_columns = df.columns.drop('age').drop('id')\n",
    "x = df[x_columns].values\n",
    "y = df['age'].values\n"
   ]
  },
  {
   "cell_type": "markdown",
   "metadata": {
    "id": "WvBu7qVeTB-f"
   },
   "source": [
    "Next, we create a neural network to fit the data we just loaded."
   ]
  },
  {
   "cell_type": "code",
   "execution_count": 3,
   "metadata": {
    "colab": {
     "base_uri": "https://localhost:8080/"
    },
    "id": "WIdWGQKvTB-f",
    "outputId": "7a9eb885-c9d1-4e7e-a0d4-838afc074a87"
   },
   "outputs": [
    {
     "name": "stderr",
     "output_type": "stream",
     "text": [
      "Epoch: 1, tloss: 340.34979248046875, vloss: 304.279755, EStop:[0/5]: 100%|██████████| 94/94 [00:01<00:00, 55.77it/s]\n",
      "Epoch: 2, tloss: 297.6585693359375, vloss: 171.625427, EStop:[0/5]: 100%|██████████| 94/94 [00:00<00:00, 103.64it/s]\n",
      "Epoch: 3, tloss: 93.5086898803711, vloss: 92.472168, EStop:[0/5]: 100%|██████████| 94/94 [00:00<00:00, 97.87it/s]\n",
      "Epoch: 4, tloss: 57.85111618041992, vloss: 54.701862, EStop:[0/5]: 100%|██████████| 94/94 [00:00<00:00, 118.26it/s]\n",
      "Epoch: 5, tloss: 33.064842224121094, vloss: 38.194107, EStop:[0/5]: 100%|██████████| 94/94 [00:00<00:00, 96.71it/s]\n",
      "Epoch: 6, tloss: 15.324446678161621, vloss: 27.398989, EStop:[0/5]: 100%|██████████| 94/94 [00:01<00:00, 80.75it/s]\n",
      "Epoch: 7, tloss: 39.59227752685547, vloss: 20.762016, EStop:[0/5]: 100%|██████████| 94/94 [00:01<00:00, 86.91it/s]\n",
      "Epoch: 8, tloss: 19.081485748291016, vloss: 17.003485, EStop:[0/5]: 100%|██████████| 94/94 [00:00<00:00, 103.84it/s]\n",
      "Epoch: 9, tloss: 15.240873336791992, vloss: 14.246161, EStop:[0/5]: 100%|██████████| 94/94 [00:00<00:00, 112.16it/s]\n",
      "Epoch: 10, tloss: 6.864076614379883, vloss: 12.677448, EStop:[0/5]: 100%|██████████| 94/94 [00:00<00:00, 108.05it/s]\n",
      "Epoch: 11, tloss: 18.041250228881836, vloss: 12.544802, EStop:[0/5]: 100%|██████████| 94/94 [00:00<00:00, 98.88it/s]\n",
      "Epoch: 12, tloss: 10.30776596069336, vloss: 10.508468, EStop:[0/5]: 100%|██████████| 94/94 [00:00<00:00, 122.27it/s]\n",
      "Epoch: 13, tloss: 9.795186996459961, vloss: 9.685383, EStop:[0/5]: 100%|██████████| 94/94 [00:00<00:00, 100.27it/s]\n",
      "Epoch: 14, tloss: 13.143023490905762, vloss: 8.818284, EStop:[0/5]: 100%|██████████| 94/94 [00:00<00:00, 109.71it/s]\n",
      "Epoch: 15, tloss: 4.000644683837891, vloss: 8.362062, EStop:[0/5]: 100%|██████████| 94/94 [00:00<00:00, 98.68it/s] \n",
      "Epoch: 16, tloss: 14.524821281433105, vloss: 7.618377, EStop:[0/5]: 100%|██████████| 94/94 [00:00<00:00, 100.54it/s]\n",
      "Epoch: 17, tloss: 8.40103816986084, vloss: 6.490282, EStop:[0/5]: 100%|██████████| 94/94 [00:00<00:00, 100.11it/s]\n",
      "Epoch: 18, tloss: 8.352082252502441, vloss: 5.487832, EStop:[0/5]: 100%|██████████| 94/94 [00:00<00:00, 100.86it/s]\n",
      "Epoch: 19, tloss: 3.9576778411865234, vloss: 5.758839, EStop:[1/5]: 100%|██████████| 94/94 [00:01<00:00, 86.11it/s]\n",
      "Epoch: 20, tloss: 2.0215816497802734, vloss: 4.259288, EStop:[0/5]: 100%|██████████| 94/94 [00:01<00:00, 87.60it/s]\n",
      "Epoch: 21, tloss: 3.9065585136413574, vloss: 3.979162, EStop:[0/5]: 100%|██████████| 94/94 [00:01<00:00, 86.90it/s]\n",
      "Epoch: 22, tloss: 1.9119949340820312, vloss: 3.612233, EStop:[0/5]: 100%|██████████| 94/94 [00:01<00:00, 89.98it/s]\n",
      "Epoch: 23, tloss: 1.1303976774215698, vloss: 2.864860, EStop:[0/5]: 100%|██████████| 94/94 [00:00<00:00, 105.39it/s]\n",
      "Epoch: 24, tloss: 0.853651762008667, vloss: 2.765898, EStop:[0/5]: 100%|██████████| 94/94 [00:01<00:00, 93.15it/s]\n",
      "Epoch: 25, tloss: 1.007128357887268, vloss: 2.382634, EStop:[0/5]: 100%|██████████| 94/94 [00:00<00:00, 94.38it/s]\n",
      "Epoch: 26, tloss: 4.182012557983398, vloss: 2.288377, EStop:[0/5]: 100%|██████████| 94/94 [00:01<00:00, 76.48it/s]\n",
      "Epoch: 27, tloss: 1.217944622039795, vloss: 1.890536, EStop:[0/5]: 100%|██████████| 94/94 [00:00<00:00, 118.25it/s]\n",
      "Epoch: 28, tloss: 2.7989749908447266, vloss: 1.671146, EStop:[0/5]: 100%|██████████| 94/94 [00:00<00:00, 150.09it/s]\n",
      "Epoch: 29, tloss: 2.179504871368408, vloss: 1.674136, EStop:[1/5]: 100%|██████████| 94/94 [00:00<00:00, 147.95it/s]\n",
      "Epoch: 30, tloss: 0.43697649240493774, vloss: 1.471110, EStop:[0/5]: 100%|██████████| 94/94 [00:00<00:00, 151.04it/s]\n",
      "Epoch: 31, tloss: 0.6129401326179504, vloss: 1.445717, EStop:[0/5]: 100%|██████████| 94/94 [00:00<00:00, 146.59it/s]\n",
      "Epoch: 32, tloss: 1.018874168395996, vloss: 1.265783, EStop:[0/5]: 100%|██████████| 94/94 [00:00<00:00, 150.24it/s]\n",
      "Epoch: 33, tloss: 0.6773127317428589, vloss: 1.107279, EStop:[0/5]: 100%|██████████| 94/94 [00:00<00:00, 143.69it/s]\n",
      "Epoch: 34, tloss: 0.8453453779220581, vloss: 1.007852, EStop:[0/5]: 100%|██████████| 94/94 [00:00<00:00, 145.83it/s]\n",
      "Epoch: 35, tloss: 1.9723281860351562, vloss: 1.106620, EStop:[1/5]: 100%|██████████| 94/94 [00:00<00:00, 145.01it/s]\n",
      "Epoch: 36, tloss: 0.39735811948776245, vloss: 0.947165, EStop:[0/5]: 100%|██████████| 94/94 [00:00<00:00, 141.99it/s]\n",
      "Epoch: 37, tloss: 0.5828799605369568, vloss: 0.873853, EStop:[0/5]: 100%|██████████| 94/94 [00:00<00:00, 129.55it/s]\n",
      "Epoch: 38, tloss: 0.34357747435569763, vloss: 0.776103, EStop:[0/5]: 100%|██████████| 94/94 [00:00<00:00, 145.36it/s]\n",
      "Epoch: 39, tloss: 0.7683855891227722, vloss: 0.797408, EStop:[1/5]: 100%|██████████| 94/94 [00:00<00:00, 141.47it/s]\n",
      "Epoch: 40, tloss: 0.9583541750907898, vloss: 0.785751, EStop:[2/5]: 100%|██████████| 94/94 [00:00<00:00, 143.05it/s]\n",
      "Epoch: 41, tloss: 0.8439445495605469, vloss: 0.842394, EStop:[3/5]: 100%|██████████| 94/94 [00:00<00:00, 158.89it/s]\n",
      "Epoch: 42, tloss: 0.8545017242431641, vloss: 0.672661, EStop:[0/5]: 100%|██████████| 94/94 [00:00<00:00, 148.68it/s]\n",
      "Epoch: 43, tloss: 0.5215871930122375, vloss: 0.680281, EStop:[1/5]: 100%|██████████| 94/94 [00:00<00:00, 151.24it/s]\n",
      "Epoch: 44, tloss: 0.43559759855270386, vloss: 0.626678, EStop:[0/5]: 100%|██████████| 94/94 [00:00<00:00, 148.24it/s]\n",
      "Epoch: 45, tloss: 0.11158426105976105, vloss: 0.603690, EStop:[0/5]: 100%|██████████| 94/94 [00:00<00:00, 145.43it/s]\n",
      "Epoch: 46, tloss: 0.4667317867279053, vloss: 0.608095, EStop:[1/5]: 100%|██████████| 94/94 [00:00<00:00, 151.52it/s]\n",
      "Epoch: 47, tloss: 10.68916130065918, vloss: 0.810164, EStop:[2/5]: 100%|██████████| 94/94 [00:00<00:00, 143.27it/s]\n",
      "Epoch: 48, tloss: 0.25675439834594727, vloss: 0.609160, EStop:[3/5]: 100%|██████████| 94/94 [00:00<00:00, 142.17it/s]\n",
      "Epoch: 49, tloss: 0.3608703017234802, vloss: 0.558397, EStop:[0/5]: 100%|██████████| 94/94 [00:00<00:00, 149.12it/s]\n",
      "Epoch: 50, tloss: 0.32585206627845764, vloss: 0.562905, EStop:[1/5]: 100%|██████████| 94/94 [00:00<00:00, 145.87it/s]\n",
      "Epoch: 51, tloss: 0.8376778960227966, vloss: 0.693541, EStop:[2/5]: 100%|██████████| 94/94 [00:00<00:00, 154.60it/s]\n",
      "Epoch: 52, tloss: 0.2715188264846802, vloss: 0.744638, EStop:[3/5]: 100%|██████████| 94/94 [00:00<00:00, 153.15it/s]\n",
      "Epoch: 53, tloss: 0.44383296370506287, vloss: 0.752986, EStop:[4/5]: 100%|██████████| 94/94 [00:00<00:00, 141.34it/s]\n",
      "Epoch: 54, tloss: 0.18552498519420624, vloss: 0.554469, EStop:[Stopped on 5]: 100%|██████████| 94/94 [00:00<00:00, 136.60it/s]\n"
     ]
    }
   ],
   "source": [
    "import pandas as pd\n",
    "from sklearn.model_selection import train_test_split\n",
    "from sklearn.metrics import accuracy_score\n",
    "\n",
    "import torch.nn as nn\n",
    "import torch.nn.functional as F\n",
    "import numpy as np\n",
    "from torch.autograd import Variable\n",
    "from sklearn import preprocessing\n",
    "from torch.utils.data import DataLoader, TensorDataset\n",
    "import tqdm\n",
    "import time\n",
    "\n",
    "# Define the PyTorch Neural Network\n",
    "class Net(nn.Module):\n",
    "    def __init__(self, in_count, out_count):\n",
    "        super(Net, self).__init__()\n",
    "        self.fc1 = nn.Linear(in_count, 50)\n",
    "        self.fc2 = nn.Linear(50, 25)\n",
    "        self.fc3 = nn.Linear(25, out_count)\n",
    "\n",
    "    def forward(self, x):\n",
    "        x = F.relu(self.fc1(x))\n",
    "        x = F.relu(self.fc2(x))\n",
    "        return self.fc3(x)\n",
    "\n",
    "# Split into validation and training sets\n",
    "x_train, x_test, y_train, y_test = train_test_split(    \n",
    "    x, y, test_size=0.25, random_state=42)\n",
    "\n",
    "# Numpy to Torch Tensor\n",
    "x_train = torch.Tensor(x_train).float()\n",
    "y_train = torch.Tensor(y_train).float()\n",
    "\n",
    "x_test = torch.Tensor(x_test).float().to(device)\n",
    "y_test = torch.Tensor(y_test).float().to(device)\n",
    "\n",
    "\n",
    "# Create datasets\n",
    "BATCH_SIZE = 16\n",
    "\n",
    "dataset_train = TensorDataset(x_train, y_train)\n",
    "dataloader_train = DataLoader(dataset_train,\\\n",
    "  batch_size=BATCH_SIZE, shuffle=True)\n",
    "\n",
    "dataset_test = TensorDataset(x_test, y_test)\n",
    "dataloader_test = DataLoader(dataset_test,\\\n",
    "  batch_size=BATCH_SIZE, shuffle=True)\n",
    "\n",
    "\n",
    "# Create model\n",
    "model = Net(x.shape[1],1).to(device)\n",
    "\n",
    "# Define the loss function for regression\n",
    "loss_fn = nn.MSELoss()\n",
    "\n",
    "# Define the optimizer\n",
    "optimizer = torch.optim.Adam(model.parameters())\n",
    "\n",
    "es = EarlyStopping()\n",
    "\n",
    "epoch = 0\n",
    "done = False\n",
    "while epoch<1000 and not done:\n",
    "  epoch += 1\n",
    "  steps = list(enumerate(dataloader_train))\n",
    "  pbar = tqdm.tqdm(steps)\n",
    "  model.train()\n",
    "  for i, (x_batch, y_batch) in pbar:\n",
    "    y_batch_pred = model(x_batch.to(device)).flatten()\n",
    "    loss = loss_fn(y_batch_pred, y_batch.to(device))\n",
    "    optimizer.zero_grad()\n",
    "    loss.backward()\n",
    "    optimizer.step()\n",
    "\n",
    "    loss, current = loss.item(), (i + 1)* len(x_batch)\n",
    "    if i == len(steps)-1:\n",
    "      model.eval()\n",
    "      pred = model(x_test).flatten()\n",
    "      vloss = loss_fn(pred, y_test)\n",
    "      if es(model,vloss): done = True\n",
    "      pbar.set_description(f\"Epoch: {epoch}, tloss: {loss}, vloss: {vloss:>7f}, EStop:[{es.status}]\")\n",
    "    else:\n",
    "      pbar.set_description(f\"Epoch: {epoch}, tloss {loss:}\")"
   ]
  },
  {
   "cell_type": "markdown",
   "metadata": {
    "id": "4-OibOzPTB-g"
   },
   "source": [
    "## Mean Square Error\n",
    "\n",
    "The mean square error (MSE) is the sum of the squared differences between the prediction ($\\hat{y}$) and the expected ($y$).  MSE values are not of a particular unit. If an MSE value has decreased for a model, that is good. However, beyond this, there is not much more you can determine. We seek to achieve low MSE values. The following equation demonstrates how to calculate MSE.\n",
    "\n",
    "$$ \\mbox{MSE} = \\frac{1}{n} \\sum_{i=1}^n \\left(\\hat{y}_i - y_i\\right)^2 $$\n",
    "\n",
    "The following code calculates the MSE on the predictions from the neural network."
   ]
  },
  {
   "cell_type": "code",
   "execution_count": 4,
   "metadata": {
    "colab": {
     "base_uri": "https://localhost:8080/"
    },
    "id": "LIK6LDI8TB-h",
    "outputId": "431ae3f9-9c17-4866-852f-136f3ad2ffa4"
   },
   "outputs": [
    {
     "name": "stdout",
     "output_type": "stream",
     "text": [
      "Final score (MSE): 0.558396577835083\n"
     ]
    }
   ],
   "source": [
    "from sklearn import metrics\n",
    "\n",
    "# Predict\n",
    "pred = model(x_test)\n",
    "\n",
    "# Measure MSE error.  \n",
    "score = metrics.mean_squared_error(pred.cpu().detach(),y_test.cpu())\n",
    "print(\"Final score (MSE): {}\".format(score))"
   ]
  },
  {
   "cell_type": "markdown",
   "metadata": {
    "id": "H-748IVqTB-h"
   },
   "source": [
    "## Root Mean Square Error\n",
    "\n",
    "The root mean square (RMSE) is essentially the square root of the MSE. Because of this, the RMSE error is in the same units as the training data outcome. We desire Low RMSE values. The following equation calculates RMSE.\n",
    "\n",
    "$$ \\mbox{RMSE} = \\sqrt{\\frac{1}{n} \\sum_{i=1}^n \\left(\\hat{y}_i - y_i\\right)^2} $$"
   ]
  },
  {
   "cell_type": "code",
   "execution_count": 5,
   "metadata": {
    "colab": {
     "base_uri": "https://localhost:8080/"
    },
    "id": "OCXvVAmpTB-h",
    "outputId": "9ab1ea0a-e64a-49ed-81d1-8060cc60f9c4"
   },
   "outputs": [
    {
     "name": "stdout",
     "output_type": "stream",
     "text": [
      "Final score (RMSE): 0.7472593784332275\n"
     ]
    }
   ],
   "source": [
    "import numpy as np\n",
    "\n",
    "# Measure RMSE error.  RMSE is common for regression.\n",
    "score = np.sqrt(metrics.mean_squared_error(pred.cpu().detach(),y_test.cpu().detach()))\n",
    "print(\"Final score (RMSE): {}\".format(score))"
   ]
  },
  {
   "cell_type": "markdown",
   "metadata": {
    "id": "Zq7_fxENTB-i"
   },
   "source": [
    "## Lift Chart\n",
    "\n",
    "We often visualize the results of regression with a lift chart. To generate a lift chart, perform the following activities:\n",
    "\n",
    "* Sort the data by expected output and plot these values.\n",
    "* For every point on the x-axis, plot that same data point's predicted value in another color.\n",
    "* The x-axis is just 0 to 100% of the dataset. The expected always starts low and ends high.\n",
    "* The y-axis is ranged according to the values predicted.\n",
    "\n",
    "You can interpret the lift chart as follows:\n",
    "\n",
    "* The expected and predict lines should be close. Notice where one is above the other.\n",
    "* The below chart is the most accurate for lower ages."
   ]
  },
  {
   "cell_type": "code",
   "execution_count": 6,
   "metadata": {
    "colab": {
     "base_uri": "https://localhost:8080/",
     "height": 265
    },
    "id": "8kPmozqTTB-i",
    "outputId": "3d0bf370-651f-4479-804c-c34b87491d20"
   },
   "outputs": [
    {
     "data": {
      "image/png": "[encoded data removed]",
      "text/plain": [
       "<Figure size 432x288 with 1 Axes>"
      ]
     },
     "metadata": {
      "needs_background": "light"
     },
     "output_type": "display_data"
    }
   ],
   "source": [
    "\n",
    "# Regression chart.\n",
    "def chart_regression(pred, y, sort=True):\n",
    "    t = pd.DataFrame({'pred': pred, 'y': y.flatten()})\n",
    "    if sort:\n",
    "        t.sort_values(by=['y'], inplace=True)\n",
    "    plt.plot(t['y'].tolist(), label='expected')\n",
    "    plt.plot(t['pred'].tolist(), label='prediction')\n",
    "    plt.ylabel('output')\n",
    "    plt.legend()\n",
    "    plt.show()\n",
    "    \n",
    "# Plot the chart\n",
    "chart_regression(pred.flatten().cpu().detach(),y_test.cpu().detach())"
   ]
  }
 ],
 "metadata": {
  "accelerator": "GPU",
  "anaconda-cloud": {},
  "colab": {
   "collapsed_sections": [],
   "provenance": []
  },
  "gpuClass": "standard",
  "kernelspec": {
   "display_name": "Python 3.9 (tensorflow)",
   "language": "python",
   "name": "tensorflow"
  },
  "language_info": {
   "codemirror_mode": {
    "name": "ipython",
    "version": 3
   },
   "file_extension": ".py",
   "mimetype": "text/x-python",
   "name": "python",
   "nbconvert_exporter": "python",
   "pygments_lexer": "ipython3",
   "version": "3.9.13"
  },
  "varInspector": {
   "cols": {
    "lenName": 16,
    "lenType": 16,
    "lenVar": 40
   },
   "kernels_config": {
    "python": {
     "delete_cmd_postfix": "",
     "delete_cmd_prefix": "del ",
     "library": "var_list.py",
     "varRefreshCmd": "print(var_dic_list())"
    },
    "r": {
     "delete_cmd_postfix": ") ",
     "delete_cmd_prefix": "rm(",
     "library": "var_list.r",
     "varRefreshCmd": "cat(var_dic_list()) "
    }
   },
   "types_to_exclude": [
    "module",
    "function",
    "builtin_function_or_method",
    "instance",
    "_Feature"
   ],
   "window_display": false
  }
 },
 "nbformat": 4,
 "nbformat_minor": 1
}
