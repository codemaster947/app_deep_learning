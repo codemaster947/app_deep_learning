{
 "cells": [
  {
   "cell_type": "markdown",
   "metadata": {
    "id": "Kk2klRRsMoZG"
   },
   "source": [
    "<a href=\"https://colab.research.google.com/github/jeffheaton/app_deep_learning/blob/main/t81_558_class_07_3_deoldify.ipynb\" target=\"_parent\"><img src=\"https://colab.research.google.com/assets/colab-badge.svg\" alt=\"Open In Colab\"/></a>"
   ]
  },
  {
   "cell_type": "markdown",
   "metadata": {
    "id": "sZbuQeUcMoZI"
   },
   "source": [
    "# T81-558: Applications of Deep Neural Networks\n",
    "**Module 7: Image Generative Models**\n",
    "* Instructor: [Jeff Heaton](https://sites.wustl.edu/jeffheaton/), McKelvey School of Engineering, [Washington University in St. Louis](https://engineering.wustl.edu/Programs/Pages/default.aspx)\n",
    "* For more information visit the [class website](https://sites.wustl.edu/jeffheaton/t81-558/)."
   ]
  },
  {
   "cell_type": "markdown",
   "metadata": {
    "id": "6AuaFy9cMoZI"
   },
   "source": [
    "# Module 7 Material\n",
    "\n",
    "- Part 7.1 Introduction to Generative AI [[Video]](https://www.youtube.com/watch?v=2FbkbSnS8sg&list=PLjy4p-07OYzulelvJ5KVaT2pDlxivl_BN) [[Notebook]](t81_558_class_07_1_img_generative.ipynb)\n",
    "- Part 7.2 Generating Faces with StyleGAN3 [[Video]](https://www.youtube.com/watch?v=VcI2o1yEQa0&list=PLjy4p-07OYzulelvJ5KVaT2pDlxivl_BN) [[Notebook]](t81_558_class_07_2_gan_intro.ipynb)\n",
    "- **Part 7.3 GANS to Enhance Old Photographs** Deoldify [[Video]](https://www.youtube.com/watch?v=y7HvjfKsZ50&list=PLjy4p-07OYzulelvJ5KVaT2pDlxivl_BN) [[Notebook]](t81_558_class_07_3_deoldify.ipynb)\n",
    "- Part 7.4 Text to Images with StableDiffusion [[Video]](https://www.youtube.com/watch?v=gLj6-gJ-lR4&list=PLjy4p-07OYzulelvJ5KVaT2pDlxivl_BN) [[Notebook]](t81_558_class_07_4_stable_diff.ipynb)\n",
    "- Part 7.5 Finetuning with Dreambooth [[Video]](https://www.youtube.com/watch?v=G_FYFSzkB5Y&list=PLjy4p-07OYzulelvJ5KVaT2pDlxivl_BN) [[Notebook]](t81_558_class_07_5_dream_booth.ipynb)"
   ]
  },
  {
   "cell_type": "markdown",
   "metadata": {
    "id": "rUNJ5dwcMoZJ"
   },
   "source": [
    "# Part 7.3: GANS to Enhance Old Photographs Deoldify\n",
    "\n",
    "For the last two parts of this module, we will examine two applications of GANs. The first application is named [deoldify](https://deoldify.ai/), which uses a PyTorche-based GAN to transform old photographs into more modern-looking images. The complete [source code](https://github.com/jantic/DeOldify) to Deoldify is provided, along with several examples [notebooks](https://colab.research.google.com/github/jantic/DeOldify/blob/master/ImageColorizerColab.ipynb) upon which I based this part.\n",
    "\n",
    "## Install Needed Software\n",
    "\n",
    "We begin by cloning the deoldify repository."
   ]
  },
  {
   "cell_type": "code",
   "execution_count": null,
   "metadata": {
    "colab": {
     "base_uri": "https://localhost:8080/"
    },
    "id": "of8TRxeDMoZK",
    "outputId": "2953923b-b528-46ef-f6cd-7fe3a93753cb"
   },
   "outputs": [],
   "source": [
    "# HIDE OUTPUT\n",
    "!git clone https://github.com/jantic/DeOldify.git DeOldify\n",
    "%cd DeOldify"
   ]
  },
  {
   "cell_type": "markdown",
   "metadata": {
    "id": "_i9I3dYkWy6u"
   },
   "source": [
    "Install any additional Python packages needed."
   ]
  },
  {
   "cell_type": "code",
   "execution_count": null,
   "metadata": {
    "colab": {
     "base_uri": "https://localhost:8080/"
    },
    "id": "qQP1eLYsPf1s",
    "outputId": "fd71c587-213f-4c21-f89a-7b6b66158054"
   },
   "outputs": [],
   "source": [
    "# HIDE OUTPUT\n",
    "!pip install -r requirements-colab.txt"
   ]
  },
  {
   "cell_type": "markdown",
   "metadata": {
    "id": "v2V3isvuW3S5"
   },
   "source": [
    "Install the pretrained weights for deoldify."
   ]
  },
  {
   "cell_type": "code",
   "execution_count": null,
   "metadata": {
    "colab": {
     "base_uri": "https://localhost:8080/"
    },
    "id": "vH1T2uJLP7-K",
    "outputId": "9be05421-0a2c-41a6-b6ac-44ad08dcc167"
   },
   "outputs": [],
   "source": [
    "# HIDE OUTPUT\n",
    "!mkdir './models/'\n",
    "CMD = \"wget https://data.deepai.org/deoldify/ColorizeArtistic_gen.pth\"\\\n",
    "  \" -O ./models/ColorizeArtistic_gen.pth\"\n",
    "!{CMD}"
   ]
  },
  {
   "cell_type": "markdown",
   "metadata": {
    "id": "3Z6aT7_RTqC9"
   },
   "source": [
    "## Initialize Torch Device\n",
    "\n",
    "First, we must initialize a Torch device.  If we have a GPU available, we will detect it here.  I assume that you will run this code from Google CoLab, with a GPU.  It is possible to run this code from a local GPU; however, some modification will be necessary."
   ]
  },
  {
   "cell_type": "code",
   "execution_count": null,
   "metadata": {
    "colab": {
     "base_uri": "https://localhost:8080/"
    },
    "id": "luqoHzqsNfci",
    "outputId": "cf8ed5e9-61bb-4ef0-c542-aa60726d82c7"
   },
   "outputs": [],
   "source": [
    "import sys\n",
    "\n",
    "#NOTE:  This must be the first call in order to work properly!\n",
    "from deoldify import device\n",
    "from deoldify.device_id import DeviceId\n",
    "#choices:  CPU, GPU0...GPU7\n",
    "device.set(device=DeviceId.GPU0)\n",
    "\n",
    "import torch\n",
    "\n",
    "if not torch.cuda.is_available():\n",
    "  print('GPU not available.')\n",
    "else:\n",
    "  print('Using GPU.')"
   ]
  },
  {
   "cell_type": "markdown",
   "metadata": {
    "id": "j3GkQhU8ZlNN"
   },
   "source": [
    "We can now call the model. I will enhance an image from my childhood, probably taken in the late 1970s. The picture shows three miniature schnauzers. My childhood dog (Scooby) is on the left, followed by his mom and sister. Overall, a stunning improvement. However, the red in the fire engine riding toy is lost, and the red color of the picnic table where the three dogs were sitting."
   ]
  },
  {
   "cell_type": "code",
   "execution_count": null,
   "metadata": {
    "colab": {
     "base_uri": "https://localhost:8080/"
    },
    "id": "4OlPl8aePTcO",
    "outputId": "66efdc1c-0084-4550-ad99-7e33cdb6e8c6"
   },
   "outputs": [],
   "source": [
    "# HIDE OUTPUT\n",
    "import fastai\n",
    "from deoldify.visualize import *\n",
    "import warnings\n",
    "from urllib.parse import urlparse\n",
    "import os\n",
    "\n",
    "warnings.filterwarnings(\"ignore\", category=UserWarning,\n",
    "          message=\".*?Your .*? set is empty.*?\")\n",
    "\n",
    "URL = 'https://raw.githubusercontent.com/jeffheaton/'\\\n",
    "  't81_558_deep_learning/master/photos/scooby_family.jpg'\n",
    "\n",
    "!wget {URL}\n",
    "\n",
    "a = urlparse(URL)\n",
    "before_file = os.path.basename(a.path)\n",
    "\n",
    "RENDER_FACTOR = 35\n",
    "WATERMARK = False\n",
    "\n",
    "colorizer = get_image_colorizer(artistic=True)\n",
    "\n",
    "after_image = colorizer.get_transformed_image(\n",
    "    before_file, render_factor=RENDER_FACTOR,\n",
    "    watermarked=WATERMARK)\n",
    "\n",
    "\n",
    "\n",
    "\n"
   ]
  },
  {
   "cell_type": "markdown",
   "metadata": {
    "id": "KuZrll6Er0XZ"
   },
   "source": [
    "You can see the starting image here."
   ]
  },
  {
   "cell_type": "code",
   "execution_count": null,
   "metadata": {
    "colab": {
     "base_uri": "https://localhost:8080/",
     "height": 314
    },
    "id": "hKrj7mlfsAZI",
    "outputId": "8763c0d6-4f90-47c6-d35c-ff358f737209"
   },
   "outputs": [],
   "source": [
    "from IPython import display\n",
    "display.Image(URL)"
   ]
  },
  {
   "cell_type": "markdown",
   "metadata": {
    "id": "-DJW6jY-sE3k"
   },
   "source": [
    "You can see the deoldify version here. Please note that these two images will look similar in a black and white book. To see it in color, visit this [link](https://github.com/jeffheaton/t81_558_deep_learning/blob/master/t81_558_class_07_4_deoldify.ipynb)."
   ]
  },
  {
   "cell_type": "code",
   "execution_count": null,
   "metadata": {
    "colab": {
     "base_uri": "https://localhost:8080/",
     "height": 314
    },
    "id": "GeT-7KVNrFq3",
    "outputId": "52971df8-1bb3-4feb-f5e5-715dc5530fb4"
   },
   "outputs": [],
   "source": [
    "after_image"
   ]
  }
 ],
 "metadata": {
  "accelerator": "GPU",
  "anaconda-cloud": {},
  "colab": {
   "provenance": []
  },
  "kernelspec": {
   "display_name": "Python 3.11 (torch)",
   "language": "python",
   "name": "pytorch"
  },
  "language_info": {
   "codemirror_mode": {
    "name": "ipython",
    "version": 3
   },
   "file_extension": ".py",
   "mimetype": "text/x-python",
   "name": "python",
   "nbconvert_exporter": "python",
   "pygments_lexer": "ipython3",
   "version": "3.9.18"
  }
 },
 "nbformat": 4,
 "nbformat_minor": 1
}
