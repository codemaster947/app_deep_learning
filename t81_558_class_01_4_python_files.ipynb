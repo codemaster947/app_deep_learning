{
 "cells": [
  {
   "cell_type": "markdown",
   "metadata": {},
   "source": [
    "<a href=\"https://colab.research.google.com/github/jeffheaton/app_deep_learning/blob/main/t81_558_class_01_4_python_files.ipynb\" target=\"_parent\"><img src=\"https://colab.research.google.com/assets/colab-badge.svg\" alt=\"Open In Colab\"/></a>\n"
   ]
  },
  {
   "cell_type": "markdown",
   "metadata": {},
   "source": [
    "# T81-558: Applications of Deep Neural Networks\n",
    "\n",
    "**Module 1: Python Preliminaries**\n",
    "\n",
    "- Instructor: [Jeff Heaton](https://sites.wustl.edu/jeffheaton/), McKelvey School of Engineering, [Washington University in St. Louis](https://engineering.wustl.edu/Programs/Pages/default.aspx)\n",
    "- For more information visit the [class website](https://sites.wustl.edu/jeffheaton/t81-558/).\n"
   ]
  },
  {
   "cell_type": "markdown",
   "metadata": {},
   "source": [
    "# Module 1 Material\n",
    "\n",
    "* Part 1.1: Course Overview [[Video]](https://www.youtube.com/watch?v=r7eExQWKzdc&list=PLjy4p-07OYzuy_lHcRW8lPTLPTTOmUpmi) [[Notebook]](t81_558_class_01_1_overview.ipynb)\n",
    "* Part 1.2: Introduction to Python [[Video]](https://www.youtube.com/watch?v=ZAOOinw51no&list=PLjy4p-07OYzuy_lHcRW8lPTLPTTOmUpmi) [[Notebook]](t81_558_class_01_2_intro_python.ipynb)\n",
    "* Part 1.3: Python Lists, Dictionaries, Sets and JSON [[Video]](https://www.youtube.com/watch?v=5jZWWLO71bE&list=PLjy4p-07OYzuy_lHcRW8lPTLPTTOmUpmi) [[Notebook]](t81_558_class_01_3_python_collections.ipynb)\n",
    "* **Part 1.4: File Handling** [[Video]](https://www.youtube.com/watch?v=CPrp1Sm-AhQ&list=PLjy4p-07OYzuy_lHcRW8lPTLPTTOmUpmi) [[Notebook]](t81_558_class_01_4_python_files.ipynb)\n",
    "* Part 1.5: Functions, Lambdas, and Map/Reduce [[Video]](https://www.youtube.com/watch?v=DEg8a22mtBs&list=PLjy4p-07OYzuy_lHcRW8lPTLPTTOmUpmi) [[Notebook]](t81_558_class_01_5_python_functional.ipynb)"
   ]
  },
  {
   "cell_type": "markdown",
   "metadata": {},
   "source": [
    "# Google CoLab Instructions\n",
    "\n",
    "The following code ensures that Google CoLab is running and maps Google Drive if needed. Running the following code will map your GDrive to `/content/drive`.\n"
   ]
  },
  {
   "cell_type": "code",
   "execution_count": null,
   "metadata": {},
   "outputs": [],
   "source": [
    "try:\n",
    "    from google.colab import drive\n",
    "\n",
    "    drive.mount(\"/content/drive\", force_remount=True)\n",
    "    COLAB = True\n",
    "    print(\"Note: using Google CoLab\")\n",
    "except:\n",
    "    print(\"Note: not using Google CoLab\")\n",
    "    COLAB = False"
   ]
  },
  {
   "cell_type": "markdown",
   "metadata": {},
   "source": [
    "# Part 1.4: File Handling\n"
   ]
  },
  {
   "cell_type": "markdown",
   "metadata": {},
   "source": [
    "Files often contain the data that you use to train your AI programs. Once trained, your models may use real-time data to form predictions. These predictions might be made on files too. Regardless of predicting or training, file processing is a vital skill for the AI practitioner.\n",
    "\n",
    "There are many different types of files that you must process as an AI practitioner. Some of these file types are listed here:\n",
    "\n",
    "- **CSV files** (generally have the .csv extension) hold tabular data that resembles spreadsheet data.\n",
    "- **Image files** (generally with the .png or .jpg extension) hold images for computer vision.\n",
    "- **Text files** (often have the .txt extension) hold unstructured text and are essential for natural language processing.\n",
    "- **JSON** (often have the .json extension) contain semi-structured textual data in a human-readable text-based format.\n",
    "- **H5** (can have a wide array of extensions) contain semi-structured textual data in a human-readable text-based format.\n",
    "- **Numpy** (npy) PyTorch stores neural networks as Numpy files.\n",
    "- **Audio Files** (often have an extension such as .au or .wav) contain recorded sound.\n",
    "\n",
    "Data can come from a variety of sources. In this class, we obtain data from three primary locations:\n",
    "\n",
    "- **Your Hard Drive** - This type of data is stored locally, and Python accesses it from a path that looks something like: **c:\\data\\myfile.csv or /Users/jheaton/data/myfile.csv**.\n",
    "- **The Internet** - This type of data resides in the cloud, and Python accesses it from a URL that looks something like:\n",
    "  https://data.heatonresearch.com/data/t81-558/iris.csv.\n",
    "- **Google Drive (cloud)** - If your code in Google CoLab, you use GoogleDrive to save and load some data files. CoLab mounts your GoogleDrive into a path similar to the following: **/content/drive/My Drive/myfile.csv**.\n",
    "\n",
    "## Read a CSV File\n",
    "\n",
    "Python programs can read CSV files with Pandas. We will see more about Pandas in the next section, but for now, its general format is:\n"
   ]
  },
  {
   "cell_type": "code",
   "execution_count": null,
   "metadata": {},
   "outputs": [],
   "source": [
    "import pandas as pd\n",
    "\n",
    "df = pd.read_csv(\"https://data.heatonresearch.com/data/t81-558/iris.csv\")"
   ]
  },
  {
   "cell_type": "markdown",
   "metadata": {},
   "source": [
    "The above command loads [Fisher's Iris data set](https://en.wikipedia.org/wiki/Iris_flower_data_set) from the Internet. It might take a few seconds to load, so it is good to keep the loading code in a separate Jupyter notebook cell so that you do not have to reload it as you test your program. You can load Internet data, local hard drive, and Google Drive data this way.\n",
    "\n",
    "Now that the data is loaded, you can display the first five rows with this command.\n"
   ]
  },
  {
   "cell_type": "code",
   "execution_count": null,
   "metadata": {},
   "outputs": [],
   "source": [
    "display(df[0:5])"
   ]
  },
  {
   "cell_type": "markdown",
   "metadata": {},
   "source": [
    "## Read (stream) a Large CSV File\n",
    "\n",
    "Pandas will read the entire CSV file into memory. Usually, this is fine. However, at times you may wish to \"stream\" a huge file. Streaming allows you to process this file one record at a time. Because the program does not load all of the data into memory, you can handle huge files. The following code loads the Iris dataset and calculates averages, one row at a time. This technique would work for large files.\n"
   ]
  },
  {
   "cell_type": "code",
   "execution_count": null,
   "metadata": {},
   "outputs": [],
   "source": [
    "import codecs\n",
    "import csv\n",
    "import urllib.request\n",
    "\n",
    "import numpy as np\n",
    "\n",
    "url = \"https://data.heatonresearch.com/data/t81-558/iris.csv\"\n",
    "urlstream = urllib.request.urlopen(url)\n",
    "csvfile = csv.reader(codecs.iterdecode(urlstream, \"utf-8\"))\n",
    "next(csvfile)  # Skip header row\n",
    "sum = np.zeros(4)\n",
    "count = 0\n",
    "\n",
    "for line in csvfile:\n",
    "    # Convert each row to Numpy array\n",
    "    line2 = np.array(line)[0:4].astype(float)\n",
    "\n",
    "    # If the line is of the right length (skip empty lines), then add\n",
    "    if len(line2) == 4:\n",
    "        sum += line2\n",
    "        count += 1\n",
    "\n",
    "# Calculate the average, and print the average of the 4 iris\n",
    "# measurements (features)\n",
    "print(sum / count)"
   ]
  },
  {
   "cell_type": "markdown",
   "metadata": {},
   "source": [
    "## Read a Text File\n",
    "\n",
    "The following code reads the [Sonnet 18](https://en.wikipedia.org/wiki/Sonnet_18) by [William Shakespeare](https://en.wikipedia.org/wiki/William_Shakespeare) as a text file. This code streams the document and reads it line-by-line. This code could handle a huge file.\n"
   ]
  },
  {
   "cell_type": "code",
   "execution_count": null,
   "metadata": {},
   "outputs": [],
   "source": [
    "import codecs\n",
    "import urllib.request\n",
    "\n",
    "url = \"https://data.heatonresearch.com/data/t81-558/datasets/sonnet_18.txt\"\n",
    "with urllib.request.urlopen(url) as urlstream:\n",
    "    for line in codecs.iterdecode(urlstream, \"utf-8\"):\n",
    "        print(line.rstrip())"
   ]
  },
  {
   "cell_type": "markdown",
   "metadata": {},
   "source": [
    "## Read an Image\n",
    "\n",
    "Computer vision is one of the areas that neural networks outshine other models. To support computer vision, the Python programmer needs to understand how to process images. For this course, we will use the Python PIL package for image processing. The following code demonstrates how to load an image from a URL and display it.\n"
   ]
  },
  {
   "cell_type": "code",
   "execution_count": null,
   "metadata": {},
   "outputs": [],
   "source": [
    "%matplotlib inline\n",
    "from io import BytesIO\n",
    "\n",
    "import requests\n",
    "from PIL import Image\n",
    "\n",
    "url = \"https://data.heatonresearch.com/images/jupyter/brookings.jpeg\"\n",
    "\n",
    "response = requests.get(url)\n",
    "img = Image.open(BytesIO(response.content))\n",
    "\n",
    "img"
   ]
  }
 ],
 "metadata": {
  "anaconda-cloud": {},
  "kernelspec": {
   "display_name": "Python 3.9 (torch)",
   "language": "python",
   "name": "pytorch"
  },
  "language_info": {
   "codemirror_mode": {
    "name": "ipython",
    "version": 3
   },
   "file_extension": ".py",
   "mimetype": "text/x-python",
   "name": "python",
   "nbconvert_exporter": "python",
   "pygments_lexer": "ipython3",
   "version": "3.9.16"
  },
  "varInspector": {
   "cols": {
    "lenName": 16,
    "lenType": 16,
    "lenVar": 40
   },
   "kernels_config": {
    "python": {
     "delete_cmd_postfix": "",
     "delete_cmd_prefix": "del ",
     "library": "var_list.py",
     "varRefreshCmd": "print(var_dic_list())"
    },
    "r": {
     "delete_cmd_postfix": ") ",
     "delete_cmd_prefix": "rm(",
     "library": "var_list.r",
     "varRefreshCmd": "cat(var_dic_list()) "
    }
   },
   "types_to_exclude": [
    "module",
    "function",
    "builtin_function_or_method",
    "instance",
    "_Feature"
   ],
   "window_display": false
  }
 },
 "nbformat": 4,
 "nbformat_minor": 4
}
