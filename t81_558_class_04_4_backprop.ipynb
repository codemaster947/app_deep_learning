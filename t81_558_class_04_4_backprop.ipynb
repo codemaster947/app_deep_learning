{
 "cells": [
  {
   "cell_type": "markdown",
   "metadata": {
    "id": "orgrkpLkYMwX"
   },
   "source": [
    "<a href=\"https://colab.research.google.com/github/jeffheaton/t81_558_deep_learning/blob/pytorch/t81_558_class_04_4_backprop.ipynb\" target=\"_parent\"><img src=\"https://colab.research.google.com/assets/colab-badge.svg\" alt=\"Open In Colab\"/></a>"
   ]
  },
  {
   "cell_type": "markdown",
   "metadata": {
    "id": "hTfhWvirYMwZ"
   },
   "source": [
    "# T81-558: Applications of Deep Neural Networks\n",
    "**Module 4: Training for Tabular Data**\n",
    "* Instructor: [Jeff Heaton](https://sites.wustl.edu/jeffheaton/), McKelvey School of Engineering, [Washington University in St. Louis](https://engineering.wustl.edu/Programs/Pages/default.aspx)\n",
    "* For more information visit the [class website](https://sites.wustl.edu/jeffheaton/t81-558/)."
   ]
  },
  {
   "cell_type": "markdown",
   "metadata": {
    "id": "Pm2jcs-4YMwZ"
   },
   "source": [
    "# Module 4 Material\n",
    "\n",
    "* Part 4.1: Encoding a Feature Vector for PyTorch Deep Learning [[Video]](https://www.youtube.com/watch?v=i8ASbYqzGJ0&list=PLjy4p-07OYzuy_lHcRW8lPTLPTTOmUpmi) [[Notebook]](t81_558_class_04_1_feature_encode.ipynb)\n",
    "* Part 4.2: PyTorch Multiclass Classification for Deep Neural Networks with ROC and AUC [[Video]](https://www.youtube.com/watch?v=EoqXQTT74vY&list=PLjy4p-07OYzuy_lHcRW8lPTLPTTOmUpmi) [[Notebook]](t81_558_class_04_2_multi_class.ipynb)\n",
    "* Part 4.3: PyTorch Regression for Deep Neural Networks with RMSE [[Video]](https://www.youtube.com/watch?v=Ilr_V2fka8s&list=PLjy4p-07OYzuy_lHcRW8lPTLPTTOmUpmi) [[Notebook]](t81_558_class_04_3_regression.ipynb)\n",
    "* **Part 4.4: Backpropagation, Nesterov Momentum, and ADAM Neural Network Training** [[Video]](https://www.youtube.com/watch?v=03i5bFdrPvY&list=PLjy4p-07OYzuy_lHcRW8lPTLPTTOmUpmi) [[Notebook]](t81_558_class_04_4_backprop.ipynb)\n",
    "* Part 4.5: Neural Network RMSE and Log Loss Error Calculation from Scratch [[Video]](https://www.youtube.com/watch?v=hDlrn4rdIqE&list=PLjy4p-07OYzuy_lHcRW8lPTLPTTOmUpmi) [[Notebook]](t81_558_class_04_5_rmse_logloss.ipynb)"
   ]
  },
  {
   "cell_type": "markdown",
   "metadata": {
    "id": "CumpTlFSYMwZ"
   },
   "source": [
    "# Google CoLab Instructions\n",
    "\n",
    "The following code ensures that Google CoLab is running and maps Google Drive if needed. We also initialize the PyTorch device to either GPU (if available) or CPU and include any functions defined in previous chapters."
   ]
  },
  {
   "cell_type": "code",
   "execution_count": 1,
   "metadata": {
    "colab": {
     "base_uri": "https://localhost:8080/"
    },
    "id": "awYY-Iq2YMwZ",
    "outputId": "830dcf6f-fa26-4a15-9ecd-00c387ce4087"
   },
   "outputs": [
    {
     "name": "stdout",
     "output_type": "stream",
     "text": [
      "Note: using Google CoLab\n",
      "Using device: cpu\n"
     ]
    }
   ],
   "source": [
    "import torch\n",
    "import matplotlib.pyplot as plt\n",
    "import copy\n",
    "\n",
    "try:\n",
    "    import google.colab\n",
    "    COLAB = True\n",
    "    print(\"Note: using Google CoLab\")\n",
    "except:\n",
    "    print(\"Note: not using Google CoLab\")\n",
    "    COLAB = False\n",
    "\n",
    "# Early stopping (see Module 3.4)\n",
    "class EarlyStopping():\n",
    "  def __init__(self, patience=5, min_delta=1e-2, restore_best_weights=True):\n",
    "    self.patience = patience\n",
    "    self.min_delta = min_delta\n",
    "    self.restore_best_weights = restore_best_weights\n",
    "    self.best_model = None\n",
    "    self.best_loss = None\n",
    "    self.counter = 0\n",
    "    self.status = \"\"\n",
    "    \n",
    "  def __call__(self, model, val_loss):\n",
    "    if self.best_loss == None:\n",
    "      self.best_loss = val_loss\n",
    "      self.best_model = copy.deepcopy(model)\n",
    "    elif self.best_loss - val_loss > self.min_delta:\n",
    "      self.best_loss = val_loss\n",
    "      self.counter = 0\n",
    "      self.best_model.load_state_dict(model.state_dict())\n",
    "    elif self.best_loss - val_loss < self.min_delta:\n",
    "      self.counter += 1\n",
    "      if self.counter >= self.patience:\n",
    "        self.status = f\"Stopped on {self.counter}\"\n",
    "        if self.restore_best_weights:\n",
    "          model.load_state_dict(self.best_model.state_dict())\n",
    "        return True\n",
    "    self.status = f\"{self.counter}/{self.patience}\"\n",
    "    return False\n",
    "\n",
    "# Regression chart. (see Module 4.3)\n",
    "def chart_regression(pred, y, sort=True):\n",
    "    t = pd.DataFrame({'pred': pred, 'y': y.flatten()})\n",
    "    if sort:\n",
    "        t.sort_values(by=['y'], inplace=True)\n",
    "    plt.plot(t['y'].tolist(), label='expected')\n",
    "    plt.plot(t['pred'].tolist(), label='prediction')\n",
    "    plt.ylabel('output')\n",
    "    plt.legend()\n",
    "    plt.show()\n",
    "\n",
    "# Make use of a GPU or MPS (Apple) if one is available. (see Module 3.2)\n",
    "device = \"mps\" if getattr(torch,'has_mps',False) \\\n",
    "    else \"cuda\" if torch.cuda.is_available() else \"cpu\"\n",
    "print(f\"Using device: {device}\")"
   ]
  },
  {
   "cell_type": "markdown",
   "metadata": {
    "id": "1PVA1LZgYMwa"
   },
   "source": [
    "# Part 4.4: Training Neural Networks\n",
    "\n",
    "Backpropagation [[Cite:rumelhart1986learning]](https://www.iro.umontreal.ca/~vincentp/ift3395/lectures/backprop_old.pdf) is one of the most common methods for training a neural network. Rumelhart, Hinton, & Williams introduced backpropagation, and it remains popular today. Programmers frequently train deep neural networks with backpropagation because it scales really well when run on graphical processing units (GPUs). To understand this algorithm for neural networks, we must examine how to train it as well as how it processes a pattern.\n",
    "\n",
    "Researchers have extended classic backpropagation and modified to give rise to many different training algorithms. This section will discuss the most commonly used training algorithms for neural networks. We begin with classic backpropagation and end the chapter with stochastic gradient descent (SGD).\n",
    "\n",
    "Backpropagation is the primary means of determining a neural network's weights during training. Backpropagation works by calculating a weight change amount ($v_t$) for every weight($\\theta$, theta) in the neural network. This value is subtracted from every weight by the following equation: \n",
    "\n",
    "$$ \\theta_t = \\theta_{t-1} - v_t $$\n",
    "\n",
    "We repeat this process for every iteration($t$). The training algorithm determines how we calculate the weight change. Classic backpropagation calculates a gradient ($\\nabla$, nabla) for every weight in the neural network for the neural network's error function ($J$). We scale the gradient by a learning rate ($\\eta$, eta).\n",
    "\n",
    "$$ v_t = \\eta \\nabla_{\\theta_{t-1}} J(\\theta_{t-1}) $$\n",
    "\n",
    "The learning rate is an important concept for backpropagation training. Setting the learning rate can be complex:\n",
    "\n",
    "* Too low a learning rate will usually converge to a reasonable solution; however, the process will be prolonged.\n",
    "* Too high of a learning rate will either fail outright or converge to a higher error than a better learning rate.\n",
    "\n",
    "Common values for learning rate are: 0.1, 0.01, 0.001, etc.\n",
    "\n",
    "Backpropagation is a gradient descent type, and many texts will use these two terms interchangeably. Gradient descent refers to calculating a gradient on each weight in the neural network for each training element. Because the neural network will not output the expected value for a training element, the gradient of each weight will indicate how to modify each weight to achieve the expected output. If the neural network did output exactly what was expected, the gradient for each weight would be 0, indicating that no change to the weight is necessary.\n",
    "\n",
    "The gradient is the derivative of the error function at the weight's current value. The error function measures the distance of the neural network's output from the expected output. We can use gradient descent, a process in which each weight's gradient value can reach even lower values of the error function. \n",
    "  \n",
    "The gradient is the partial derivative of each weight in the neural network concerning the error function. Each weight has a gradient that is the slope of the error function. Weight is a connection between two neurons. Calculating the gradient of the error function allows the training method to determine whether it should increase or decrease the weight. In turn, this determination will decrease the error of the neural network. The error is the difference between the expected output and actual output of the neural network. Many different training methods called propagation-training algorithms utilize gradients. In all of them, the sign of the gradient tells the neural network the following information:\n",
    "\n",
    "* Zero gradient - The weight does not contribute to the neural network's error.\n",
    "* Negative gradient - The algorithm should increase the weight to lower error.\n",
    "* Positive gradient - The algorithm should decrease the weight to lower error.\n",
    "\n",
    "\n",
    "Because many algorithms depend on gradient calculation, we will begin with an analysis of this process. First of all, let's examine the gradient. Essentially, training is a search for the set of weights that will cause the neural network to have the lowest error for a training set. If we had infinite computation resources, we would try every possible combination of weights to determine the one that provided the lowest error during the training. \n",
    "\n",
    "Because we do not have unlimited computing resources, we have to use some shortcuts to prevent the need to examine every possible weight combination. These training methods utilize clever techniques to avoid performing a brute-force search of all weight values. This type of exhaustive search would be impossible because even small networks have an infinite number of weight combinations.\n",
    "\n",
    "Consider a chart that shows the error of a neural network for each possible weight. Figure 4.DRV is a graph that demonstrates the error for a single weight:\n",
    "\n",
    "**Figure 4.DRV: Derivative**\n",
    "![Derivative](https://raw.githubusercontent.com/jeffheaton/t81_558_deep_learning/master/images/class_2_deriv.png \"Derivative\")\n",
    "\n",
    "Looking at this chart, you can easily see that the optimal weight is where the line has the lowest y-value. The problem is that we see only the error for the current value of the weight; we do not see the entire graph because that process would require an exhaustive search. However, we can determine the slope of the error curve at a particular weight. In the above chart, we see the slope of the error curve at 1.5. The straight line barely touches the error curve at 1.5 gives the slope. In this case, the slope, or gradient, is -0.5622. The negative slope indicates that an increase in the weight will lower the error.\n",
    "The gradient is the instantaneous slope of the error function at the specified weight. The derivative of the error curve at that point gives the gradient. This line tells us the steepness of the error function at the given weight.  \n",
    "Derivatives are one of the most fundamental concepts in calculus. For this book, you need to understand that a derivative provides the slope of a function at a specific point. A training technique and this slope can give you the information to adjust the weight for a lower error. Using our working definition of the gradient, we will show how to calculate it.\n",
    "\n",
    "## Momentum Backpropagation\n",
    "\n",
    "Momentum adds another term to the calculation of $v_t$:\n",
    "\n",
    "$$ v_t = \\eta \\nabla_{\\theta_{t-1}} J(\\theta_{t-1}) + \\lambda v_{t-1} $$\n",
    "\n",
    "Like the learning rate, momentum adds another training parameter that scales the effect of momentum. Momentum backpropagation has two training parameters: learning rate ($\\eta$, eta) and momentum ($\\lambda$, lambda). Momentum adds the scaled value of the previous weight change amount ($v_{t-1}$) to the current weight change amount($v_t$).\n",
    "\n",
    "This technique has the effect of adding additional force behind the direction a weight is moving. Figure 4.MTM shows how this might allow the weight to escape local minima.\n",
    "\n",
    "**Figure 4.MTM: Momentum**\n",
    "![Momentum](https://raw.githubusercontent.com/jeffheaton/t81_558_deep_learning/master/images/class_5_momentum.png \"Momentum\")\n",
    "\n",
    "A typical value for momentum is 0.9.\n"
   ]
  },
  {
   "cell_type": "markdown",
   "metadata": {
    "id": "xay4b5QIYMwb"
   },
   "source": [
    "## Batch and Online Backpropagation\n",
    "\n",
    "How often should the weights of a neural network be updated?  We can calculate gradients for a training set element.  These gradients can also be summed together into batches, and the weights updated once per batch.\n",
    "\n",
    "* **Online Training** - Update the weights based on gradients calculated from a single training set element.\n",
    "* **Batch Training** - Update the weights based on the sum of the gradients over all training set elements.\n",
    "* **Batch Size** - Update the weights based on the sum of some batch size of training set elements.\n",
    "* **Mini-Batch Training** - The same as batch size, but with minimal batch size.  Mini-batches are very popular, often in the 32-64 element range.\n",
    "\n",
    "Because the batch size is smaller than the full training set size, it may take several batches to make it completely through the training set.  \n",
    "\n",
    "* **Step/Iteration** - The number of processed batches.\n",
    "* **Epoch** - The number of times the algorithm processed the complete training set.\n",
    "\n",
    "## Stochastic Gradient Descent\n",
    "\n",
    "Stochastic gradient descent (SGD) is currently one of the most popular neural network training algorithms.  It works very similarly to Batch/Mini-Batch training, except that the batches are made up of a random set of training elements.\n",
    "\n",
    "This technique leads to a very irregular convergence in error during training, as shown in Figure 4.SGD.\n",
    "\n",
    "**Figure 4.SGD: SGD Error**\n",
    "![SGD Error](https://raw.githubusercontent.com/jeffheaton/t81_558_deep_learning/master/images/class_5_sgd_error.png \"SGD Error\")\n",
    "[Image from Wikipedia](https://en.wikipedia.org/wiki/Stochastic_gradient_descent)\n",
    "\n",
    "Because the neural network is trained on a random sample of the complete training set each time, the error does not make a smooth transition downward.  However, the error usually does go down.\n",
    "\n",
    "Advantages to SGD include:\n",
    "\n",
    "* Computationally efficient.  Each training step can be relatively fast, even with a huge training set.\n",
    "* Decreases overfitting by focusing on only a portion of the training set each step.\n"
   ]
  },
  {
   "cell_type": "markdown",
   "metadata": {
    "id": "0S9h3WTqYMwb"
   },
   "source": [
    "## Other Techniques\n",
    "\n",
    "One problem with simple backpropagation training algorithms is that they are susceptible to learning rate and momentum. This technique is difficult because:\n",
    "\n",
    "* Learning rate must be adjusted to a small enough level to train an accurate neural network.\n",
    "* Momentum must be large enough to overcome local minima yet small enough not to destabilize the training.\n",
    "* A single learning rate/momentum is often not good enough for the entire training process. It is often helpful to automatically decrease the learning rate as the training progresses.\n",
    "* All weights share a single learning rate/momentum.\n",
    "\n",
    "Other training techniques:\n",
    "\n",
    "* **Resilient Propagation** - Use only the magnitude of the gradient and allow each neuron to learn at its rate. There is no need for learning rate/momentum; however, it only works in full batch mode.\n",
    "* **Nesterov accelerated gradient** - Helps mitigate the risk of choosing a bad mini-batch.\n",
    "* **Adagrad** - Allows an automatically decaying per-weight learning rate and momentum concept.\n",
    "* **Adadelta** - Extension of Adagrad that seeks to reduce its aggressive, monotonically decreasing learning rate.\n",
    "* **Non-Gradient Methods** - Non-gradient methods can *sometimes* be useful, though rarely outperform gradient-based backpropagation methods.  These include: [simulated annealing](https://en.wikipedia.org/wiki/Simulated_annealing), [genetic algorithms](https://en.wikipedia.org/wiki/Genetic_algorithm), [particle swarm optimization](https://en.wikipedia.org/wiki/Particle_swarm_optimization), [Nelder Mead](https://en.wikipedia.org/wiki/Nelder%E2%80%93Mead_method), and [many more](https://en.wikipedia.org/wiki/Category:Optimization_algorithms_and_methods)."
   ]
  },
  {
   "cell_type": "markdown",
   "metadata": {
    "id": "M9hL2LjfYMwb"
   },
   "source": [
    "## ADAM Update\n",
    "\n",
    "ADAM is the first training algorithm you should try.  It is very effective.  Kingma and Ba (2014) introduced the Adam update rule that derives its name from the adaptive moment estimates. [[Cite:kingma2014adam]](https://arxiv.org/abs/1412.6980)  Adam estimates the first (mean) and second (variance) moments to determine the weight corrections.  Adam begins with an exponentially decaying average of past gradients (m):\n",
    "\n",
    "$$ m_t = \\beta_1 m_{t-1} + (1-\\beta_1) g_t $$\n",
    "\n",
    "This average accomplishes a similar goal as classic momentum update; however, its value is calculated automatically based on the current gradient ($g_t$).  The update rule then calculates the second moment ($v_t$):\n",
    "\n",
    "$$ v_t = \\beta_2 v_{t-1} + (1-\\beta_2) g_t^2 $$\n",
    "\n",
    "The values $m_t$ and $v_t$ are estimates of the gradients' first moment (the mean) and the second moment (the uncentered variance).  However, they will be strongly biased towards zero in the initial training cycles.  The first moment’s bias is corrected as follows.\n",
    "\n",
    "$$ \\hat{m}_t = \\frac{m_t}{1-\\beta^t_1} $$\n",
    "\n",
    "Similarly, the second moment is also corrected:\n",
    "\n",
    "$$ \\hat{v}_t = \\frac{v_t}{1-\\beta_2^t} $$\n",
    "\n",
    "These bias-corrected first and second moment estimates are applied to the ultimate Adam update rule, as follows:\n",
    "\n",
    "$$ \\theta_t = \\theta_{t-1} - \\frac{\\alpha \\cdot \\hat{m}_t}{\\sqrt{\\hat{v}_t}+\\eta} \\hat{m}_t $$\n",
    "\n",
    "Adam is very tolerant to initial learning rate (\\alpha) and other training parameters. Kingma and Ba (2014)  propose default values of 0.9 for $\\beta_1$, 0.999 for $\\beta_2$, and 10-8 for $\\eta$."
   ]
  },
  {
   "cell_type": "markdown",
   "metadata": {
    "id": "TcOgB9LfYMwc"
   },
   "source": [
    "## Methods Compared\n",
    "\n",
    "The following image shows how each of these algorithms train. It is animated, so it is not displayed in the printed book, but can be accessed from here: [https://bit.ly/3kykkbn](https://bit.ly/3kykkbn).\n",
    "\n",
    "![Training Techniques](https://raw.githubusercontent.com/jeffheaton/t81_558_deep_learning/master/images/contours_evaluation_optimizers.gif \"Training Techniques\")\n",
    "Image credits: [Alec Radford](https://scholar.google.com/citations?user=dOad5HoAAAAJ&hl=en)\n",
    "\n",
    "## Specifying the Optimizer in PyTorch\n",
    "\n",
    "PyTorch allows the update rule to be set to one of:\n",
    "\n",
    "* **Adam**\n",
    "* **SGD**\n",
    "* Adagrad\n",
    "* RMSprop\n",
    "* Rprop\n",
    "* SGD"
   ]
  },
  {
   "cell_type": "code",
   "execution_count": 2,
   "metadata": {
    "id": "caCDg1O1YMwc"
   },
   "outputs": [],
   "source": [
    "import pandas as pd\n",
    "from scipy.stats import zscore\n",
    "from sklearn.model_selection import train_test_split\n",
    "import matplotlib.pyplot as plt\n",
    "\n",
    "# Read the data set\n",
    "df = pd.read_csv(\n",
    "    \"https://data.heatonresearch.com/data/t81-558/jh-simple-dataset.csv\",\n",
    "    na_values=['NA','?'])\n",
    "\n",
    "# Generate dummies for job\n",
    "df = pd.concat([df,pd.get_dummies(df['job'],prefix=\"job\")],axis=1)\n",
    "df.drop('job', axis=1, inplace=True)\n",
    "\n",
    "# Generate dummies for area\n",
    "df = pd.concat([df,pd.get_dummies(df['area'],prefix=\"area\")],axis=1)\n",
    "df.drop('area', axis=1, inplace=True)\n",
    "\n",
    "# Generate dummies for product\n",
    "df = pd.concat([df,pd.get_dummies(df['product'],prefix=\"product\")],axis=1)\n",
    "df.drop('product', axis=1, inplace=True)\n",
    "\n",
    "# Missing values for income\n",
    "med = df['income'].median()\n",
    "df['income'] = df['income'].fillna(med)\n",
    "\n",
    "# Standardize ranges\n",
    "df['income'] = zscore(df['income'])\n",
    "df['aspect'] = zscore(df['aspect'])\n",
    "df['save_rate'] = zscore(df['save_rate'])\n",
    "df['subscriptions'] = zscore(df['subscriptions'])\n",
    "\n",
    "# Convert to numpy - Classification\n",
    "x_columns = df.columns.drop('age').drop('id')\n",
    "x = df[x_columns].values\n",
    "y = df['age'].values"
   ]
  },
  {
   "cell_type": "markdown",
   "metadata": {
    "id": "6Hk275kIeIUL"
   },
   "source": [
    "Now that the data is loaded, you can change the optimizer and parameters to try other configurations."
   ]
  },
  {
   "cell_type": "code",
   "execution_count": 3,
   "metadata": {
    "colab": {
     "base_uri": "https://localhost:8080/",
     "height": 1000
    },
    "id": "1bqVC3oNYMwd",
    "outputId": "e9c88e77-d6b7-4b42-9906-2550a6d9b899"
   },
   "outputs": [
    {
     "name": "stderr",
     "output_type": "stream",
     "text": [
      "Epoch: 1, tloss: 417.1086120605469, vloss: 399.926453, EStop:[0/5]: 100%|██████████| 94/94 [00:00<00:00, 154.54it/s]\n",
      "Epoch: 2, tloss: 260.3482971191406, vloss: 196.683807, EStop:[0/5]: 100%|██████████| 94/94 [00:00<00:00, 122.81it/s]\n",
      "Epoch: 3, tloss: 113.30532836914062, vloss: 120.558838, EStop:[0/5]: 100%|██████████| 94/94 [00:01<00:00, 89.63it/s]\n",
      "Epoch: 4, tloss: 154.3136749267578, vloss: 72.190468, EStop:[0/5]: 100%|██████████| 94/94 [00:01<00:00, 85.49it/s]\n",
      "Epoch: 5, tloss: 27.84233283996582, vloss: 48.981297, EStop:[0/5]: 100%|██████████| 94/94 [00:01<00:00, 74.10it/s]\n",
      "Epoch: 6, tloss: 11.633477210998535, vloss: 36.287212, EStop:[0/5]: 100%|██████████| 94/94 [00:01<00:00, 71.16it/s]\n",
      "Epoch: 7, tloss: 34.304378509521484, vloss: 28.494942, EStop:[0/5]: 100%|██████████| 94/94 [00:01<00:00, 87.11it/s]\n",
      "Epoch: 8, tloss: 10.6775541305542, vloss: 22.632414, EStop:[0/5]: 100%|██████████| 94/94 [00:00<00:00, 94.84it/s]\n",
      "Epoch: 9, tloss: 9.21286392211914, vloss: 18.454071, EStop:[0/5]: 100%|██████████| 94/94 [00:00<00:00, 105.72it/s]\n",
      "Epoch: 10, tloss: 15.310653686523438, vloss: 15.737953, EStop:[0/5]: 100%|██████████| 94/94 [00:01<00:00, 93.72it/s]\n",
      "Epoch: 11, tloss: 17.024503707885742, vloss: 13.896462, EStop:[0/5]: 100%|██████████| 94/94 [00:00<00:00, 100.47it/s]\n",
      "Epoch: 12, tloss: 18.77747917175293, vloss: 12.943502, EStop:[0/5]: 100%|██████████| 94/94 [00:00<00:00, 101.83it/s]\n",
      "Epoch: 13, tloss: 4.323344707489014, vloss: 11.708077, EStop:[0/5]: 100%|██████████| 94/94 [00:00<00:00, 102.63it/s]\n",
      "Epoch: 14, tloss: 8.068585395812988, vloss: 11.880865, EStop:[1/5]: 100%|██████████| 94/94 [00:00<00:00, 124.47it/s]\n",
      "Epoch: 15, tloss: 6.609195709228516, vloss: 10.101876, EStop:[0/5]: 100%|██████████| 94/94 [00:00<00:00, 101.16it/s]\n",
      "Epoch: 16, tloss: 12.599079132080078, vloss: 9.461326, EStop:[0/5]: 100%|██████████| 94/94 [00:00<00:00, 105.69it/s]\n",
      "Epoch: 17, tloss: 10.785198211669922, vloss: 8.688509, EStop:[0/5]: 100%|██████████| 94/94 [00:00<00:00, 99.27it/s] \n",
      "Epoch: 18, tloss: 7.311764240264893, vloss: 8.221279, EStop:[0/5]: 100%|██████████| 94/94 [00:00<00:00, 110.11it/s]\n",
      "Epoch: 19, tloss: 10.9163236618042, vloss: 7.488810, EStop:[0/5]: 100%|██████████| 94/94 [00:00<00:00, 99.08it/s]\n",
      "Epoch: 20, tloss: 6.96571683883667, vloss: 7.030106, EStop:[0/5]: 100%|██████████| 94/94 [00:00<00:00, 99.40it/s] \n",
      "Epoch: 21, tloss: 3.530580520629883, vloss: 6.806848, EStop:[0/5]: 100%|██████████| 94/94 [00:01<00:00, 88.76it/s]\n",
      "Epoch: 22, tloss: 2.6040923595428467, vloss: 6.180486, EStop:[0/5]: 100%|██████████| 94/94 [00:01<00:00, 86.07it/s]\n",
      "Epoch: 23, tloss: 4.233658790588379, vloss: 5.486431, EStop:[0/5]: 100%|██████████| 94/94 [00:01<00:00, 82.21it/s]\n",
      "Epoch: 24, tloss: 4.742563247680664, vloss: 5.491715, EStop:[1/5]: 100%|██████████| 94/94 [00:01<00:00, 85.52it/s]\n",
      "Epoch: 25, tloss: 3.239138603210449, vloss: 5.336585, EStop:[0/5]: 100%|██████████| 94/94 [00:00<00:00, 97.36it/s]\n",
      "Epoch: 26, tloss: 5.250756740570068, vloss: 4.465596, EStop:[0/5]: 100%|██████████| 94/94 [00:01<00:00, 87.67it/s]\n",
      "Epoch: 27, tloss: 2.7037839889526367, vloss: 3.758638, EStop:[0/5]: 100%|██████████| 94/94 [00:01<00:00, 80.40it/s]\n",
      "Epoch: 28, tloss: 6.184526443481445, vloss: 3.416609, EStop:[0/5]: 100%|██████████| 94/94 [00:01<00:00, 79.08it/s]\n",
      "Epoch: 29, tloss: 4.623667240142822, vloss: 3.127147, EStop:[0/5]: 100%|██████████| 94/94 [00:01<00:00, 87.81it/s]\n",
      "Epoch: 30, tloss: 3.5600497722625732, vloss: 2.794394, EStop:[0/5]: 100%|██████████| 94/94 [00:01<00:00, 88.96it/s]\n",
      "Epoch: 31, tloss: 2.343902826309204, vloss: 2.471716, EStop:[0/5]: 100%|██████████| 94/94 [00:00<00:00, 98.82it/s] \n",
      "Epoch: 32, tloss: 2.8967955112457275, vloss: 2.108397, EStop:[0/5]: 100%|██████████| 94/94 [00:01<00:00, 73.88it/s]\n",
      "Epoch: 33, tloss: 2.774048089981079, vloss: 2.001616, EStop:[0/5]: 100%|██████████| 94/94 [00:01<00:00, 68.62it/s]\n",
      "Epoch: 34, tloss: 1.0891884565353394, vloss: 1.652054, EStop:[0/5]: 100%|██████████| 94/94 [00:00<00:00, 101.74it/s]\n",
      "Epoch: 35, tloss: 0.8847483992576599, vloss: 1.390927, EStop:[0/5]: 100%|██████████| 94/94 [00:00<00:00, 99.40it/s]\n",
      "Epoch: 36, tloss: 1.7733277082443237, vloss: 1.225218, EStop:[0/5]: 100%|██████████| 94/94 [00:01<00:00, 76.67it/s]\n",
      "Epoch: 37, tloss: 0.7574134469032288, vloss: 1.085749, EStop:[0/5]: 100%|██████████| 94/94 [00:00<00:00, 161.91it/s]\n",
      "Epoch: 38, tloss: 1.0495232343673706, vloss: 0.917240, EStop:[0/5]: 100%|██████████| 94/94 [00:00<00:00, 170.88it/s]\n",
      "Epoch: 39, tloss: 0.6151635050773621, vloss: 0.794268, EStop:[0/5]: 100%|██████████| 94/94 [00:00<00:00, 162.92it/s]\n",
      "Epoch: 40, tloss: 0.5288322567939758, vloss: 0.789437, EStop:[1/5]: 100%|██████████| 94/94 [00:00<00:00, 173.16it/s]\n",
      "Epoch: 41, tloss: 0.6457955241203308, vloss: 0.723715, EStop:[0/5]: 100%|██████████| 94/94 [00:00<00:00, 168.82it/s]\n",
      "Epoch: 42, tloss: 0.8033519387245178, vloss: 0.683645, EStop:[0/5]: 100%|██████████| 94/94 [00:00<00:00, 143.20it/s]\n",
      "Epoch: 43, tloss: 0.2731611430644989, vloss: 0.647721, EStop:[0/5]: 100%|██████████| 94/94 [00:00<00:00, 154.97it/s]\n",
      "Epoch: 44, tloss: 0.3786906898021698, vloss: 0.646999, EStop:[1/5]: 100%|██████████| 94/94 [00:00<00:00, 169.40it/s]\n",
      "Epoch: 45, tloss: 0.4090321958065033, vloss: 0.604596, EStop:[0/5]: 100%|██████████| 94/94 [00:00<00:00, 171.75it/s]\n",
      "Epoch: 46, tloss: 0.21801717579364777, vloss: 0.687275, EStop:[1/5]: 100%|██████████| 94/94 [00:00<00:00, 161.84it/s]\n",
      "Epoch: 47, tloss: 0.33422374725341797, vloss: 0.605952, EStop:[2/5]: 100%|██████████| 94/94 [00:00<00:00, 165.38it/s]\n",
      "Epoch: 48, tloss: 0.5671996474266052, vloss: 0.595910, EStop:[3/5]: 100%|██████████| 94/94 [00:00<00:00, 152.67it/s]\n",
      "Epoch: 49, tloss: 0.23462605476379395, vloss: 0.589599, EStop:[0/5]: 100%|██████████| 94/94 [00:00<00:00, 153.79it/s]\n",
      "Epoch: 50, tloss: 0.3522922694683075, vloss: 0.557505, EStop:[0/5]: 100%|██████████| 94/94 [00:00<00:00, 164.45it/s]\n",
      "Epoch: 51, tloss: 0.3504750430583954, vloss: 0.607721, EStop:[1/5]: 100%|██████████| 94/94 [00:00<00:00, 167.55it/s]\n",
      "Epoch: 52, tloss: 0.12249202281236649, vloss: 0.632672, EStop:[2/5]: 100%|██████████| 94/94 [00:00<00:00, 166.90it/s]\n",
      "Epoch: 53, tloss: 0.28079673647880554, vloss: 0.563442, EStop:[3/5]: 100%|██████████| 94/94 [00:00<00:00, 150.43it/s]\n",
      "Epoch: 54, tloss: 0.3777056634426117, vloss: 0.556579, EStop:[4/5]: 100%|██████████| 94/94 [00:00<00:00, 144.90it/s]\n",
      "Epoch: 55, tloss: 0.28271034359931946, vloss: 0.564265, EStop:[Stopped on 5]: 100%|██████████| 94/94 [00:00<00:00, 170.24it/s]\n"
     ]
    },
    {
     "name": "stdout",
     "output_type": "stream",
     "text": [
      "Final score (RMSE): 0.7511757612228394\n"
     ]
    },
    {
     "data": {
      "image/png": "[encoded data removed]",
      "text/plain": [
       "<Figure size 432x288 with 1 Axes>"
      ]
     },
     "metadata": {
      "needs_background": "light"
     },
     "output_type": "display_data"
    }
   ],
   "source": [
    "import pandas as pd\n",
    "from sklearn.model_selection import train_test_split\n",
    "from sklearn.metrics import accuracy_score\n",
    "\n",
    "import torch.nn as nn\n",
    "import torch.nn.functional as F\n",
    "import numpy as np\n",
    "from torch.autograd import Variable\n",
    "from sklearn import preprocessing\n",
    "from sklearn import metrics\n",
    "from torch.utils.data import DataLoader, TensorDataset\n",
    "import tqdm\n",
    "import time\n",
    "\n",
    "\n",
    "# Define the PyTorch Neural Network\n",
    "class Net(nn.Module):\n",
    "    def __init__(self, in_count, out_count):\n",
    "        super(Net, self).__init__()\n",
    "        self.fc1 = nn.Linear(in_count, 50)\n",
    "        self.fc2 = nn.Linear(50, 25)\n",
    "        self.fc3 = nn.Linear(25, out_count)\n",
    "\n",
    "    def forward(self, x):\n",
    "        x = F.relu(self.fc1(x))\n",
    "        x = F.relu(self.fc2(x))\n",
    "        return self.fc3(x)\n",
    "\n",
    "# Split into validation and training sets\n",
    "x_train, x_test, y_train, y_test = train_test_split(    \n",
    "    x, y, test_size=0.25, random_state=42)\n",
    "\n",
    "# Numpy to Torch Tensor\n",
    "x_train = torch.Tensor(x_train).float()\n",
    "y_train = torch.Tensor(y_train).float()\n",
    "\n",
    "x_test = torch.Tensor(x_test).float().to(device)\n",
    "y_test = torch.Tensor(y_test).float().to(device)\n",
    "\n",
    "\n",
    "# Create datasets\n",
    "BATCH_SIZE = 16\n",
    "\n",
    "dataset_train = TensorDataset(x_train, y_train)\n",
    "dataloader_train = DataLoader(dataset_train,\\\n",
    "  batch_size=BATCH_SIZE, shuffle=True)\n",
    "\n",
    "dataset_test = TensorDataset(x_test, y_test)\n",
    "dataloader_test = DataLoader(dataset_test,\\\n",
    "  batch_size=BATCH_SIZE, shuffle=True)\n",
    "\n",
    "\n",
    "# Create model\n",
    "model = Net(x.shape[1],1).to(device)\n",
    "\n",
    "# Define the loss function for regression\n",
    "loss_fn = nn.MSELoss()\n",
    "\n",
    "# Define the optimizer (change this to try other optimizers)\n",
    "optimizer = torch.optim.Adam(model.parameters())\n",
    "\n",
    "es = EarlyStopping()\n",
    "\n",
    "epoch = 0\n",
    "done = False\n",
    "while epoch<1000 and not done:\n",
    "  epoch += 1\n",
    "  steps = list(enumerate(dataloader_train))\n",
    "  pbar = tqdm.tqdm(steps)\n",
    "  model.train()\n",
    "  for i, (x_batch, y_batch) in pbar:\n",
    "    y_batch_pred = model(x_batch.to(device)).flatten()\n",
    "    loss = loss_fn(y_batch_pred, y_batch.to(device))\n",
    "    optimizer.zero_grad()\n",
    "    loss.backward()\n",
    "    optimizer.step()\n",
    "\n",
    "    loss, current = loss.item(), (i + 1)* len(x_batch)\n",
    "    if i == len(steps)-1:\n",
    "      model.eval()\n",
    "      pred = model(x_test).flatten()\n",
    "      vloss = loss_fn(pred, y_test)\n",
    "      if es(model,vloss): done = True\n",
    "      pbar.set_description(f\"Epoch: {epoch}, tloss: {loss}, vloss: {vloss:>7f}, EStop:[{es.status}]\")\n",
    "    else:\n",
    "      pbar.set_description(f\"Epoch: {epoch}, tloss {loss:}\")\n",
    "\n",
    "# Measure RMSE error.  RMSE is common for regression.\n",
    "score = np.sqrt(metrics.mean_squared_error(pred.cpu().detach(),y_test.cpu().detach()))\n",
    "print(\"Final score (RMSE): {}\".format(score))\n",
    "\n",
    "# Plot the chart\n",
    "chart_regression(pred.flatten().cpu().detach(),y_test.cpu().detach())"
   ]
  }
 ],
 "metadata": {
  "anaconda-cloud": {},
  "colab": {
   "collapsed_sections": [],
   "provenance": []
  },
  "kernelspec": {
   "display_name": "Python 3.9 (tensorflow)",
   "language": "python",
   "name": "tensorflow"
  },
  "language_info": {
   "codemirror_mode": {
    "name": "ipython",
    "version": 3
   },
   "file_extension": ".py",
   "mimetype": "text/x-python",
   "name": "python",
   "nbconvert_exporter": "python",
   "pygments_lexer": "ipython3",
   "version": "3.9.13"
  },
  "varInspector": {
   "cols": {
    "lenName": 16,
    "lenType": 16,
    "lenVar": 40
   },
   "kernels_config": {
    "python": {
     "delete_cmd_postfix": "",
     "delete_cmd_prefix": "del ",
     "library": "var_list.py",
     "varRefreshCmd": "print(var_dic_list())"
    },
    "r": {
     "delete_cmd_postfix": ") ",
     "delete_cmd_prefix": "rm(",
     "library": "var_list.r",
     "varRefreshCmd": "cat(var_dic_list()) "
    }
   },
   "types_to_exclude": [
    "module",
    "function",
    "builtin_function_or_method",
    "instance",
    "_Feature"
   ],
   "window_display": false
  }
 },
 "nbformat": 4,
 "nbformat_minor": 1
}
