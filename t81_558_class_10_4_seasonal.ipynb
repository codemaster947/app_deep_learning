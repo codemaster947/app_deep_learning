{
 "cells": [
  {
   "cell_type": "markdown",
   "metadata": {
    "id": "V98TJtnquaMV"
   },
   "source": [
    "<a href=\"https://colab.research.google.com/github/jeffheaton/app_deep_learning/blob/master/t81_558_class_10_4_seasonal.ipynb\" target=\"_parent\"><img src=\"https://colab.research.google.com/assets/colab-badge.svg\" alt=\"Open In Colab\"/></a>"
   ]
  },
  {
   "cell_type": "markdown",
   "metadata": {
    "id": "p7pee43fuaMX"
   },
   "source": [
    "# T81-558: Applications of Deep Neural Networks\n",
    "**Module 10: Time Series in PyTorch**   \n",
    "\n",
    "* Instructor: [Jeff Heaton](https://sites.wustl.edu/jeffheaton/), McKelvey School of Engineering, [Washington University in St. Louis](https://engineering.wustl.edu/Programs/Pages/default.aspx)\n",
    "* For more information visit the [class website](https://sites.wustl.edu/jeffheaton/t81-558/)."
   ]
  },
  {
   "cell_type": "markdown",
   "metadata": {
    "id": "jMsySnkQuaMX"
   },
   "source": [
    "# Module 10 Material\n",
    "\n",
    "* Part 10.1: Time Series Data Encoding for Deep Learning, PyTorch [[Video]](https://www.youtube.com/watch?v=CZi5Avp6p1s&list=PLjy4p-07OYzulelvJ5KVaT2pDlxivl_BN) [[Notebook]](t81_558_class_10_1_timeseries.ipynb)\n",
    "* Part 10.2: LSTM-Based Time Series with PyTorch [[Video]](https://www.youtube.com/watch?v=hIQLy5zCgH4&list=PLjy4p-07OYzulelvJ5KVaT2pDlxivl_BN) [[Notebook]](t81_558_class_10_2_lstm.ipynb)\n",
    "* Part 10.3: Transformer-Based Time Series with PyTorch [[Video]](https://www.youtube.com/watch?v=NGzQpphf_Vc&list=PLjy4p-07OYzulelvJ5KVaT2pDlxivl_BN) [[Notebook]](t81_558_class_10_3_transformer_timeseries.ipynb)\n",
    "* **Part 10.4: Seasonality and Trend** [[Video]](https://www.youtube.com/watch?v=HOkxoLaUF9s&list=PLjy4p-07OYzulelvJ5KVaT2pDlxivl_BN) [[Notebook]](t81_558_class_10_4_seasonal.ipynb)\n",
    "* Part 10.5: Predicting with Meta Prophet [[Video]](https://www.youtube.com/watch?v=MzjMVsz0GyA&list=PLjy4p-07OYzulelvJ5KVaT2pDlxivl_BN) [[Notebook]](t81_558_class_10_5_prophet.ipynb)"
   ]
  },
  {
   "cell_type": "markdown",
   "metadata": {
    "id": "lp6NmYIguaMY"
   },
   "source": [
    "# Google CoLab Instructions\n",
    "\n",
    "The following code checks that Google CoLab is and sets up the correct hardware settings for PyTorch.\n"
   ]
  },
  {
   "cell_type": "code",
   "execution_count": null,
   "metadata": {
    "colab": {
     "base_uri": "https://localhost:8080/"
    },
    "id": "uLhK7ggiuaMY",
    "outputId": "0c201417-a8f0-4b75-9fc3-aa1c74b96dc3"
   },
   "outputs": [],
   "source": [
    "try:\n",
    "    import google.colab\n",
    "    COLAB = True\n",
    "    print(\"Note: using Google CoLab\")\n",
    "except:\n",
    "    print(\"Note: not using Google CoLab\")\n",
    "    COLAB = False\n",
    "\n",
    "# Make use of a GPU or MPS (Apple) if one is available.  (see module 3.2)\n",
    "import torch\n",
    "has_mps = torch.backends.mps.is_built()\n",
    "device = \"mps\" if has_mps else \"cuda\" if torch.cuda.is_available() else \"cpu\"\n",
    "print(f\"Using device: {device}\")"
   ]
  },
  {
   "cell_type": "markdown",
   "metadata": {
    "id": "TuaNSVvquaMY",
    "papermill": {
     "duration": 0.010564,
     "end_time": "2022-10-29T23:23:26.016454",
     "exception": false,
     "start_time": "2022-10-29T23:23:26.005890",
     "status": "completed"
    },
    "tags": []
   },
   "source": [
    "Predict demand by removing seasonality. This provides better accuracy than the naive prediction."
   ]
  },
  {
   "cell_type": "markdown",
   "metadata": {
    "id": "htflZgTRuaMZ"
   },
   "source": []
  },
  {
   "cell_type": "code",
   "execution_count": null,
   "metadata": {
    "_cell_guid": "b1076dfc-b9ad-4769-8c92-a6c4dae69d19",
    "_uuid": "8f2839f25d086af736a60e9eeb907d3b93b6e0e5",
    "id": "J_xTqlsYuaMZ",
    "papermill": {
     "duration": 0.272663,
     "end_time": "2022-10-29T23:23:26.299035",
     "exception": false,
     "start_time": "2022-10-29T23:23:26.026372",
     "status": "completed"
    },
    "tags": []
   },
   "outputs": [],
   "source": [
    "import pandas as pd\n",
    "import os\n",
    "\n",
    "df_sales_train = pd.read_csv(\"https://data.heatonresearch.com/wustl/CABI/demand-forecast/sales_train.csv\")\n",
    "df_items = pd.read_csv(\"https://data.heatonresearch.com/wustl/CABI/demand-forecast/items.csv\")\n",
    "df_resturant = pd.read_csv(\"https://data.heatonresearch.com/wustl/CABI/demand-forecast/resturants.csv\")\n",
    "\n",
    "df_sales_train.date = pd.to_datetime(df_sales_train.date, errors='coerce')"
   ]
  },
  {
   "cell_type": "markdown",
   "metadata": {
    "id": "SoXQdecOuaMZ",
    "papermill": {
     "duration": 0.009134,
     "end_time": "2022-10-29T23:23:26.317740",
     "exception": false,
     "start_time": "2022-10-29T23:23:26.308606",
     "status": "completed"
    },
    "tags": []
   },
   "source": [
    "Begin by producing a line graph of all sales over the provided 3-year timespan."
   ]
  },
  {
   "cell_type": "code",
   "execution_count": null,
   "metadata": {
    "colab": {
     "base_uri": "https://localhost:8080/",
     "height": 542
    },
    "id": "xK7jbQO5uaMZ",
    "outputId": "f17f6727-7ca4-4688-a646-b94ee22559f7",
    "papermill": {
     "duration": 2.545289,
     "end_time": "2022-10-29T23:23:28.874218",
     "exception": false,
     "start_time": "2022-10-29T23:23:26.328929",
     "status": "completed"
    },
    "tags": []
   },
   "outputs": [],
   "source": [
    "import plotly.express as px\n",
    "\n",
    "df_plot = df_sales_train[['date','item_count']].groupby(['date']).mean().reset_index()\n",
    "fig = px.line(df_plot, x=\"date\", y=\"item_count\", title='RAW Sales by Date')\n",
    "fig.show()"
   ]
  },
  {
   "cell_type": "markdown",
   "metadata": {
    "id": "ltk36qPouaMZ",
    "papermill": {
     "duration": 0.010606,
     "end_time": "2022-10-29T23:23:28.895814",
     "exception": false,
     "start_time": "2022-10-29T23:23:28.885208",
     "status": "completed"
    },
    "tags": []
   },
   "source": [
    "## Detrending\n",
    "\n",
    "Can you see an overall trend in this data? Beyond just the seasonality?"
   ]
  },
  {
   "cell_type": "code",
   "execution_count": null,
   "metadata": {
    "colab": {
     "base_uri": "https://localhost:8080/",
     "height": 542
    },
    "id": "kfsWc3VUuaMZ",
    "outputId": "897a507d-e18b-4f67-8447-d6748caf381b",
    "papermill": {
     "duration": 0.815169,
     "end_time": "2022-10-29T23:23:29.721468",
     "exception": false,
     "start_time": "2022-10-29T23:23:28.906299",
     "status": "completed"
    },
    "tags": []
   },
   "outputs": [],
   "source": [
    "from scipy import signal\n",
    "\n",
    "df_plot.item_count = signal.detrend(df_plot.item_count)\n",
    "\n",
    "fig = px.line(df_plot, x=\"date\", y=\"item_count\", title='RAW Sales by Date')\n",
    "fig.show()"
   ]
  },
  {
   "cell_type": "code",
   "execution_count": null,
   "metadata": {
    "colab": {
     "base_uri": "https://localhost:8080/",
     "height": 542
    },
    "id": "nMAUVjF0uaMZ",
    "outputId": "98e8f714-e323-4ab8-f5f3-dabe1d4a8717",
    "papermill": {
     "duration": 0.096416,
     "end_time": "2022-10-29T23:23:29.828714",
     "exception": false,
     "start_time": "2022-10-29T23:23:29.732298",
     "status": "completed"
    },
    "tags": []
   },
   "outputs": [],
   "source": [
    "from scipy import signal\n",
    "\n",
    "df_plot.item_count = signal.detrend(df_plot.item_count)\n",
    "\n",
    "fig = px.line(df_plot, x=\"date\", y=\"item_count\", title='RAW Sales by Date')\n",
    "fig.show()"
   ]
  },
  {
   "cell_type": "markdown",
   "metadata": {
    "id": "Y0XCnEcauaMZ",
    "papermill": {
     "duration": 0.010789,
     "end_time": "2022-10-29T23:23:29.850737",
     "exception": false,
     "start_time": "2022-10-29T23:23:29.839948",
     "status": "completed"
    },
    "tags": []
   },
   "source": [
    "## De-Seasoning\n",
    "\n",
    "Lets remove the seasonality."
   ]
  },
  {
   "cell_type": "code",
   "execution_count": null,
   "metadata": {
    "colab": {
     "base_uri": "https://localhost:8080/",
     "height": 487
    },
    "id": "dh1HVt_iuaMa",
    "outputId": "69389036-8345-4bce-8cd6-6585f3743849",
    "papermill": {
     "duration": 0.864012,
     "end_time": "2022-10-29T23:23:30.727798",
     "exception": false,
     "start_time": "2022-10-29T23:23:29.863786",
     "status": "completed"
    },
    "tags": []
   },
   "outputs": [],
   "source": [
    "from statsmodels.tsa.seasonal import seasonal_decompose\n",
    "from matplotlib import pyplot\n",
    "\n",
    "df_plot = df_sales_train[['date','item_count']].groupby(['date']).mean()\n",
    "\n",
    "# extrapolate_trend='freq',\n",
    "adjustment = seasonal_decompose(df_plot.item_count, model='multiplicative') # , model='additive', period=7\n",
    "\n",
    "# multiplicative\n",
    "# additive\n",
    "\n",
    "adjustment.plot()\n",
    "pyplot.show()"
   ]
  },
  {
   "cell_type": "markdown",
   "metadata": {
    "id": "Qn5iTXELuaMa",
    "papermill": {
     "duration": 0.012299,
     "end_time": "2022-10-29T23:23:30.752202",
     "exception": false,
     "start_time": "2022-10-29T23:23:30.739903",
     "status": "completed"
    },
    "tags": []
   },
   "source": [
    "Notice how the yearly seasonality was detected as the trend? The weekly seasonality was detected as seasonal. Without zooming you cannot see the ups and downs of the individual days of the week."
   ]
  },
  {
   "cell_type": "code",
   "execution_count": null,
   "metadata": {
    "colab": {
     "base_uri": "https://localhost:8080/"
    },
    "id": "GD0gS60cuaMa",
    "outputId": "9c9500e8-4faa-48cb-d537-70d0da63dc1c",
    "papermill": {
     "duration": 0.026423,
     "end_time": "2022-10-29T23:23:30.790700",
     "exception": false,
     "start_time": "2022-10-29T23:23:30.764277",
     "status": "completed"
    },
    "tags": []
   },
   "outputs": [],
   "source": [
    "adjustment.trend"
   ]
  },
  {
   "cell_type": "code",
   "execution_count": null,
   "metadata": {
    "colab": {
     "base_uri": "https://localhost:8080/"
    },
    "id": "slofQ4IvuaMa",
    "outputId": "d1ba05d5-6d85-484d-f0a9-5d5634dd85e9",
    "papermill": {
     "duration": 0.026839,
     "end_time": "2022-10-29T23:23:30.829465",
     "exception": false,
     "start_time": "2022-10-29T23:23:30.802626",
     "status": "completed"
    },
    "tags": []
   },
   "outputs": [],
   "source": [
    "adjustment.seasonal"
   ]
  },
  {
   "cell_type": "markdown",
   "metadata": {
    "id": "2gpscWl8uaMa",
    "papermill": {
     "duration": 0.012413,
     "end_time": "2022-10-29T23:23:30.854160",
     "exception": false,
     "start_time": "2022-10-29T23:23:30.841747",
     "status": "completed"
    },
    "tags": []
   },
   "source": [
    "## Resulting Dataset\n",
    "Lets see the dataset \"flattened\"."
   ]
  },
  {
   "cell_type": "code",
   "execution_count": null,
   "metadata": {
    "colab": {
     "base_uri": "https://localhost:8080/",
     "height": 542
    },
    "id": "HNwUjs7MuaMa",
    "outputId": "4063556c-3806-4b49-d6c0-1dd139a1e1e8",
    "papermill": {
     "duration": 0.098554,
     "end_time": "2022-10-29T23:23:30.965488",
     "exception": false,
     "start_time": "2022-10-29T23:23:30.866934",
     "status": "completed"
    },
    "tags": []
   },
   "outputs": [],
   "source": [
    "df_plot2 = df_plot.copy()\n",
    "\n",
    "df_plot2.item_count = df_plot2.item_count / adjustment.seasonal / adjustment.trend\n",
    "\n",
    "fig = px.line(df_plot2.reset_index(), x=\"date\", y=\"item_count\", title='RAW Sales by Date')\n",
    "fig.show()"
   ]
  },
  {
   "cell_type": "code",
   "execution_count": null,
   "metadata": {
    "colab": {
     "base_uri": "https://localhost:8080/",
     "height": 455
    },
    "id": "Er7aCdLDuaMa",
    "outputId": "e6777bc0-51e8-4e95-d398-120e306d9d6b",
    "papermill": {
     "duration": 0.035945,
     "end_time": "2022-10-29T23:23:31.014272",
     "exception": false,
     "start_time": "2022-10-29T23:23:30.978327",
     "status": "completed"
    },
    "tags": []
   },
   "outputs": [],
   "source": [
    "df_adjustment = pd.DataFrame(adjustment.seasonal)\n",
    "df_adjustment['trend'] = adjustment.trend\n",
    "\n",
    "df_adjustment"
   ]
  },
  {
   "cell_type": "markdown",
   "metadata": {
    "id": "ixLU7xe9uaMa",
    "papermill": {
     "duration": 0.013614,
     "end_time": "2022-10-29T23:23:31.041394",
     "exception": false,
     "start_time": "2022-10-29T23:23:31.027780",
     "status": "completed"
    },
    "tags": []
   },
   "source": [
    "We will save the adjustment table to a binary pickle form, so we can later reload it exactly as it is. We will make use of this table during day 2."
   ]
  },
  {
   "cell_type": "code",
   "execution_count": null,
   "metadata": {
    "id": "dD67RlSuuaMa",
    "papermill": {
     "duration": 0.021757,
     "end_time": "2022-10-29T23:23:31.076697",
     "exception": false,
     "start_time": "2022-10-29T23:23:31.054940",
     "status": "completed"
    },
    "tags": []
   },
   "outputs": [],
   "source": [
    "df_adjustment.to_pickle(\"adjustment.pkl\")"
   ]
  },
  {
   "cell_type": "markdown",
   "metadata": {
    "id": "UNRJUt76uaMa",
    "papermill": {
     "duration": 0.013031,
     "end_time": "2022-10-29T23:23:31.103294",
     "exception": false,
     "start_time": "2022-10-29T23:23:31.090263",
     "status": "completed"
    },
    "tags": []
   },
   "source": [
    "### Convert All Items\n",
    "Now that we've estimated seasonality and trend for the average of all items, we must apply this to the individual items."
   ]
  },
  {
   "cell_type": "code",
   "execution_count": null,
   "metadata": {
    "id": "3_MNTBYcuaMa",
    "papermill": {
     "duration": 0.064035,
     "end_time": "2022-10-29T23:23:31.180520",
     "exception": false,
     "start_time": "2022-10-29T23:23:31.116485",
     "status": "completed"
    },
    "tags": []
   },
   "outputs": [],
   "source": [
    "df_sales_adj = df_sales_train.merge(df_adjustment,right_index=True,left_on=\"date\")\n",
    "df_sales_adj.dropna(inplace=True)\n",
    "df_sales_adj['adjust'] = df_sales_adj.item_count / df_sales_adj.seasonal / df_sales_adj.trend"
   ]
  },
  {
   "cell_type": "markdown",
   "metadata": {
    "id": "A4WjFE3LuaMb",
    "papermill": {
     "duration": 0.013047,
     "end_time": "2022-10-29T23:23:31.206803",
     "exception": false,
     "start_time": "2022-10-29T23:23:31.193756",
     "status": "completed"
    },
    "tags": []
   },
   "source": [
    "Compare the individual item plot to the previous example with seasonality still embeded."
   ]
  },
  {
   "cell_type": "code",
   "execution_count": null,
   "metadata": {
    "colab": {
     "base_uri": "https://localhost:8080/",
     "height": 613
    },
    "id": "9vhX4jeDuaMb",
    "outputId": "a8f783dc-ac8c-4c5a-8337-6a2d23f26fb4",
    "papermill": {
     "duration": 1.396544,
     "end_time": "2022-10-29T23:23:32.616541",
     "exception": false,
     "start_time": "2022-10-29T23:23:31.219997",
     "status": "completed"
    },
    "tags": []
   },
   "outputs": [],
   "source": [
    "SINGLE_YEAR = 2020\n",
    "\n",
    "df_sales_single_year = df_sales_adj[df_sales_train['date'].dt.year == SINGLE_YEAR]\n",
    "df_plot = df_sales_single_year[['date','item_id','adjust']].groupby(['date','item_id']).mean().reset_index()\n",
    "df_plot = df_plot.merge(df_items,left_on=\"item_id\",right_on=\"id\")[['date','adjust','name']]\n",
    "fig = px.bar(df_plot, x='date', y='adjust',color=\"name\", title=f'Item Sales by Date - {SINGLE_YEAR}')\n",
    "fig.update_layout(bargap=0.0,bargroupgap=0.0)\n",
    "fig.show()"
   ]
  }
 ],
 "metadata": {
  "colab": {
   "provenance": []
  },
  "kernelspec": {
   "display_name": "Python 3.11 (torch)",
   "language": "python",
   "name": "pytorch"
  },
  "language_info": {
   "codemirror_mode": {
    "name": "ipython",
    "version": 3
   },
   "file_extension": ".py",
   "mimetype": "text/x-python",
   "name": "python",
   "nbconvert_exporter": "python",
   "pygments_lexer": "ipython3",
   "version": "3.9.18"
  }
 },
 "nbformat": 4,
 "nbformat_minor": 0
}
