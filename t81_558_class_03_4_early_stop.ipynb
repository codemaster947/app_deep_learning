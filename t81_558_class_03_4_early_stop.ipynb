{
  "cells": [
    {
      "cell_type": "markdown",
      "metadata": {
        "id": "dZXh7dogJlHH"
      },
      "source": [
        "<a href=\"https://colab.research.google.com/github/jeffheaton/t81_558_deep_learning/blob/pytorch/t81_558_class_03_4_early_stop.ipynb\" target=\"_parent\"><img src=\"https://colab.research.google.com/assets/colab-badge.svg\" alt=\"Open In Colab\"/></a>"
      ]
    },
    {
      "cell_type": "markdown",
      "metadata": {
        "id": "mKH1QxMuJlHK"
      },
      "source": [
        "# T81-558: Applications of Deep Neural Networks\n",
        "**Module 3: Introduction to PyTorch**\n",
        "* Instructor: [Jeff Heaton](https://sites.wustl.edu/jeffheaton/), McKelvey School of Engineering, [Washington University in St. Louis](https://engineering.wustl.edu/Programs/Pages/default.aspx)\n",
        "* For more information visit the [class website](https://sites.wustl.edu/jeffheaton/t81-558/)."
      ]
    },
    {
      "cell_type": "markdown",
      "metadata": {
        "id": "fwkbs9-gJlHL"
      },
      "source": [
        "# Module 3 Material\n",
        "\n",
        "* Part 3.1: Deep Learning and Neural Network Introduction [[Video]](https://www.youtube.com/watch?v=OaJntP14cRA&list=PLjy4p-07OYzuy_lHcRW8lPTLPTTOmUpmi) [[Notebook]](t81_558_class_03_1_neural_net.ipynb)\n",
        "* Part 3.2: Introduction to PyTorch [[Video]](https://www.youtube.com/watch?v=z5X2qV5h_p0&list=PLjy4p-07OYzuy_lHcRW8lPTLPTTOmUpmi) [[Notebook]](t81_558_class_03_2_pytorch.ipynb)\n",
        "* Part 3.3: Saving and Loading a PyTorch Neural Network [[Video]](https://www.youtube.com/watch?v=NkG8w_Ua2Yo&list=PLjy4p-07OYzuy_lHcRW8lPTLPTTOmUpmi) [[Notebook]](t81_558_class_03_3_save_load.ipynb)\n",
        "* **Part 3.4: Early Stopping in PyTorch to Prevent Overfitting** [[Video]](https://www.youtube.com/watch?v=7Fboe7_aTtY&list=PLjy4p-07OYzuy_lHcRW8lPTLPTTOmUpmi) [[Notebook]](t81_558_class_03_4_early_stop.ipynb)\n",
        "* Part 3.5: Extracting Weights and Manual Calculation [[Video]](https://www.youtube.com/watch?v=Fw9VqcqFP_c&list=PLjy4p-07OYzuy_lHcRW8lPTLPTTOmUpmi) [[Notebook]](t81_558_class_03_5_weights.ipynb)"
      ]
    },
    {
      "cell_type": "markdown",
      "metadata": {
        "id": "ovYF1H1ZJlHL"
      },
      "source": [
        "# Google CoLab Instructions\n",
        "\n",
        "The following code ensures that Google CoLab is running and maps Google Drive if needed. We also initialize the PyTorch device to either GPU/MPS (if available) or CPU."
      ]
    },
    {
      "cell_type": "code",
      "execution_count": 1,
      "metadata": {
        "colab": {
          "base_uri": "https://localhost:8080/"
        },
        "id": "H4wO3BiMJlHM",
        "outputId": "4eca8b22-802a-47c9-eee3-365fad896474"
      },
      "outputs": [
        {
          "output_type": "stream",
          "name": "stdout",
          "text": [
            "Note: using Google CoLab\n",
            "Using device: cuda\n"
          ]
        }
      ],
      "source": [
        "import torch\n",
        "try:\n",
        "    import google.colab\n",
        "    COLAB = True\n",
        "    print(\"Note: using Google CoLab\")\n",
        "except:\n",
        "    print(\"Note: not using Google CoLab\")\n",
        "    COLAB = False\n",
        "\n",
        "# Make use of a GPU or MPS (Apple) if one is available.  (see module 3.2)\n",
        "device = \"mps\" if getattr(torch,'has_mps',False) \\\n",
        "    else \"cuda\" if torch.cuda.is_available() else \"cpu\"\n",
        "print(f\"Using device: {device}\")"
      ]
    },
    {
      "cell_type": "markdown",
      "metadata": {
        "id": "mWo4ptCdJlHN"
      },
      "source": [
        "# Part 3.4: Early Stopping in Keras to Prevent Overfitting\n",
        "\n",
        "It can be difficult to determine how many epochs to cycle through to train a neural network. Overfitting will occur if you train the neural network for too many epochs, and the neural network will not perform well on new data, despite attaining a good accuracy on the training set. Overfitting occurs when a neural network is trained to the point that it begins to memorize rather than generalize, as demonstrated in Figure 3.OVER. \n",
        "\n",
        "**Figure 3.OVER: Training vs. Validation Error for Overfitting**\n",
        "![Training vs. Validation Error for Overfitting](https://raw.githubusercontent.com/jeffheaton/t81_558_deep_learning/master/images/class_3_training_val.png \"Training vs. Validation Error for Overfitting\")\n",
        "\n",
        "It is important to segment the original dataset into several datasets:\n",
        "\n",
        "* **Training Set**\n",
        "* **Validation Set**\n",
        "* **Holdout Set**\n",
        "\n",
        "You can construct these sets in several different ways. The following programs demonstrate some of these.\n",
        "\n",
        "The first method is a training and validation set. We use the training data to train the neural network until the validation set no longer improves. This attempts to stop at a near-optimal training point. This method will only give accurate \"out of sample\" predictions for the validation set; this is usually 20% of the data. The predictions for the training data will be overly optimistic, as these were the data that we used to train the neural network. Figure 3.VAL demonstrates how we divide the dataset.\n",
        "\n",
        "**Figure 3.VAL: Training with a Validation Set**\n",
        "![Training with a Validation Set](https://raw.githubusercontent.com/jeffheaton/t81_558_deep_learning/master/images/class_1_train_val.png \"Training with a Validation Set\")"
      ]
    },
    {
      "cell_type": "markdown",
      "metadata": {
        "id": "qfQxxVVs--7K"
      },
      "source": [
        "Because PyTorch does not include a built-in early stopping function, we must define one of our own. We will use the following **EarlyStopping** class throughout this course.\n",
        "\n",
        "We can provide several parameters to the **EarlyStopping** object: \n",
        "\n",
        "* **min_delta** This value should be kept small; it specifies the minimum change that should be considered an improvement. Setting it even smaller will not likely have a great deal of impact.\n",
        "* **patience** How long should the training wait for the validation error to improve?  \n",
        "* **restore_best_weights** You should usually set this to true, as it restores the weights to the values they were at when the validation set is the highest. \n",
        "\n",
        "We will now see an example of this class in action."
      ]
    },
    {
      "cell_type": "code",
      "execution_count": 2,
      "metadata": {
        "id": "CAezCpVfOFAF"
      },
      "outputs": [],
      "source": [
        "import io\n",
        "import copy\n",
        "\n",
        "class EarlyStopping():\n",
        "  def __init__(self, patience=5, min_delta=0, restore_best_weights=True):\n",
        "    self.patience = patience\n",
        "    self.min_delta = min_delta\n",
        "    self.restore_best_weights = restore_best_weights\n",
        "    self.best_model = None\n",
        "    self.best_loss = None\n",
        "    self.counter = 0\n",
        "    self.status = \"\"\n",
        "    \n",
        "  def __call__(self, model, val_loss):\n",
        "    if self.best_loss == None:\n",
        "      self.best_loss = val_loss\n",
        "      self.best_model = copy.deepcopy(model)\n",
        "    elif self.best_loss - val_loss > self.min_delta:\n",
        "      self.best_loss = val_loss\n",
        "      self.counter = 0\n",
        "      self.best_model.load_state_dict(model.state_dict())\n",
        "    elif self.best_loss - val_loss < self.min_delta:\n",
        "      self.counter += 1\n",
        "      if self.counter >= self.patience:\n",
        "        self.status = f\"Stopped on {self.counter}\"\n",
        "        if self.restore_best_weights:\n",
        "          model.load_state_dict(self.best_model.state_dict())\n",
        "        return True\n",
        "    self.status = f\"{self.counter}/{self.patience}\"\n",
        "    return False\n",
        "\n"
      ]
    },
    {
      "cell_type": "markdown",
      "metadata": {
        "id": "nrsobz8ZJlHO"
      },
      "source": [
        "## Early Stopping with Classification\n",
        "\n",
        "We will now see an example of classification training with early stopping. We will train the neural network until the error no longer improves on the validation set."
      ]
    },
    {
      "cell_type": "code",
      "execution_count": 3,
      "metadata": {
        "colab": {
          "base_uri": "https://localhost:8080/"
        },
        "id": "Isrrl6hyJlHP",
        "outputId": "2228ddb5-c5a8-435d-e9f8-a9d9dfe936ca"
      },
      "outputs": [
        {
          "output_type": "stream",
          "name": "stderr",
          "text": [
            "Epoch: 1, tloss: 1.0331315994262695, vloss: 0.964356, EStop:[0/5]: 100%|██████████| 7/7 [00:01<00:00,  6.96it/s]\n",
            "Epoch: 2, tloss: 0.957794725894928, vloss: 0.816537, EStop:[0/5]: 100%|██████████| 7/7 [00:00<00:00, 269.25it/s]\n",
            "Epoch: 3, tloss: 0.6983193755149841, vloss: 0.751875, EStop:[0/5]: 100%|██████████| 7/7 [00:00<00:00, 263.80it/s]\n",
            "Epoch: 4, tloss: 0.76822829246521, vloss: 0.717480, EStop:[0/5]: 100%|██████████| 7/7 [00:00<00:00, 248.16it/s]\n",
            "Epoch: 5, tloss: 0.6565318703651428, vloss: 0.665561, EStop:[0/5]: 100%|██████████| 7/7 [00:00<00:00, 244.84it/s]\n",
            "Epoch: 6, tloss: 0.6225875020027161, vloss: 0.674989, EStop:[1/5]: 100%|██████████| 7/7 [00:00<00:00, 242.72it/s]\n",
            "Epoch: 7, tloss: 0.7430076003074646, vloss: 0.620077, EStop:[0/5]: 100%|██████████| 7/7 [00:00<00:00, 265.89it/s]\n",
            "Epoch: 8, tloss: 0.6491689085960388, vloss: 0.626970, EStop:[1/5]: 100%|██████████| 7/7 [00:00<00:00, 256.77it/s]\n",
            "Epoch: 9, tloss: 0.5837416052818298, vloss: 0.606287, EStop:[0/5]: 100%|██████████| 7/7 [00:00<00:00, 251.04it/s]\n",
            "Epoch: 10, tloss: 0.6202138662338257, vloss: 0.623306, EStop:[1/5]: 100%|██████████| 7/7 [00:00<00:00, 254.49it/s]\n",
            "Epoch: 11, tloss: 0.5727320313453674, vloss: 0.628402, EStop:[2/5]: 100%|██████████| 7/7 [00:00<00:00, 243.61it/s]\n",
            "Epoch: 12, tloss: 0.589710533618927, vloss: 0.589509, EStop:[0/5]: 100%|██████████| 7/7 [00:00<00:00, 241.81it/s]\n",
            "Epoch: 13, tloss: 0.6851798295974731, vloss: 0.584907, EStop:[0/5]: 100%|██████████| 7/7 [00:00<00:00, 247.05it/s]\n",
            "Epoch: 14, tloss: 0.5668054223060608, vloss: 0.665253, EStop:[1/5]: 100%|██████████| 7/7 [00:00<00:00, 248.38it/s]\n",
            "Epoch: 15, tloss: 0.6070419549942017, vloss: 0.702049, EStop:[2/5]: 100%|██████████| 7/7 [00:00<00:00, 262.99it/s]\n",
            "Epoch: 16, tloss: 0.6032581925392151, vloss: 0.638453, EStop:[3/5]: 100%|██████████| 7/7 [00:00<00:00, 231.27it/s]\n",
            "Epoch: 17, tloss: 0.5586928725242615, vloss: 0.584613, EStop:[0/5]: 100%|██████████| 7/7 [00:00<00:00, 253.16it/s]\n",
            "Epoch: 18, tloss: 0.5672680139541626, vloss: 0.581765, EStop:[0/5]: 100%|██████████| 7/7 [00:00<00:00, 206.03it/s]\n",
            "Epoch: 19, tloss: 0.555303692817688, vloss: 0.577981, EStop:[0/5]: 100%|██████████| 7/7 [00:00<00:00, 220.85it/s]\n",
            "Epoch: 20, tloss: 0.5837512612342834, vloss: 0.576949, EStop:[0/5]: 100%|██████████| 7/7 [00:00<00:00, 255.85it/s]\n",
            "Epoch: 21, tloss: 0.6297465562820435, vloss: 0.578116, EStop:[1/5]: 100%|██████████| 7/7 [00:00<00:00, 262.27it/s]\n",
            "Epoch: 22, tloss: 0.5587324500083923, vloss: 0.584141, EStop:[2/5]: 100%|██████████| 7/7 [00:00<00:00, 263.55it/s]\n",
            "Epoch: 23, tloss: 0.627019464969635, vloss: 0.582546, EStop:[3/5]: 100%|██████████| 7/7 [00:00<00:00, 230.35it/s]\n",
            "Epoch: 24, tloss: 0.5529384016990662, vloss: 0.576591, EStop:[0/5]: 100%|██████████| 7/7 [00:00<00:00, 267.24it/s]\n",
            "Epoch: 25, tloss: 0.6162732839584351, vloss: 0.587800, EStop:[1/5]: 100%|██████████| 7/7 [00:00<00:00, 258.68it/s]\n",
            "Epoch: 26, tloss: 0.6385148167610168, vloss: 0.575663, EStop:[0/5]: 100%|██████████| 7/7 [00:00<00:00, 246.35it/s]\n",
            "Epoch: 27, tloss: 0.5959137678146362, vloss: 0.591681, EStop:[1/5]: 100%|██████████| 7/7 [00:00<00:00, 228.83it/s]\n",
            "Epoch: 28, tloss: 0.5803515315055847, vloss: 0.577299, EStop:[2/5]: 100%|██████████| 7/7 [00:00<00:00, 223.15it/s]\n",
            "Epoch: 29, tloss: 0.5622806549072266, vloss: 0.585853, EStop:[3/5]: 100%|██████████| 7/7 [00:00<00:00, 235.20it/s]\n",
            "Epoch: 30, tloss: 0.5811929702758789, vloss: 0.575872, EStop:[4/5]: 100%|██████████| 7/7 [00:00<00:00, 248.61it/s]\n",
            "Epoch: 31, tloss: 0.55635005235672, vloss: 0.598549, EStop:[Stopped on 5]: 100%|██████████| 7/7 [00:00<00:00, 237.21it/s]\n"
          ]
        }
      ],
      "source": [
        "import pandas as pd\n",
        "from sklearn.model_selection import train_test_split\n",
        "from sklearn.metrics import accuracy_score\n",
        "\n",
        "import torch.nn as nn\n",
        "import torch.nn.functional as F\n",
        "import numpy as np\n",
        "from torch.autograd import Variable\n",
        "from sklearn import preprocessing\n",
        "from torch.utils.data import DataLoader, TensorDataset\n",
        "import tqdm\n",
        "import time\n",
        "\n",
        "# Define the PyTorch Neural Network\n",
        "class Net(nn.Module):\n",
        "    def __init__(self, in_count, out_count):\n",
        "        super(Net, self).__init__()\n",
        "        self.fc1 = nn.Linear(in_count, 50)\n",
        "        self.fc2 = nn.Linear(50, 25)\n",
        "        self.fc3 = nn.Linear(25, out_count)\n",
        "        self.softmax = nn.Softmax(dim=1)\n",
        "\n",
        "    def forward(self, x):\n",
        "        x = F.relu(self.fc1(x))\n",
        "        x = F.relu(self.fc2(x))\n",
        "        return self.softmax(self.fc3(x))\n",
        "\n",
        "df = pd.read_csv(\n",
        "    \"https://data.heatonresearch.com/data/t81-558/iris.csv\", \n",
        "    na_values=['NA', '?'])\n",
        "\n",
        "le = preprocessing.LabelEncoder()\n",
        "\n",
        "x = df[['sepal_l', 'sepal_w', 'petal_l', 'petal_w']].values\n",
        "y = le.fit_transform(df['species'])\n",
        "species = le.classes_\n",
        "\n",
        "# Split into validation and training sets\n",
        "x_train, x_test, y_train, y_test = train_test_split(    \n",
        "    x, y, test_size=0.25, random_state=42)\n",
        "\n",
        "# Numpy to Torch Tensor\n",
        "x_train = torch.tensor(x_train, device=device, dtype=torch.float32)\n",
        "y_train = torch.tensor(y_train, device=device, dtype=torch.long)\n",
        "\n",
        "x_test = torch.tensor(x_test, device=device, dtype=torch.float32)\n",
        "y_test = torch.tensor(y_test, device=device, dtype=torch.long)\n",
        "\n",
        "\n",
        "# Create datasets\n",
        "BATCH_SIZE = 16\n",
        "\n",
        "dataset_train = TensorDataset(x_train, y_train)\n",
        "dataloader_train = DataLoader(dataset_train,\\\n",
        "  batch_size=BATCH_SIZE, shuffle=True)\n",
        "\n",
        "dataset_test = TensorDataset(x_test, y_test)\n",
        "dataloader_test = DataLoader(dataset_test,\\\n",
        "  batch_size=BATCH_SIZE, shuffle=True)\n",
        "\n",
        "\n",
        "# Create model\n",
        "model = Net(x.shape[1],len(species)).to(device)\n",
        "\n",
        "loss_fn = nn.CrossEntropyLoss()# cross entropy loss\n",
        "\n",
        "optimizer = torch.optim.Adam(model.parameters(), lr=0.01)\n",
        "es = EarlyStopping()\n",
        "\n",
        "epoch = 0\n",
        "done = False\n",
        "while epoch<1000 and not done:\n",
        "  epoch += 1\n",
        "  steps = list(enumerate(dataloader_train))\n",
        "  pbar = tqdm.tqdm(steps)\n",
        "  model.train()\n",
        "  for i, (x_batch, y_batch) in pbar:\n",
        "    y_batch_pred = model(x_batch.to(device))\n",
        "    loss = loss_fn(y_batch_pred, y_batch.to(device))\n",
        "    optimizer.zero_grad()\n",
        "    loss.backward()\n",
        "    optimizer.step()\n",
        "\n",
        "    loss, current = loss.item(), (i + 1)* len(x_batch)\n",
        "    if i == len(steps)-1:\n",
        "      model.eval()\n",
        "      pred = model(x_test)\n",
        "      vloss = loss_fn(pred, y_test)\n",
        "      if es(model,vloss): done = True\n",
        "      pbar.set_description(f\"Epoch: {epoch}, tloss: {loss}, vloss: {vloss:>7f}, EStop:[{es.status}]\")\n",
        "    else:\n",
        "      pbar.set_description(f\"Epoch: {epoch}, tloss {loss:}\")\n"
      ]
    },
    {
      "cell_type": "code",
      "execution_count": 4,
      "metadata": {
        "colab": {
          "base_uri": "https://localhost:8080/"
        },
        "id": "aJCDY-FcP41U",
        "outputId": "901b0a97-32cd-443e-d89c-4c47985c633b"
      },
      "outputs": [
        {
          "output_type": "stream",
          "name": "stdout",
          "text": [
            "Loss = 0.5756629109382629\n"
          ]
        }
      ],
      "source": [
        "pred = model(x_test)\n",
        "vloss = loss_fn(pred, y_test)\n",
        "print(f\"Loss = {vloss}\")"
      ]
    },
    {
      "cell_type": "markdown",
      "metadata": {
        "id": "ATJhTzRjJlHQ"
      },
      "source": [
        "As you can see from above, we did not use the total number of requested epochs.  The neural network training stopped once the validation set no longer improved."
      ]
    },
    {
      "cell_type": "code",
      "execution_count": 5,
      "metadata": {
        "colab": {
          "base_uri": "https://localhost:8080/"
        },
        "id": "A0iNHDxNJlHR",
        "outputId": "9c60711a-d28b-4360-92d8-2205fe0d7fcc"
      },
      "outputs": [
        {
          "output_type": "stream",
          "name": "stdout",
          "text": [
            "Accuracy: 0.9736842105263158\n"
          ]
        }
      ],
      "source": [
        "from sklearn.metrics import accuracy_score\n",
        "\n",
        "pred = model(x_test)\n",
        "_, predict_classes = torch.max(pred, 1)\n",
        "correct = accuracy_score(y_test.cpu(),predict_classes.cpu())\n",
        "print(f\"Accuracy: {correct}\")"
      ]
    },
    {
      "cell_type": "markdown",
      "metadata": {
        "id": "nR03ea5QJlHS"
      },
      "source": [
        "## Early Stopping with Regression\n",
        "\n",
        "The following code demonstrates how we can apply early stopping to a regression problem.  The technique is similar to the early stopping for classification code that we just saw."
      ]
    },
    {
      "cell_type": "code",
      "execution_count": 6,
      "metadata": {
        "colab": {
          "base_uri": "https://localhost:8080/"
        },
        "id": "pTuEcZE4JlHS",
        "outputId": "0dffc406-fb3b-41ad-bb34-e3f9f942e725"
      },
      "outputs": [
        {
          "output_type": "stream",
          "name": "stderr",
          "text": [
            "Epoch: 1, tloss: 1950.0008544921875, vloss: 1607.165894, EStop:[0/5]: 100%|██████████| 19/19 [00:00<00:00, 272.92it/s]\n",
            "Epoch: 2, tloss: 235.8944549560547, vloss: 317.073944, EStop:[0/5]: 100%|██████████| 19/19 [00:00<00:00, 279.17it/s]\n",
            "Epoch: 3, tloss: 195.77305603027344, vloss: 196.621094, EStop:[0/5]: 100%|██████████| 19/19 [00:00<00:00, 246.54it/s]\n",
            "Epoch: 4, tloss: 190.3765106201172, vloss: 179.328613, EStop:[0/5]: 100%|██████████| 19/19 [00:00<00:00, 270.56it/s]\n",
            "Epoch: 5, tloss: 151.99722290039062, vloss: 174.191757, EStop:[0/5]: 100%|██████████| 19/19 [00:00<00:00, 221.97it/s]\n",
            "Epoch: 6, tloss: 281.66552734375, vloss: 154.490234, EStop:[0/5]: 100%|██████████| 19/19 [00:00<00:00, 255.49it/s]\n",
            "Epoch: 7, tloss: 164.9346923828125, vloss: 143.062988, EStop:[0/5]: 100%|██████████| 19/19 [00:00<00:00, 205.53it/s]\n",
            "Epoch: 8, tloss: 292.3793029785156, vloss: 135.122925, EStop:[0/5]: 100%|██████████| 19/19 [00:00<00:00, 230.88it/s]\n",
            "Epoch: 9, tloss: 110.87674713134766, vloss: 126.645020, EStop:[0/5]: 100%|██████████| 19/19 [00:00<00:00, 258.98it/s]\n",
            "Epoch: 10, tloss: 55.84271240234375, vloss: 111.798462, EStop:[0/5]: 100%|██████████| 19/19 [00:00<00:00, 259.57it/s]\n",
            "Epoch: 11, tloss: 98.7665023803711, vloss: 91.058319, EStop:[0/5]: 100%|██████████| 19/19 [00:00<00:00, 237.43it/s]\n",
            "Epoch: 12, tloss: 65.28539276123047, vloss: 90.836021, EStop:[0/5]: 100%|██████████| 19/19 [00:00<00:00, 247.44it/s]\n",
            "Epoch: 13, tloss: 95.9023666381836, vloss: 73.947029, EStop:[0/5]: 100%|██████████| 19/19 [00:00<00:00, 255.62it/s]\n",
            "Epoch: 14, tloss: 79.29402160644531, vloss: 58.084549, EStop:[0/5]: 100%|██████████| 19/19 [00:00<00:00, 261.05it/s]\n",
            "Epoch: 15, tloss: 164.6680908203125, vloss: 53.614292, EStop:[0/5]: 100%|██████████| 19/19 [00:00<00:00, 243.43it/s]\n",
            "Epoch: 16, tloss: 40.51947021484375, vloss: 43.192364, EStop:[0/5]: 100%|██████████| 19/19 [00:00<00:00, 252.89it/s]\n",
            "Epoch: 17, tloss: 21.380247116088867, vloss: 38.614361, EStop:[0/5]: 100%|██████████| 19/19 [00:00<00:00, 230.84it/s]\n",
            "Epoch: 18, tloss: 26.751068115234375, vloss: 34.402229, EStop:[0/5]: 100%|██████████| 19/19 [00:00<00:00, 273.51it/s]\n",
            "Epoch: 19, tloss: 52.44731521606445, vloss: 31.972868, EStop:[0/5]: 100%|██████████| 19/19 [00:00<00:00, 254.24it/s]\n",
            "Epoch: 20, tloss: 30.894397735595703, vloss: 37.225750, EStop:[1/5]: 100%|██████████| 19/19 [00:00<00:00, 213.27it/s]\n",
            "Epoch: 21, tloss: 12.328320503234863, vloss: 31.666252, EStop:[0/5]: 100%|██████████| 19/19 [00:00<00:00, 241.13it/s]\n",
            "Epoch: 22, tloss: 61.04517364501953, vloss: 29.063330, EStop:[0/5]: 100%|██████████| 19/19 [00:00<00:00, 259.17it/s]\n",
            "Epoch: 23, tloss: 24.827239990234375, vloss: 65.341476, EStop:[1/5]: 100%|██████████| 19/19 [00:00<00:00, 238.38it/s]\n",
            "Epoch: 24, tloss: 19.023330688476562, vloss: 25.898821, EStop:[0/5]: 100%|██████████| 19/19 [00:00<00:00, 255.74it/s]\n",
            "Epoch: 25, tloss: 54.696205139160156, vloss: 26.805536, EStop:[1/5]: 100%|██████████| 19/19 [00:00<00:00, 255.73it/s]\n",
            "Epoch: 26, tloss: 31.2384090423584, vloss: 24.471552, EStop:[0/5]: 100%|██████████| 19/19 [00:00<00:00, 272.35it/s]\n",
            "Epoch: 27, tloss: 28.0598201751709, vloss: 30.551670, EStop:[1/5]: 100%|██████████| 19/19 [00:00<00:00, 270.91it/s]\n",
            "Epoch: 28, tloss: 32.81092071533203, vloss: 51.769707, EStop:[2/5]: 100%|██████████| 19/19 [00:00<00:00, 258.25it/s]\n",
            "Epoch: 29, tloss: 30.132511138916016, vloss: 39.942772, EStop:[3/5]: 100%|██████████| 19/19 [00:00<00:00, 271.41it/s]\n",
            "Epoch: 30, tloss: 21.996322631835938, vloss: 26.094246, EStop:[4/5]: 100%|██████████| 19/19 [00:00<00:00, 266.48it/s]\n",
            "Epoch: 31, tloss: 11.000027656555176, vloss: 21.612074, EStop:[0/5]: 100%|██████████| 19/19 [00:00<00:00, 258.37it/s]\n",
            "Epoch: 32, tloss: 23.597461700439453, vloss: 20.579645, EStop:[0/5]: 100%|██████████| 19/19 [00:00<00:00, 257.87it/s]\n",
            "Epoch: 33, tloss: 11.212664604187012, vloss: 56.669441, EStop:[1/5]: 100%|██████████| 19/19 [00:00<00:00, 289.75it/s]\n",
            "Epoch: 34, tloss: 35.97005844116211, vloss: 34.858292, EStop:[2/5]: 100%|██████████| 19/19 [00:00<00:00, 258.41it/s]\n",
            "Epoch: 35, tloss: 13.802556037902832, vloss: 16.517284, EStop:[0/5]: 100%|██████████| 19/19 [00:00<00:00, 281.84it/s]\n",
            "Epoch: 36, tloss: 11.880911827087402, vloss: 18.249430, EStop:[1/5]: 100%|██████████| 19/19 [00:00<00:00, 255.00it/s]\n",
            "Epoch: 37, tloss: 48.05240249633789, vloss: 15.399346, EStop:[0/5]: 100%|██████████| 19/19 [00:00<00:00, 258.81it/s]\n",
            "Epoch: 38, tloss: 21.023969650268555, vloss: 25.009768, EStop:[1/5]: 100%|██████████| 19/19 [00:00<00:00, 284.50it/s]\n",
            "Epoch: 39, tloss: 39.84172439575195, vloss: 14.854647, EStop:[0/5]: 100%|██████████| 19/19 [00:00<00:00, 280.19it/s]\n",
            "Epoch: 40, tloss: 8.552780151367188, vloss: 30.740065, EStop:[1/5]: 100%|██████████| 19/19 [00:00<00:00, 260.90it/s]\n",
            "Epoch: 41, tloss: 19.13584327697754, vloss: 12.703449, EStop:[0/5]: 100%|██████████| 19/19 [00:00<00:00, 277.55it/s]\n",
            "Epoch: 42, tloss: 8.38565444946289, vloss: 11.896157, EStop:[0/5]: 100%|██████████| 19/19 [00:00<00:00, 250.59it/s]\n",
            "Epoch: 43, tloss: 10.387301445007324, vloss: 13.851650, EStop:[1/5]: 100%|██████████| 19/19 [00:00<00:00, 279.69it/s]\n",
            "Epoch: 44, tloss: 9.741765022277832, vloss: 11.538685, EStop:[0/5]: 100%|██████████| 19/19 [00:00<00:00, 288.62it/s]\n",
            "Epoch: 45, tloss: 33.65125274658203, vloss: 14.625512, EStop:[1/5]: 100%|██████████| 19/19 [00:00<00:00, 293.53it/s]\n",
            "Epoch: 46, tloss: 23.1958065032959, vloss: 12.451901, EStop:[2/5]: 100%|██████████| 19/19 [00:00<00:00, 287.38it/s]\n",
            "Epoch: 47, tloss: 13.932182312011719, vloss: 12.574448, EStop:[3/5]: 100%|██████████| 19/19 [00:00<00:00, 265.24it/s]\n",
            "Epoch: 48, tloss: 50.90623092651367, vloss: 41.333778, EStop:[4/5]: 100%|██████████| 19/19 [00:00<00:00, 285.88it/s]\n",
            "Epoch: 49, tloss: 18.023273468017578, vloss: 13.563561, EStop:[Stopped on 5]: 100%|██████████| 19/19 [00:00<00:00, 257.98it/s]\n"
          ]
        }
      ],
      "source": [
        "import pandas as pd\n",
        "from sklearn.model_selection import train_test_split\n",
        "from sklearn.metrics import accuracy_score\n",
        "\n",
        "import torch.nn as nn\n",
        "import torch.nn.functional as F\n",
        "import numpy as np\n",
        "from torch.autograd import Variable\n",
        "from sklearn import preprocessing\n",
        "from torch.utils.data import DataLoader, TensorDataset\n",
        "import tqdm\n",
        "import time\n",
        "\n",
        "# Define the PyTorch Neural Network\n",
        "class Net(nn.Module):\n",
        "    def __init__(self, in_count, out_count):\n",
        "        super(Net, self).__init__()\n",
        "        # We must define each of the layers.\n",
        "        self.fc1 = nn.Linear(in_count, 50)\n",
        "        self.fc2 = nn.Linear(50, 25)\n",
        "        self.fc3 = nn.Linear(25, 1)\n",
        "\n",
        "    def forward(self, x):\n",
        "        # In the forward pass, we must calculate all of the layers we \n",
        "        # previously defined.\n",
        "        x = F.relu(self.fc1(x))\n",
        "        x = F.relu(self.fc2(x))\n",
        "        return self.fc3(x)\n",
        "\n",
        "# Read the MPG dataset.\n",
        "df = pd.read_csv(\n",
        "    \"https://data.heatonresearch.com/data/t81-558/auto-mpg.csv\", \n",
        "    na_values=['NA', '?'])\n",
        "\n",
        "cars = df['name']\n",
        "\n",
        "# Handle missing value\n",
        "df['horsepower'] = df['horsepower'].fillna(df['horsepower'].median())\n",
        "\n",
        "# Pandas to Numpy\n",
        "x = df[['cylinders', 'displacement', 'horsepower', 'weight',\n",
        "       'acceleration', 'year', 'origin']].values\n",
        "y = df['mpg'].values # regression\n",
        "\n",
        "# Split into validation and training sets\n",
        "x_train, x_test, y_train, y_test = train_test_split(    \n",
        "    x, y, test_size=0.25, random_state=42)\n",
        "\n",
        "# Numpy to Torch Tensor\n",
        "x_train = torch.tensor(x_train,device=device,dtype=torch.float32)\n",
        "y_train = torch.tensor(y_train,device=device,dtype=torch.float32)\n",
        "\n",
        "x_test = torch.tensor(x_test,device=device,dtype=torch.float32)\n",
        "y_test = torch.tensor(y_test,device=device,dtype=torch.float32)\n",
        "\n",
        "\n",
        "# Create datasets\n",
        "BATCH_SIZE = 16\n",
        "\n",
        "dataset_train = TensorDataset(x_train, y_train)\n",
        "dataloader_train = DataLoader(dataset_train,\\\n",
        "  batch_size=BATCH_SIZE, shuffle=True)\n",
        "\n",
        "dataset_test = TensorDataset(x_test, y_test)\n",
        "dataloader_test = DataLoader(dataset_test,\\\n",
        "  batch_size=BATCH_SIZE, shuffle=True)\n",
        "\n",
        "\n",
        "# Create model\n",
        "model = Net(x.shape[1],1).to(device)\n",
        "\n",
        "# Define the loss function for regression\n",
        "loss_fn = nn.MSELoss()\n",
        "\n",
        "# Define the optimizer\n",
        "optimizer = torch.optim.Adam(model.parameters(), lr=0.01)\n",
        "\n",
        "es = EarlyStopping()\n",
        "\n",
        "epoch = 0\n",
        "done = False\n",
        "while epoch<1000 and not done:\n",
        "  epoch += 1\n",
        "  steps = list(enumerate(dataloader_train))\n",
        "  pbar = tqdm.tqdm(steps)\n",
        "  model.train()\n",
        "  for i, (x_batch, y_batch) in pbar:\n",
        "    y_batch_pred = model(x_batch).flatten() #\n",
        "    loss = loss_fn(y_batch_pred, y_batch)\n",
        "    optimizer.zero_grad()\n",
        "    loss.backward()\n",
        "    optimizer.step()\n",
        "\n",
        "    loss, current = loss.item(), (i + 1)* len(x_batch)\n",
        "    if i == len(steps)-1:\n",
        "      model.eval()\n",
        "      pred = model(x_test).flatten()\n",
        "      vloss = loss_fn(pred, y_test)\n",
        "      if es(model,vloss): done = True\n",
        "      pbar.set_description(f\"Epoch: {epoch}, tloss: {loss}, vloss: {vloss:>7f}, EStop:[{es.status}]\")\n",
        "    else:\n",
        "      pbar.set_description(f\"Epoch: {epoch}, tloss {loss:}\")\n"
      ]
    },
    {
      "cell_type": "markdown",
      "metadata": {
        "id": "wjvaHmp5JlHS"
      },
      "source": [
        "Finally, we evaluate the error."
      ]
    },
    {
      "cell_type": "code",
      "execution_count": 7,
      "metadata": {
        "colab": {
          "base_uri": "https://localhost:8080/"
        },
        "id": "0bvqiX-AJlHS",
        "outputId": "b2cb2433-2bfd-4e28-ce4d-ba89d3b03d4d"
      },
      "outputs": [
        {
          "output_type": "stream",
          "name": "stdout",
          "text": [
            "Final score (RMSE): 3.3968639373779297\n"
          ]
        }
      ],
      "source": [
        "from sklearn import metrics\n",
        "\n",
        "# Measure RMSE error.  RMSE is common for regression.\n",
        "pred = model(x_test)\n",
        "score = torch.sqrt(torch.nn.functional.mse_loss(pred.flatten(),y_test))\n",
        "print(f\"Final score (RMSE): {score}\")"
      ]
    },
    {
      "cell_type": "code",
      "execution_count": 8,
      "metadata": {
        "colab": {
          "base_uri": "https://localhost:8080/"
        },
        "id": "WYi-h2LNXqoZ",
        "outputId": "14669b13-b693-44d4-de6b-7150e9629302"
      },
      "outputs": [
        {
          "output_type": "execute_result",
          "data": {
            "text/plain": [
              "tensor([33.0000, 28.0000, 19.0000, 13.0000, 14.0000, 27.0000, 24.0000, 13.0000,\n",
              "        17.0000, 21.0000, 15.0000, 38.0000, 26.0000, 15.0000, 25.0000, 12.0000,\n",
              "        31.0000, 17.0000, 16.0000, 31.0000, 22.0000, 22.0000, 22.0000, 33.5000,\n",
              "        18.0000, 44.0000, 26.0000, 24.5000, 18.1000, 12.0000, 27.0000, 36.0000,\n",
              "        23.0000, 24.0000, 37.2000, 16.0000, 21.0000, 19.2000, 16.0000, 29.0000,\n",
              "        26.8000, 27.0000, 18.0000, 10.0000, 23.0000, 36.0000, 26.0000, 25.0000,\n",
              "        25.0000, 25.0000, 22.0000, 34.1000, 32.4000, 13.0000, 23.5000, 14.0000,\n",
              "        18.5000, 29.8000, 28.0000, 19.0000, 11.0000, 33.0000, 23.0000, 21.0000,\n",
              "        23.0000, 25.0000, 23.8000, 34.4000, 24.5000, 13.0000, 34.7000, 14.0000,\n",
              "        15.0000, 18.0000, 25.0000, 19.9000, 17.5000, 28.0000, 29.0000, 17.0000,\n",
              "        16.0000, 27.0000, 37.0000, 36.1000, 23.0000, 14.0000, 32.8000, 29.9000,\n",
              "        20.0000, 12.0000, 15.5000, 23.7000, 24.0000, 36.0000, 19.0000, 38.0000,\n",
              "        29.0000, 21.5000, 27.9000, 14.0000], device='cuda:0')"
            ]
          },
          "metadata": {},
          "execution_count": 8
        }
      ],
      "source": [
        "y_test"
      ]
    },
    {
      "cell_type": "code",
      "execution_count": 8,
      "metadata": {
        "id": "dqUztPo3JlHT"
      },
      "outputs": [],
      "source": []
    }
  ],
  "metadata": {
    "accelerator": "GPU",
    "anaconda-cloud": {},
    "colab": {
      "collapsed_sections": [],
      "provenance": []
    },
    "gpuClass": "standard",
    "kernelspec": {
      "display_name": "Python 3.9 (pytorch)",
      "language": "python",
      "name": "pytorch"
    },
    "language_info": {
      "codemirror_mode": {
        "name": "ipython",
        "version": 3
      },
      "file_extension": ".py",
      "mimetype": "text/x-python",
      "name": "python",
      "nbconvert_exporter": "python",
      "pygments_lexer": "ipython3",
      "version": "3.9.13"
    },
    "varInspector": {
      "cols": {
        "lenName": 16,
        "lenType": 16,
        "lenVar": 40
      },
      "kernels_config": {
        "python": {
          "delete_cmd_postfix": "",
          "delete_cmd_prefix": "del ",
          "library": "var_list.py",
          "varRefreshCmd": "print(var_dic_list())"
        },
        "r": {
          "delete_cmd_postfix": ") ",
          "delete_cmd_prefix": "rm(",
          "library": "var_list.r",
          "varRefreshCmd": "cat(var_dic_list()) "
        }
      },
      "types_to_exclude": [
        "module",
        "function",
        "builtin_function_or_method",
        "instance",
        "_Feature"
      ],
      "window_display": false
    }
  },
  "nbformat": 4,
  "nbformat_minor": 0
}