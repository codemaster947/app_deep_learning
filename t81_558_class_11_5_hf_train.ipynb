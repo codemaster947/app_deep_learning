{
 "cells": [
  {
   "cell_type": "markdown",
   "metadata": {
    "id": "3CF2edFAI4Uj"
   },
   "source": [
    "<a href=\"https://colab.research.google.com/github/jeffheaton/app_deep_learning/blob/main/t81_558_class_11_5_hf_train.ipynb\" target=\"_parent\"><img src=\"https://colab.research.google.com/assets/colab-badge.svg\" alt=\"Open In Colab\"/></a>\n"
   ]
  },
  {
   "cell_type": "markdown",
   "metadata": {
    "id": "RvbM-RwHI4Ul"
   },
   "source": [
    "# T81-558: Applications of Deep Neural Networks\n",
    "**Module 11: Natural Language Processing with Hugging Face**\n",
    "* Instructor: [Jeff Heaton](https://sites.wustl.edu/jeffheaton/), McKelvey School of Engineering, [Washington University in St. Louis](https://engineering.wustl.edu/Programs/Pages/default.aspx)\n",
    "* For more information visit the [class website](https://sites.wustl.edu/jeffheaton/t81-558/)."
   ]
  },
  {
   "cell_type": "markdown",
   "metadata": {
    "id": "5dE7A-0aI4Ul"
   },
   "source": [
    "# Module 11 Material\n",
    "\n",
    "* Part 11.1: Introduction to Hugging Face [[Video]](https://www.youtube.com/watch?v=PzuL84ksRuE&list=PLjy4p-07OYzuy_lHcRW8lPTLPTTOmUpmi) [[Notebook]](t81_558_class_11_1_hf.ipynb)\n",
    "* Part 11.2: Hugging Face in Python [[Video]](https://www.youtube.com/watch?v=tkGIF4CFoV4&list=PLjy4p-07OYzuy_lHcRW8lPTLPTTOmUpmi) [[Notebook]](t81_558_class_11_2_py_huggingface.ipynb)\n",
    "* Part 11.3: Hugging Face Tokenizers [[Video]](https://www.youtube.com/watch?v=Cz2nvfK28eI&list=PLjy4p-07OYzuy_lHcRW8lPTLPTTOmUpmi) [[Notebook]](t81_558_class_11_3_tokenizers.ipynb)\n",
    "* Part 11.4: Hugging Face Datasets [[Video]](https://www.youtube.com/watch?v=yLlCZLzE2XU&list=PLjy4p-07OYzuy_lHcRW8lPTLPTTOmUpmi) [[Notebook]](t81_558_class_11_4_hf_datasets.ipynb)\n",
    "* **Part 11.5: Training Hugging Face Models** [[Video]](https://www.youtube.com/watch?v=7YZOik5S3vs&list=PLjy4p-07OYzuy_lHcRW8lPTLPTTOmUpmi) [[Notebook]](t81_558_class_11_5_hf_train.ipynb)\n"
   ]
  },
  {
   "cell_type": "markdown",
   "metadata": {
    "id": "9Z4A091yI4Um"
   },
   "source": [
    "# Google CoLab Instructions\n",
    "\n",
    "The following code checks if Google CoLab is running."
   ]
  },
  {
   "cell_type": "code",
   "execution_count": null,
   "metadata": {
    "colab": {
     "base_uri": "https://localhost:8080/"
    },
    "id": "RJmzbge9I4Um",
    "outputId": "4624a877-6c89-4e26-8d53-4b20bfd867e2"
   },
   "outputs": [],
   "source": [
    "try:\n",
    "    from google.colab import drive\n",
    "    COLAB = True\n",
    "    print(\"Note: using Google CoLab\")\n",
    "except:\n",
    "    print(\"Note: not using Google CoLab\")\n",
    "    COLAB = False"
   ]
  },
  {
   "cell_type": "markdown",
   "metadata": {
    "id": "vdNN6e45I4Un"
   },
   "source": [
    "# Part 11.5: Training Hugging Face Models\n",
    "\n",
    "Up to this point, we've used data and models from the Hugging Face hub unmodified. In this section, we will transfer and train a Hugging Face model. We will use Hugging Face data sets, tokenizers, and pretrained models to achieve this training.\n",
    "\n",
    "We begin by installing Hugging Face if needed. It is also essential to install Hugging Face datasets.\n"
   ]
  },
  {
   "cell_type": "code",
   "execution_count": null,
   "metadata": {
    "colab": {
     "base_uri": "https://localhost:8080/"
    },
    "id": "3jGET2abMjcl",
    "outputId": "fb89bff4-12c3-4d97-8459-cc278dda7aba"
   },
   "outputs": [],
   "source": [
    "# HIDE OUTPUT\n",
    "!pip install transformers\n",
    "!pip install transformers[torch]\n",
    "!pip install transformers[sentencepiece]\n",
    "!pip install datasets"
   ]
  },
  {
   "cell_type": "markdown",
   "metadata": {
    "id": "4QgmlpyezhMy"
   },
   "source": [
    "We begin by loading the emotion data set from the Hugging Face hub. Emotion is a dataset of English Twitter messages with six basic emotions: anger, fear, joy, love, sadness, and surprise. The following code loads the emotion data set from the Hugging Face hub."
   ]
  },
  {
   "cell_type": "code",
   "execution_count": null,
   "metadata": {
    "colab": {
     "base_uri": "https://localhost:8080/",
     "height": 369,
     "referenced_widgets": [
      "944f5cf293054f5b87478c36e26f9035",
      "a8c162d33d3d4d4e8c9aceb6f9275ed0",
      "adbffd3d9514429bad7a6989346855ce",
      "d4a2cd3f7b254832aab75170993d0388",
      "5ee8611adbcc499cb961dae2cac736de",
      "698064e54e814714b2b18e177d538763",
      "c78f0cda8eff4ae5bb526b910b16ef42",
      "1a76d81c3dc74843a7826b0463d987ff",
      "e9146f7b64194ebdb8d6165d78735bc9",
      "df960ac8dcc94ce884141d11dae3cfff",
      "11851b30c813451f8124bb7b1f8fc2f8",
      "13fce229716347408ed433bdf6dc6b12",
      "315311d55ea043ecbda0d7d72b516fe4",
      "27b7d023229e461aa8bee6cf50b1460a",
      "2904ecd1d29e42dea8af546b9c53e934",
      "3693f476e57f42969d86d926c76a5a99",
      "0715215bc227403bb5fd1143d8f802f9",
      "95afe5ac42074843b7981fcb47a613b5",
      "b434ea99e77d443681ccd1945c162196",
      "2162a433b3b04bd1a18f43d908d7bdee",
      "d74338fc32714eeaa5e59015138bafbf",
      "8bec7ff34a99451e9ad96e75e489da55",
      "ce4f92b408bb410ea99a102318935260",
      "daa1d534a96245798d86420b10d68a7a",
      "e01f3e8d01d74e7198b7f02b10b206b3",
      "a519e5fac7294755a689cbbeda665809",
      "d7f1f4f66f684364b3f2860f51bcbe54",
      "03a18c08e42249218cc93fa29ff9d3e8",
      "ce491520ce414aca9cf24455335f1a5b",
      "810ae13c283a41d584734fa369028f69",
      "79485a2692b44a318ccb448ea73c405c",
      "37f1d929bc614a03b1cd65a7c90ab74d",
      "c22df780b1604225ba8c976a3a3400ba",
      "4a0148d05cd5439e8aa04358a2162f3a",
      "904419b02eea4ff88ffc587272a017f2",
      "ba4c761948344a96ad45923fdfb0d399",
      "e86a9f8c0ba84963b3f80f4b16f79035",
      "14c9f88ae3364da8978b6925687233db",
      "2cffc8e0aed24975a73fb12b580c7177",
      "41df69861e494e9ea92c58b92de1126b",
      "4a0f213f89e6433a8575c7ab36acb312",
      "2db35271a99142a082629a4a45f25fd8",
      "2be496aa871d44d48cfcaf9bd0dfcd21",
      "a2bad90acbe9466c853bad4fa287f083",
      "18f77cb9e9e34cb6b072d1f1ffe00705",
      "639730d23425458aad60827a1e0ffaec",
      "fa9ea0005f174641ba840861c6e2e2c9",
      "d19853c5397c4e0c936e33e772faae3b",
      "9e85d6deae184ed0a648d697ced5bf18",
      "dce3ba17689648eb926ffce2d18587c2",
      "05a31296a8dc4e6a938a79b20bcb5bbd",
      "a83b5c2cc57947838bc31d14f785a3bc",
      "ebef7cc2595f4491b3cb0ddf3237eb83",
      "798cefded1c043c3ba7f8c36ef8f4fdc",
      "9160133f923c4060b0c3d8e87020577b",
      "78d9fe5f2886444e921d709eda4a927b",
      "850c135fb9ff4658aaf55fca413705f4",
      "963bfc0402e34893b4cac75b56f180c7",
      "ae49693b82534318ad0189f3f5f0bf97",
      "12e124f2f5074d6887a7ff3a08264226",
      "fa1c9a7d2e154b0c845334296086d487",
      "4dab56a3256d410d9e84dea7f74f2c83",
      "4934343ddd8d410d95ca0a9cb95085ed",
      "5c00303e239a480ea2d3083631d21c07",
      "63f8d1bdfcb944dea518e63e094fe6ec",
      "90c173f9645d4a6eb878c9aea589186b",
      "19ae5719a2954758a628b41d3f0b994d",
      "abf5b6cf16ab476d94221fca338ab910",
      "494c451f935646ccba405effd92c79ef",
      "1f47804364c74be6a5367d0dcd4198b8",
      "989acda8475c47449b04493a5081c046",
      "8913fb20c58f48c58f0a20b87bdf4359",
      "fe8b5301c23a43cea9324c8d4385513a",
      "fd372e66988744f6919ac2229500c241",
      "8b7e091b16744196b84a5cf688a3f8b9",
      "071d2d3c4b90463ab42c06a3afbddcd8",
      "793e0711e3aa41519db7a4dfb93bf7e1",
      "2f75dbdec672455d889e802153f7b5a1",
      "fa4fd74f25f7450eac9fb45ceccc4c1a",
      "b675a43973314104b3614d1b6f22911e",
      "f317fb2b18b6442dabb7d3225cb0a2eb",
      "01627ee1cd04463c97bf147f036612af",
      "5f26c28cd6574cd7b1cd2cc468a16286",
      "ea426acc3fb64061b0bd1fd628ca461b",
      "18890960400944e2afdeef5172c102db",
      "4752c789889e4d65acade59ca108e8d3",
      "7d80410b2fc8478d9c189d03e05fc18c",
      "6d97d45ec04247738d76e49653570f7c",
      "ef4acd6ef01641f1b7737a970f664193",
      "0ac888d2af3a4a9c8d9be6ebc02f3a44",
      "e209eec060e54d7c9ec2727669da52d4",
      "4c23e6ed9f924c11973b997672aca1cb",
      "0f3a99c85bcd498399425f84193f942f",
      "1b856590aa9942f8b5c5b97d9763c5b8",
      "c26ec9d2bb7740af812a186deb754a26",
      "82730c462f184ef38f0772b98e58a387",
      "6017210ed6d24f91aa4fb3dab2de97d8",
      "f28b91e366f64f9fb7f0ffe82fb5d795",
      "b630dc012d4049fe9e2d880e6352830d",
      "65ec63d3eb5d44289d9c5ee4f6849406",
      "04c2534c8c2d43b5abfbc59f20db5237",
      "815c5be375e14c13abf36cc68741f7e9",
      "03949cac6d1d4968bb39a5771aa37819",
      "2459ae7e0d884a8b9cea29a2f6dd2152",
      "25819e94cc2642e4a13ae7878bf66a52",
      "7e66a5f703bc4a65a9651047f3277c48",
      "1f8c051857ad42bcab48ffee2b347dea",
      "ec9e6b43ff874d3b99a31017e1323ecc",
      "615e3d5bdcd64c9986c94879d90dac10",
      "4572c4013f9043739b83907e0b1a6f90",
      "d722c330d55d4e92b986c7954a67e336",
      "a1c4ff54b526437187700c01ace07bfe",
      "e0380968665147198d6fd92b24c353c7",
      "de917930f6224a139da6c61953794944",
      "f56a9f72a80344968f27428b2360ec19",
      "5208b611ea154a4cabf5c9e0f6f3c5a8",
      "41b8e5819b7e4369972549f02bf9ea65",
      "1005c479fca44939a9001c0a21f4f258",
      "23a5b41963534f9ba6e628e0efa0fad7",
      "063994bdac364a37ae02dad368f0f07f",
      "1bc0e8d52f8545caa6f5ef2b831d24fa"
     ]
    },
    "id": "3rY9MS_LZSNs",
    "outputId": "d4297648-6179-460e-a37c-f5d85fbe7e97"
   },
   "outputs": [],
   "source": [
    "# HIDE OUTPUT\n",
    "from datasets import load_dataset\n",
    "\n",
    "emotions = load_dataset(\"emotion\")\n"
   ]
  },
  {
   "cell_type": "markdown",
   "metadata": {
    "id": "C7jkei-jLn5B"
   },
   "source": [
    "You can see a single observation from the training data set here. This observation includes both the text sample and the assigned emotion label. The label is a numeric index representing the assigned emotion."
   ]
  },
  {
   "cell_type": "code",
   "execution_count": null,
   "metadata": {
    "colab": {
     "base_uri": "https://localhost:8080/"
    },
    "id": "ngTHE2qwGKRF",
    "outputId": "cc1fcd30-49a9-4b9f-ce06-d3b71f354820"
   },
   "outputs": [],
   "source": [
    "emotions['train'][2]"
   ]
  },
  {
   "cell_type": "markdown",
   "metadata": {
    "id": "3ezW7eIcLxdQ"
   },
   "source": [
    "We can display the labels in order of their index labels."
   ]
  },
  {
   "cell_type": "code",
   "execution_count": null,
   "metadata": {
    "colab": {
     "base_uri": "https://localhost:8080/"
    },
    "id": "slGcHMCJGZKe",
    "outputId": "82686e5d-3358-4dab-c127-5d846af6acc9"
   },
   "outputs": [],
   "source": [
    "emotions['train'].features"
   ]
  },
  {
   "cell_type": "markdown",
   "metadata": {
    "id": "JnOtiJTzL12w"
   },
   "source": [
    "Next, we utilize Hugging Face tokenizers and data sets together. The following code tokenizes the entire emotion data set. You can see below that the code has transformed the training set into subword tokens that are now ready to be used in conjunction with a transformer for either inference or training."
   ]
  },
  {
   "cell_type": "code",
   "execution_count": null,
   "metadata": {
    "colab": {
     "base_uri": "https://localhost:8080/",
     "height": 241,
     "referenced_widgets": [
      "0721b1718fa148079b0c697df653e6a7",
      "cc99d90dffb7455f91a16708c1b991b4",
      "e2151729b6054028a68612327aa2d08b",
      "2548b6db26d447dbaac6307f27e6d3fa",
      "d64d7c2077b34110bff89490eb704e92",
      "22dc8ed38e0042f982d3dd3bb2aa6d6c",
      "2e3aa0bd8c24451aba958fd8e94ce8a5",
      "c1bc2e448279455d8748d6abe40c6874",
      "7256e02afeb547288d7ad6a9024109c1",
      "fa21ad5f13c142e7b0d270108bd93c86",
      "60940b7c9fdf488ab131976c746965cb",
      "65a35068dc2a4e42b041a9fcdd6ea64b",
      "fca6eb2266be4b0e892221d22c748821",
      "ac6d6fa54dce4cd88f16e953fc8daf4b",
      "017eb9ff8d594981b201749b2cd356bd",
      "df7eb91600574111a7d1a0d34fc8ca81",
      "6462cbde62f04d1dab3b1eb001867a04",
      "43360633dbaf4ba18bd4446ab3f7eb8f",
      "9219140a64be4ccdad176984e1d90bba",
      "29303d9856654f0ab99c46c90b2d30a0",
      "ff159f9c15264d0c9eb228d78af57f45",
      "af3e1a1dd0274f58b2e64eb74727c631",
      "6bdcb96d893b48fa841ece807b136249",
      "76afa12cc89047c5a857735455930523",
      "9e5d5748c0e94498afb14153477d5480",
      "a133358bf6344f5197a8739b0200dc9f",
      "4186cd49c9ca408c831311287edd7a66",
      "762eebafb4bd42e1a8aa4c99742912bf",
      "cb929f77ff3044a5a10ae5449e67165e",
      "dfa22aa0545c4b448bfc14b87d8c8c9e",
      "40f470c78391418ab378f80a8b581df7",
      "a5e541066faa40d68f9af33bf0af09b2",
      "e425dce7717e4429b718f8c75bb0329d",
      "644e981c5398438b8657202df1602cb9",
      "6c577924b61649819867dc7221ba18b8",
      "37fa0cdbb04746049b690431e296c638",
      "93322b6c0ae6465bafd715c308c105d6",
      "5ded6dc9050c492b895f369ade1e94e8",
      "413663e84838426a88b5c2632a76b15d",
      "4249f79c2f8a4f6798c228b8b8512229",
      "e4daa4b5b4ce42cead1de56ad726da2e",
      "c2602986854e44d38566aa9dcb504a4f",
      "905afcd8d4044a94a0e226d0129f0767",
      "fd0e543e6b2c488fb31039ab537ab819",
      "5e284d0be8d949e98745221e8fa729d6",
      "1aae88b97977429490006ce24052bc45",
      "a17abe3bf6b5406aa9f2e279ed2abf03",
      "9514dd67a40041a7a17942579871a6a2",
      "c719940e02e24c48b9bd3c41f00ffe80",
      "8317f563204a4e088f3d1567f5037556",
      "42f0e2ff641c436cad8307846bf4a8ac",
      "99233ca287504b909c7251bcb7b01403",
      "dc6d822c7aa046b183950bb43cecc39d",
      "cc6b1443f5144a23ae12fa031abc8500",
      "4b75a29124674455905f6c757de2196d",
      "8b9d78b6b6e147dda1245ec54d06a4bc",
      "ffbbdc10347d4bf58b6d4a4f8c073ac8",
      "bf39e63b6626414aaebd2d863e2636a2",
      "3becbff09a394070af31319aeb4a2722",
      "8c086f9bb6cb4be98c2380813335dcac",
      "5f773cdefb664944b8936bb4e57f609f",
      "e1e8bb2977f8499287be7409537e5952",
      "2afe19166ff448b491c685f228f2962a",
      "7f061e3fb4744126b8e8acac2686f7b9",
      "3f2ecda557434ef498f7683d226334b2",
      "0196ee12d9ca4985ae8232c737373b63",
      "60623f4d6e1e4890abed7dde1a119a10",
      "0434323e6f7d4931ad64e287f3452943",
      "556b7c9671dd427eb309d23ba4700e70",
      "f6ee0fe0152944f48b733bc3b162214e",
      "de308fa0d58b4dbfae0a9e871073a89c",
      "2672893e68634fc091fea6cf2a7804f1",
      "502f04cae2bb40319e7ee791b20e4eb4",
      "0f85dc45c2c84aa596fac440dbd834ab",
      "b81274a95ff1433cb3e265638bca7906",
      "dcf4ea29acf34b8fa4f96a015a8643c2",
      "a03c41e0d74d475292d8895cf6001ed2"
     ]
    },
    "id": "hCyZ0TemIUOe",
    "outputId": "166124ab-92c2-4ebc-f2e4-467073b56dd9"
   },
   "outputs": [],
   "source": [
    "# HIDE OUTPUT\n",
    "from transformers import AutoTokenizer\n",
    "\n",
    "def tokenize(rows):\n",
    "    return tokenizer(rows['text'], padding=\"max_length\", truncation=True)\n",
    "\n",
    "model_ckpt = \"distilbert-base-uncased\"\n",
    "tokenizer = AutoTokenizer.from_pretrained(model_ckpt)\n",
    "\n",
    "emotions.set_format(type=None)\n",
    "\n",
    "tokenized_datasets = emotions.map(tokenize, batched=True)\n"
   ]
  },
  {
   "cell_type": "markdown",
   "metadata": {
    "id": "TqZAt1gKOf9M"
   },
   "source": [
    "We begin by importing the needed libraries from PyTorch and HuggingFace."
   ]
  },
  {
   "cell_type": "code",
   "execution_count": null,
   "metadata": {
    "id": "mjbt7ysHFFqh"
   },
   "outputs": [],
   "source": [
    "import torch\n",
    "from torch.utils.data import DataLoader, RandomSampler, SequentialSampler\n",
    "from transformers import (\n",
    "    DistilBertTokenizerFast,\n",
    "    DistilBertForSequenceClassification,\n",
    "    default_data_collator,\n",
    "    TrainingArguments,\n",
    "    Trainer\n",
    ")"
   ]
  },
  {
   "cell_type": "markdown",
   "metadata": {
    "id": "duVS5rGnOgsi"
   },
   "source": [
    "Now we generate a shuffled training and evaluation data set."
   ]
  },
  {
   "cell_type": "code",
   "execution_count": null,
   "metadata": {
    "id": "LtrWFaUrFSvd"
   },
   "outputs": [],
   "source": [
    "small_train_dataset = tokenized_datasets[\"train\"].shuffle(seed=42)\n",
    "small_eval_dataset = tokenized_datasets[\"test\"].shuffle(seed=42)\n"
   ]
  },
  {
   "cell_type": "markdown",
   "metadata": {
    "id": "GXHJF5jJpOuF"
   },
   "source": [
    "We can now generate the PyTorch data sets and setup the data loaders."
   ]
  },
  {
   "cell_type": "code",
   "execution_count": null,
   "metadata": {
    "id": "sg8WkrLWFLpC"
   },
   "outputs": [],
   "source": [
    "# Create PyTorch DataLoaders\n",
    "train_dataloader = DataLoader(\n",
    "    small_train_dataset,\n",
    "    sampler=RandomSampler(small_train_dataset),\n",
    "    batch_size=8,\n",
    "    collate_fn=default_data_collator,\n",
    ")\n",
    "\n",
    "eval_dataloader = DataLoader(\n",
    "    small_eval_dataset,\n",
    "    sampler=SequentialSampler(small_eval_dataset),\n",
    "    batch_size=8,\n",
    "    collate_fn=default_data_collator,\n",
    ")"
   ]
  },
  {
   "cell_type": "markdown",
   "metadata": {
    "id": "krftWTBHpjv6"
   },
   "source": [
    "We will now load the distilbert model for classification. We will adjust the pretrained weights to predict the emotions of text lines."
   ]
  },
  {
   "cell_type": "code",
   "execution_count": null,
   "metadata": {
    "colab": {
     "base_uri": "https://localhost:8080/",
     "height": 105,
     "referenced_widgets": [
      "bc6b49bf493943e99ddc87d53b2afda8",
      "772467cdf8cf4205a8a64282e7527f12",
      "286fafa66f054bf8bb3460dc9d49ba75",
      "75ef4c1095ba478f96d50be5411f85ee",
      "1e26119710834047a32ca28f991f2a1a",
      "79ea838c48f347fabf122ce9e5edd002",
      "e26c79760b1047d486a0e1ff966e9800",
      "02493f0b0b4a45c28415ef2cf4ef55b0",
      "8e035ae453c64f8da2e06718a6b1771a",
      "b9565f15478349fdbf3c23363e212c57",
      "76cb1e80edf64712be78cae96d8e3eea"
     ]
    },
    "id": "YhzmY9INH6gu",
    "outputId": "66be34e3-8911-491a-b0bc-7b28ddfefb93"
   },
   "outputs": [],
   "source": [
    "# Instantiate model\n",
    "model = DistilBertForSequenceClassification.from_pretrained(\n",
    "    \"distilbert-base-uncased\", num_labels=6\n",
    ")"
   ]
  },
  {
   "cell_type": "markdown",
   "metadata": {
    "id": "PyIQ2HGexAKZ"
   },
   "source": [
    "We now train the neural network. Because the network is already pretrained, we use a small learning rate."
   ]
  },
  {
   "cell_type": "code",
   "execution_count": null,
   "metadata": {
    "colab": {
     "base_uri": "https://localhost:8080/",
     "height": 1000
    },
    "id": "REjb5ZS7KIcB",
    "outputId": "6adba567-aece-4dd9-e549-85922b036fad"
   },
   "outputs": [],
   "source": [
    "# Set up Trainer and TrainingArguments\n",
    "training_args = TrainingArguments(\n",
    "    output_dir='./results',\n",
    "    num_train_epochs=5,\n",
    "    per_device_train_batch_size=8,\n",
    "    per_device_eval_batch_size=8,\n",
    "    warmup_steps=500,\n",
    "    weight_decay=0.01,\n",
    "    logging_dir='./logs',\n",
    ")\n",
    "\n",
    "trainer = Trainer(\n",
    "    model=model,\n",
    "    args=training_args,\n",
    "    train_dataset=small_train_dataset,\n",
    "    eval_dataset=small_eval_dataset,\n",
    "    data_collator=default_data_collator,\n",
    ")\n",
    "\n",
    "# Train the model\n",
    "trainer.train()"
   ]
  }
 ],
 "metadata": {
  "accelerator": "GPU",
  "anaconda-cloud": {},
  "colab": {
   "provenance": []
  },
  "kernelspec": {
   "display_name": "Python 3.9 (torch)",
   "language": "python",
   "name": "pytorch"
  },
  "language_info": {
   "codemirror_mode": {
    "name": "ipython",
    "version": 3
   },
   "file_extension": ".py",
   "mimetype": "text/x-python",
   "name": "python",
   "nbconvert_exporter": "python",
   "pygments_lexer": "ipython3",
   "version": "3.9.18"
  },
  "varInspector": {
   "cols": {
    "lenName": 16,
    "lenType": 16,
    "lenVar": 40
   },
   "kernels_config": {
    "python": {
     "delete_cmd_postfix": "",
     "delete_cmd_prefix": "del ",
     "library": "var_list.py",
     "varRefreshCmd": "print(var_dic_list())"
    },
    "r": {
     "delete_cmd_postfix": ") ",
     "delete_cmd_prefix": "rm(",
     "library": "var_list.r",
     "varRefreshCmd": "cat(var_dic_list()) "
    }
   },
   "types_to_exclude": [
    "module",
    "function",
    "builtin_function_or_method",
    "instance",
    "_Feature"
   ],
   "window_display": false
  }
 },
 "nbformat": 4,
 "nbformat_minor": 0
}
