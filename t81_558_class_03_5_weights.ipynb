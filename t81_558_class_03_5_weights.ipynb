{
 "cells": [
  {
   "cell_type": "markdown",
   "metadata": {
    "id": "D1YckhFFt3dX"
   },
   "source": [
    "<a href=\"https://colab.research.google.com/github/jeffheaton/t81_558_deep_learning/blob/pytorch/t81_558_class_03_5_weights.ipynb\" target=\"_parent\"><img src=\"https://colab.research.google.com/assets/colab-badge.svg\" alt=\"Open In Colab\"/></a>"
   ]
  },
  {
   "cell_type": "markdown",
   "metadata": {
    "id": "2NjXzp7Ct3dZ"
   },
   "source": [
    "# T81-558: Applications of Deep Neural Networks\n",
    "**Module 3: Introduction to PyTorch**\n",
    "* Instructor: [Jeff Heaton](https://sites.wustl.edu/jeffheaton/), McKelvey School of Engineering, [Washington University in St. Louis](https://engineering.wustl.edu/Programs/Pages/default.aspx)\n",
    "* For more information visit the [class website](https://sites.wustl.edu/jeffheaton/t81-558/)."
   ]
  },
  {
   "cell_type": "markdown",
   "metadata": {
    "id": "579xVDYht3dZ"
   },
   "source": [
    "# Module 3 Material\n",
    "\n",
    "* Part 3.1: Deep Learning and Neural Network Introduction [[Video]](https://www.youtube.com/watch?v=OaJntP14cRA&list=PLjy4p-07OYzuy_lHcRW8lPTLPTTOmUpmi) [[Notebook]](t81_558_class_03_1_neural_net.ipynb)\n",
    "* Part 3.2: Introduction to PyTorch [[Video]](https://www.youtube.com/watch?v=z5X2qV5h_p0&list=PLjy4p-07OYzuy_lHcRW8lPTLPTTOmUpmi) [[Notebook]](t81_558_class_03_2_pytorch.ipynb)\n",
    "* Part 3.3: Saving and Loading a PyTorch Neural Network [[Video]](https://www.youtube.com/watch?v=NkG8w_Ua2Yo&list=PLjy4p-07OYzuy_lHcRW8lPTLPTTOmUpmi) [[Notebook]](t81_558_class_03_3_save_load.ipynb)\n",
    "* Part 3.4: Early Stopping in PyTorch to Prevent Overfitting [[Video]](https://www.youtube.com/watch?v=7Fboe7_aTtY&list=PLjy4p-07OYzuy_lHcRW8lPTLPTTOmUpmi) [[Notebook]](t81_558_class_03_4_early_stop.ipynb)\n",
    "* **Part 3.5: Extracting Weights and Manual Calculation** [[Video]](https://www.youtube.com/watch?v=Fw9VqcqFP_c&list=PLjy4p-07OYzuy_lHcRW8lPTLPTTOmUpmi) [[Notebook]](t81_558_class_03_5_weights.ipynb)"
   ]
  },
  {
   "cell_type": "markdown",
   "metadata": {
    "id": "GWjpnojUt3da"
   },
   "source": [
    "# Google CoLab Instructions\n",
    "\n",
    "The following code ensures that Google CoLab is running and maps Google Drive if needed."
   ]
  },
  {
   "cell_type": "code",
   "execution_count": 1,
   "metadata": {
    "colab": {
     "base_uri": "https://localhost:8080/"
    },
    "id": "L03QpouKt3da",
    "outputId": "fcffccbb-c3c3-45c8-e395-6b5fae3671e5"
   },
   "outputs": [
    {
     "name": "stdout",
     "output_type": "stream",
     "text": [
      "Note: using Google CoLab\n"
     ]
    }
   ],
   "source": [
    "try:\n",
    "    import google.colab\n",
    "    COLAB = True\n",
    "    print(\"Note: using Google CoLab\")\n",
    "except:\n",
    "    print(\"Note: not using Google CoLab\")\n",
    "    COLAB = False"
   ]
  },
  {
   "cell_type": "markdown",
   "metadata": {
    "id": "Oo2dzhixt3db"
   },
   "source": [
    "# Part 3.5: Extracting Weights and Manual Network Calculation\n",
    "\n",
    "## Weight Initialization\n",
    "\n",
    "The weights of a neural network determine the output for the neural network. The training process can adjust these weights, so the neural network produces useful output. Most neural network training algorithms begin by initializing the weights to a random state. Training then progresses through iterations that continuously improve the weights to produce better output.\n",
    "\n",
    "The random weights of a neural network impact how well that neural network can be trained. If a neural network fails to train, you can remedy the problem by simply restarting with a new set of random weights. However, this solution can be frustrating when you are experimenting with the architecture of a neural network and trying different combinations of hidden layers and neurons. If you add a new layer, and the network’s performance improves, you must ask yourself if this improvement resulted from the new layer or from a new set of weights. Because of this uncertainty, we look for two key attributes in a weight initialization algorithm:\n",
    "\n",
    "* How consistently does this algorithm provide good weights?\n",
    "* How much of an advantage do the weights of the algorithm provide?\n",
    "\n",
    "One of the most common yet least practical approaches to weight initialization is to set the weights to random values within a specific range. Numbers between -1 and +1 or -5 and +5 are often the choice. If you want to ensure that you get the same set of random weights each time, you should use a seed. The seed specifies a set of predefined random weights to use. For example, a seed of 1000 might produce random weights of 0.5, 0.75, and 0.2. These values are still random; you cannot predict them, yet you will always get these values when you choose a seed of 1000. \n",
    "Not all seeds are created equal. One problem with random weight initialization is that the random weights created by some seeds are much more difficult to train than others. The weights can be so bad that training is impossible. If you cannot train a neural network with a particular weight set, you should generate a new set of weights using a different seed.\n",
    "\n",
    "Because weight initialization is a problem, considerable research has been around it. By default, PyTorch uses a [uniform random distribution](https://discuss.pytorch.org/t/how-are-layer-weights-and-biases-initialized-by-default/13073) based on the size of the layer. The Xavier weight initialization algorithm, introduced in 2006 by Glorot & Bengio[[Cite:glorot2010understanding]](http://proceedings.mlr.press/v9/glorot10a/glorot10a.pdf), is also a common choice for weight initialization. This relatively simple algorithm uses normally distributed random numbers.  \n",
    "\n",
    "To use the Xavier weight initialization, it is necessary to understand that normally distributed random numbers are not the typical random numbers between 0 and 1 that most programming languages generate. Normally distributed random numbers are centered on a mean ($\\mu$, mu) that is typically 0. If 0 is the center (mean), then you will get an equal number of random numbers above and below 0. The next question is how far these random numbers will venture from 0. In theory, you could end up with both positive and negative numbers close to the maximum positive and negative ranges supported by your computer. However, the reality is that you will more likely see random numbers that are between 0 and three standard deviations from the center.\n",
    "\n",
    "The standard deviation ($\\sigma$, sigma) parameter specifies the size of this standard deviation. For example, if you specified a standard deviation of 10, you would mainly see random numbers between -30 and +30, and the numbers nearer to 0 have a much higher probability of being selected.  \n",
    "\n",
    "The above figure illustrates that the center, which in this case is 0, will be generated with a 0.4 (40%) probability. Additionally, the probability decreases very quickly beyond -2 or +2 standard deviations. By defining the center and how large the standard deviations are, you can control the range of random numbers that you will receive.\n",
    "\n",
    "The Xavier weight initialization sets all weights to normally distributed random numbers. These weights are always centered at 0; however, their standard deviation varies depending on how many connections are present for the current layer of weights. Specifically, Equation 4.2 can determine the standard deviation:\n",
    "\n",
    "$$ Var(W) = \\frac{2}{n_{in}+n_{out}} $$\n",
    "\n",
    "The above equation shows how to obtain the variance for all weights. The square root of the variance is the standard deviation. Most random number generators accept a standard deviation rather than a variance. As a result, you usually need to take the square root of the above equation. Figure 3.XAVIER shows how this algorithm might initialize one layer. \n",
    "\n",
    "**Figure 3.XAVIER: Xavier Weight Initialization**\n",
    "![Xavier Weight Initialization](https://github.com/jeffheaton/t81_558_deep_learning/blob/pytorch/images/xavier_weight.png?raw=1)\n",
    "\n",
    "We complete this process for each layer in the neural network.  \n",
    "\n",
    "## Manual Neural Network Calculation\n",
    "\n",
    "This section will build a neural network and analyze it down the individual weights. We will train a simple neural network that learns the XOR function. It is not hard to hand-code the neurons to provide an [XOR function](https://en.wikipedia.org/wiki/Exclusive_or); however, we will allow PyTorch for simplicity to train this network for us. The neural network is small, with two inputs, two hidden neurons, and a single output. We will use 100K epochs on the ADAM optimizer. This approach is overkill, but it gets the result, and our focus here is not on tuning."
   ]
  },
  {
   "cell_type": "code",
   "execution_count": 2,
   "metadata": {
    "colab": {
     "base_uri": "https://localhost:8080/"
    },
    "id": "J6julf33t3dc",
    "outputId": "90624c7c-bb0d-4072-931d-09e1a72e673b"
   },
   "outputs": [
    {
     "name": "stdout",
     "output_type": "stream",
     "text": [
      "Epoch: 100, 0.2602725625038147\n",
      "Epoch: 200, 0.11703130602836609\n",
      "Epoch: 300, 0.01011891569942236\n",
      "Final loss: 0.009912579320371151\n"
     ]
    }
   ],
   "source": [
    "import torch\n",
    "import torch.nn as nn\n",
    "import torch.nn.functional as F\n",
    "import torch.optim as optim\n",
    "import numpy as np\n",
    "\n",
    "x = torch.Tensor(\n",
    "    [[0,0],\n",
    "     [0,1], \n",
    "     [1,0], \n",
    "     [1,1]])\n",
    "y = torch.Tensor([0,1,1,0]).view(-1,1)\n",
    "\n",
    "class Net(nn.Module):\n",
    "    def __init__(self, input_dim = 2, output_dim=1):\n",
    "        super(Net, self).__init__()\n",
    "        self.lin1 = nn.Linear(input_dim, 2)\n",
    "        self.lin2 = nn.Linear(2, output_dim)\n",
    "    \n",
    "    def forward(self, x):\n",
    "        x = self.lin1(x)\n",
    "        x = torch.relu(x)\n",
    "        x = self.lin2(x)\n",
    "        return x\n",
    "\n",
    "    def reset(self):\n",
    "      for layer in self.children():\n",
    "        if hasattr(layer, 'reset_parameters'):\n",
    "            layer.reset_parameters()\n",
    "\n",
    "# Seed the neural network so we have consistant (yet random) startinf\n",
    "# weights.\n",
    "torch.manual_seed(60)\n",
    "model = Net()\n",
    "\n",
    "loss_func = nn.MSELoss()\n",
    "\n",
    "#optimizer = optim.SGD(model.parameters(), lr=0.02, momentum=0.9)\n",
    "optimizer = torch.optim.Adam(model.parameters(), lr=0.01)\n",
    "\n",
    "i = 0\n",
    "loss = 1\n",
    "while loss>1e-2:\n",
    "  i += 1\n",
    "  optimizer.zero_grad()\n",
    "  pred = model(x)\n",
    "  loss = loss_func.forward(pred, y)\n",
    "  loss.backward()\n",
    "  optimizer.step()\n",
    "        \n",
    "  if i % 100 == 0:\n",
    "    print(f\"Epoch: {i}, {loss}\")\n",
    "  #    print(\"Epoch: {0}, Loss: {1}, \".format(i, loss.data.numpy()[0]))\n",
    "  if i % 1000 == 0:\n",
    "    model.reset()\n",
    "\n",
    "print(f\"Final loss: {float(loss)}\")      "
   ]
  },
  {
   "cell_type": "markdown",
   "metadata": {
    "id": "x_q-gG0ft3dd"
   },
   "source": [
    "The output above should have two numbers near 0.0 for the first and fourth spots (input [0,0] and [1,1]). The middle two numbers should be near 1.0 (input [1,0] and [0,1]).  These numbers are in scientific notation. Due to random starting weights, running the above through several cycles is sometimes necessary to get a good result. So that we get consistent yet random values in the book and videos, we use a random seed value of 60. We chose the value of 60 because it provides good results and ensures the underlying values do not change from the book or videos if this code is rerun.\n",
    "\n",
    "Now that we've trained the neural network, we can dump the weights.  "
   ]
  },
  {
   "cell_type": "code",
   "execution_count": 3,
   "metadata": {
    "colab": {
     "base_uri": "https://localhost:8080/"
    },
    "id": "5vnKjoDZxkNT",
    "outputId": "846bc483-825f-408a-89c8-86dce619ec6b"
   },
   "outputs": [
    {
     "name": "stdout",
     "output_type": "stream",
     "text": [
      "b0 -> l1l0 = 1.036415696144104\n",
      "b0 -> l1l1 = 1.3471280336380005\n",
      "l0n0 -> l1l0 = -1.0405253171920776\n",
      "l0n0 -> l1l1 = -1.0412225723266602\n",
      "l0n1 -> l1l0 = -0.6748256683349609\n",
      "l0n1 -> l1l1 = -0.6751413345336914\n",
      "b1 -> l2l0 = 0.1878463476896286\n",
      "l1n0 -> l2l0 = -1.6615756750106812\n",
      "l1n0 -> l2l1 = 1.1424684524536133\n"
     ]
    }
   ],
   "source": [
    "for layerNum, layer in enumerate(model.children()):\n",
    "  for toNeuronNum, bias in enumerate(layer.bias):\n",
    "        print(f'b{layerNum} -> l{layerNum+1}l{toNeuronNum} = {bias}')\n",
    "    \n",
    "  for fromNeuronNum, wgt in enumerate(layer.weight):\n",
    "      for toNeuronNum, wgt2 in enumerate(wgt):\n",
    "        print(f'l{layerNum}n{fromNeuronNum} '\n",
    "              f'-> l{layerNum+1}l{toNeuronNum} = {wgt2}')"
   ]
  },
  {
   "cell_type": "markdown",
   "metadata": {
    "id": "4MsOOKiTt3de"
   },
   "source": [
    "If you change the seed, you probably get different weights.  There are many ways to solve the XOR function.\n",
    "\n",
    "In the next section, we copy/paste the weights from above and recreate the calculations done by the neural network. I converted these weights to Python code.\n",
    "\n"
   ]
  },
  {
   "cell_type": "code",
   "execution_count": 4,
   "metadata": {
    "id": "cLqsUQRAUbi6"
   },
   "outputs": [],
   "source": [
    "b0_l1l0 = 1.036415696144104\n",
    "b0_l1l1 = 1.3471280336380005\n",
    "l0n0_l1l0 = -1.0405253171920776\n",
    "l0n0_l1l1 = -1.0412225723266602\n",
    "l0n1_l1l0 = -0.6748256683349609\n",
    "l0n1_l1l1 = -0.6751413345336914\n",
    "b1_l2l0 = 0.1878463476896286\n",
    "l1n0_l2l0 = -1.6615756750106812\n",
    "l1n0_l2l1 = 1.1424684524536133"
   ]
  },
  {
   "cell_type": "markdown",
   "metadata": {
    "id": "NW8qsx84bB8j"
   },
   "source": [
    "We can now calculate the output of the neural network for any two inputs."
   ]
  },
  {
   "cell_type": "code",
   "execution_count": 5,
   "metadata": {
    "colab": {
     "base_uri": "https://localhost:8080/"
    },
    "id": "qF1PzHMft3de",
    "outputId": "3ca1254d-0893-4544-bc2b-b3a51c2bc76d"
   },
   "outputs": [
    {
     "name": "stdout",
     "output_type": "stream",
     "text": [
      "Final output: 0.9555699518847405\n"
     ]
    }
   ],
   "source": [
    "# Choose your two inputs\n",
    "input0 = 0\n",
    "input1 = 1\n",
    "\n",
    "# Calculate the hidden layer\n",
    "hidden0Sum = (input0*l0n0_l1l0)+(input1*l0n0_l1l1)+b0_l1l0\n",
    "hidden1Sum = (input0*l0n1_l1l0)+(input1*l0n1_l1l1)+b0_l1l1\n",
    "\n",
    "# Relu Activation function\n",
    "hidden0 = max(0,hidden0Sum)\n",
    "hidden1 = max(0,hidden1Sum)\n",
    "\n",
    "# Calculate the output layer\n",
    "output = (hidden0*l1n0_l2l0)+(hidden1*l1n0_l2l1)+b1_l2l0\n",
    "\n",
    "print(f\"Final output: {output}\")"
   ]
  },
  {
   "cell_type": "markdown",
   "metadata": {
    "id": "ueUveorVbnNm"
   },
   "source": [
    "As you can see, we get an output near the value of 1.0 for our inputs of 0 and 1. This value is consistent with the XOR operator and is the same output that PyTorch would provide for these weights."
   ]
  }
 ],
 "metadata": {
  "anaconda-cloud": {},
  "colab": {
   "collapsed_sections": [],
   "provenance": []
  },
  "kernelspec": {
   "display_name": "Python 3.9 (tensorflow)",
   "language": "python",
   "name": "tensorflow"
  },
  "language_info": {
   "codemirror_mode": {
    "name": "ipython",
    "version": 3
   },
   "file_extension": ".py",
   "mimetype": "text/x-python",
   "name": "python",
   "nbconvert_exporter": "python",
   "pygments_lexer": "ipython3",
   "version": "3.9.13"
  },
  "varInspector": {
   "cols": {
    "lenName": 16,
    "lenType": 16,
    "lenVar": 40
   },
   "kernels_config": {
    "python": {
     "delete_cmd_postfix": "",
     "delete_cmd_prefix": "del ",
     "library": "var_list.py",
     "varRefreshCmd": "print(var_dic_list())"
    },
    "r": {
     "delete_cmd_postfix": ") ",
     "delete_cmd_prefix": "rm(",
     "library": "var_list.r",
     "varRefreshCmd": "cat(var_dic_list()) "
    }
   },
   "types_to_exclude": [
    "module",
    "function",
    "builtin_function_or_method",
    "instance",
    "_Feature"
   ],
   "window_display": false
  }
 },
 "nbformat": 4,
 "nbformat_minor": 1
}
